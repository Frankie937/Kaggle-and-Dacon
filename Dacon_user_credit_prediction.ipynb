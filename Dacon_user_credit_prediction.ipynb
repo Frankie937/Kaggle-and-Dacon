{
 "cells": [
  {
   "cell_type": "code",
   "execution_count": null,
   "metadata": {
    "colab": {
     "base_uri": "https://localhost:8080/"
    },
    "executionInfo": {
     "elapsed": 1028,
     "status": "ok",
     "timestamp": 1618385086543,
     "user": {
      "displayName": "mana9017 Z",
      "photoUrl": "",
      "userId": "12890573916331922228"
     },
     "user_tz": -540
    },
    "id": "KofLsavcfCFI",
    "outputId": "cc95da5a-4fb2-4dc8-ad01-2372ca1326c8"
   },
   "outputs": [
    {
     "name": "stdout",
     "output_type": "stream",
     "text": [
      "mkdir: cannot create directory ‘data’: File exists\n"
     ]
    }
   ],
   "source": [
    "!mkdir data"
   ]
  },
  {
   "cell_type": "code",
   "execution_count": null,
   "metadata": {
    "id": "ntts5788fGxD"
   },
   "outputs": [],
   "source": [
    "!cp \"/content/drive/MyDrive/Dacon/data/train.csv\" \"/content/data/train.csv\"\n",
    "!cp \"/content/drive/MyDrive/Dacon/data/test.csv\" \"/content/data/test.csv\"\n",
    "!cp \"/content/drive/MyDrive/Dacon/data/sample_submission.csv\" \"/content/data/sample_submission.csv\""
   ]
  },
  {
   "cell_type": "code",
   "execution_count": null,
   "metadata": {
    "colab": {
     "base_uri": "https://localhost:8080/"
    },
    "executionInfo": {
     "elapsed": 4833,
     "status": "ok",
     "timestamp": 1618385090381,
     "user": {
      "displayName": "mana9017 Z",
      "photoUrl": "",
      "userId": "12890573916331922228"
     },
     "user_tz": -540
    },
    "id": "CUGMaKx-dAuM",
    "outputId": "289e9ad6-0c9e-48e1-e95f-454a1306ba1b"
   },
   "outputs": [
    {
     "name": "stdout",
     "output_type": "stream",
     "text": [
      "Requirement already satisfied: bayesian-optimization in /usr/local/lib/python3.7/dist-packages (1.2.0)\n",
      "Requirement already satisfied: numpy>=1.9.0 in /usr/local/lib/python3.7/dist-packages (from bayesian-optimization) (1.19.5)\n",
      "Requirement already satisfied: scikit-learn>=0.18.0 in /usr/local/lib/python3.7/dist-packages (from bayesian-optimization) (0.22.2.post1)\n",
      "Requirement already satisfied: scipy>=0.14.0 in /usr/local/lib/python3.7/dist-packages (from bayesian-optimization) (1.4.1)\n",
      "Requirement already satisfied: joblib>=0.11 in /usr/local/lib/python3.7/dist-packages (from scikit-learn>=0.18.0->bayesian-optimization) (1.0.1)\n"
     ]
    }
   ],
   "source": [
    "import warnings\n",
    "warnings.filterwarnings('ignore')\n",
    "import numpy as np\n",
    "import pandas as pd   \n",
    "import matplotlib.pyplot as plt\n",
    "import seaborn as sns\n",
    "import itertools\n",
    "\n",
    "from sklearn.model_selection import train_test_split\n",
    "from sklearn.metrics import accuracy_score, confusion_matrix, log_loss, f1_score\n",
    "\n",
    "from sklearn.linear_model import LogisticRegression\n",
    "from sklearn.tree import DecisionTreeClassifier\n",
    "\n",
    "from xgboost import XGBClassifier\n",
    "from lightgbm import LGBMClassifier\n",
    "from lightgbm import plot_importance\n",
    "from sklearn import svm\n",
    "from sklearn.ensemble import RandomForestClassifier\n",
    "!pip install bayesian-optimization\n",
    "from bayes_opt import BayesianOptimization\n"
   ]
  },
  {
   "cell_type": "code",
   "execution_count": null,
   "metadata": {
    "id": "XG_rtqPNdQfd"
   },
   "outputs": [],
   "source": [
    "train = pd.read_csv('/content/data/train.csv')\n",
    "test = pd.read_csv('/content/data/test.csv')\n",
    "submission = pd.read_csv('/content/data/sample_submission.csv')"
   ]
  },
  {
   "cell_type": "markdown",
   "metadata": {
    "id": "bNuIcdXitE5d"
   },
   "source": [
    "### 1. 데이터 로드"
   ]
  },
  {
   "cell_type": "code",
   "execution_count": null,
   "metadata": {
    "colab": {
     "base_uri": "https://localhost:8080/"
    },
    "executionInfo": {
     "elapsed": 4806,
     "status": "ok",
     "timestamp": 1618385090383,
     "user": {
      "displayName": "mana9017 Z",
      "photoUrl": "",
      "userId": "12890573916331922228"
     },
     "user_tz": -540
    },
    "id": "fVgbndXddaBS",
    "outputId": "3e186945-0add-45b8-d1c0-4cf3bb9f46cc"
   },
   "outputs": [
    {
     "data": {
      "text/plain": [
       "(26457, 20)"
      ]
     },
     "execution_count": 604,
     "metadata": {
      "tags": []
     },
     "output_type": "execute_result"
    }
   ],
   "source": [
    "train.shape"
   ]
  },
  {
   "cell_type": "code",
   "execution_count": null,
   "metadata": {
    "colab": {
     "base_uri": "https://localhost:8080/"
    },
    "executionInfo": {
     "elapsed": 4800,
     "status": "ok",
     "timestamp": 1618385090384,
     "user": {
      "displayName": "mana9017 Z",
      "photoUrl": "",
      "userId": "12890573916331922228"
     },
     "user_tz": -540
    },
    "id": "XFbVQ16odoaU",
    "outputId": "e63522b5-61a7-47fa-bb2b-a188acada476"
   },
   "outputs": [
    {
     "name": "stdout",
     "output_type": "stream",
     "text": [
      "<class 'pandas.core.frame.DataFrame'>\n",
      "RangeIndex: 26457 entries, 0 to 26456\n",
      "Data columns (total 20 columns):\n",
      " #   Column         Non-Null Count  Dtype  \n",
      "---  ------         --------------  -----  \n",
      " 0   index          26457 non-null  int64  \n",
      " 1   gender         26457 non-null  object \n",
      " 2   car            26457 non-null  object \n",
      " 3   reality        26457 non-null  object \n",
      " 4   child_num      26457 non-null  int64  \n",
      " 5   income_total   26457 non-null  float64\n",
      " 6   income_type    26457 non-null  object \n",
      " 7   edu_type       26457 non-null  object \n",
      " 8   family_type    26457 non-null  object \n",
      " 9   house_type     26457 non-null  object \n",
      " 10  DAYS_BIRTH     26457 non-null  int64  \n",
      " 11  DAYS_EMPLOYED  26457 non-null  int64  \n",
      " 12  FLAG_MOBIL     26457 non-null  int64  \n",
      " 13  work_phone     26457 non-null  int64  \n",
      " 14  phone          26457 non-null  int64  \n",
      " 15  email          26457 non-null  int64  \n",
      " 16  occyp_type     18286 non-null  object \n",
      " 17  family_size    26457 non-null  float64\n",
      " 18  begin_month    26457 non-null  float64\n",
      " 19  credit         26457 non-null  float64\n",
      "dtypes: float64(4), int64(8), object(8)\n",
      "memory usage: 4.0+ MB\n"
     ]
    }
   ],
   "source": [
    "train.info()"
   ]
  },
  {
   "cell_type": "markdown",
   "metadata": {
    "id": "It6o1aN6r40g"
   },
   "source": [
    "### 2. 타겟값에 따라 continuous 피처의 분포도, categorical 피처의 분포도 확인 \n",
    "-> 주요 피처 확인"
   ]
  },
  {
   "cell_type": "code",
   "execution_count": null,
   "metadata": {
    "colab": {
     "base_uri": "https://localhost:8080/"
    },
    "executionInfo": {
     "elapsed": 4795,
     "status": "ok",
     "timestamp": 1618385090385,
     "user": {
      "displayName": "mana9017 Z",
      "photoUrl": "",
      "userId": "12890573916331922228"
     },
     "user_tz": -540
    },
    "id": "sGS4p2jFsHd2",
    "outputId": "28e6dada-bd8e-42b4-a373-2d4bb9864cf3"
   },
   "outputs": [
    {
     "name": "stdout",
     "output_type": "stream",
     "text": [
      "index            26457\n",
      "child_num            9\n",
      "income_total       249\n",
      "DAYS_BIRTH        6621\n",
      "DAYS_EMPLOYED     3470\n",
      "FLAG_MOBIL           1\n",
      "work_phone           2\n",
      "phone                2\n",
      "email                2\n",
      "family_size         10\n",
      "begin_month         61\n",
      "credit               3\n",
      "dtype: int64\n",
      "categorical feature ['FLAG_MOBIL', 'work_phone', 'phone', 'email', 'credit']\n",
      "continous feature ['income_total', 'DAYS_BIRTH', 'DAYS_EMPLOYED', 'begin_month', 'child_num', 'family_size']\n"
     ]
    }
   ],
   "source": [
    "# numeric 피처 중에 categorical/continuous 피처 분리\n",
    "num_columns = train.dtypes[train.dtypes != 'object'].index.tolist()\n",
    "unique_len_num = train[num_columns].apply(lambda x : len(x.unique()))\n",
    "print(unique_len_num)\n",
    "# unique_len_num 보면서 분리 \n",
    "continuous = ['index','income_total', 'DAYS_BIRTH', 'DAYS_EMPLOYED','begin_month', 'child_num', 'family_size']\n",
    "ordinal = ['family_size', 'child_num'] # 혹시나 해서 ordinal 피처를 다시 분리 해놓기 \n",
    "categorical = [column for column in num_columns if column not in continuous]\n",
    "print('categorical feature', categorical)\n",
    "del continuous[0]\n",
    "print('continous feature', continuous)"
   ]
  },
  {
   "cell_type": "code",
   "execution_count": null,
   "metadata": {
    "id": "PTB8L-jT6VD9"
   },
   "outputs": [],
   "source": [
    "def show_hist_by_target(df, columns):\n",
    "    cond_2 = (df['credit'] == 2)\n",
    "    cond_1 = (df['credit'] == 1)\n",
    "    cond_0 = (df['credit'] == 0)\n",
    "    \n",
    "    for column in columns:\n",
    "        fig, axs = plt.subplots(nrows=1, ncols=2, figsize=(12, 4), squeeze=False)\n",
    "        sns.violinplot(x='credit', y=column, data=df, ax=axs[0][0] )\n",
    "        sns.distplot(df[cond_0][column], ax=axs[0][1], label='0', color='blue')\n",
    "        sns.distplot(df[cond_1][column], ax=axs[0][1], label='1', color='red')\n",
    "        sns.distplot(df[cond_2][column], ax=axs[0][1], label='2', color='green')\n",
    "\n",
    "#show_hist_by_target(train, continuous)"
   ]
  },
  {
   "cell_type": "code",
   "execution_count": null,
   "metadata": {
    "colab": {
     "base_uri": "https://localhost:8080/"
    },
    "executionInfo": {
     "elapsed": 4783,
     "status": "ok",
     "timestamp": 1618385090387,
     "user": {
      "displayName": "mana9017 Z",
      "photoUrl": "",
      "userId": "12890573916331922228"
     },
     "user_tz": -540
    },
    "id": "vOTdxn6fuDKH",
    "outputId": "c1907440-d5db-438e-f431-b506a9fa7ca9"
   },
   "outputs": [
    {
     "name": "stdout",
     "output_type": "stream",
     "text": [
      "categorical feature ['gender', 'car', 'reality', 'income_type', 'edu_type', 'family_type', 'house_type', 'occyp_type', 'FLAG_MOBIL', 'work_phone', 'phone', 'email']\n"
     ]
    }
   ],
   "source": [
    "# object피처를 categorical 피처에 합치기\n",
    "object_columns = train.dtypes[train.dtypes == 'object'].index.tolist()\n",
    "categorical = object_columns + categorical\n",
    "del categorical[-1] # 'credit' 제거 \n",
    "print('categorical feature', categorical)"
   ]
  },
  {
   "cell_type": "code",
   "execution_count": null,
   "metadata": {
    "id": "8AC1IY5MyUfj"
   },
   "outputs": [],
   "source": [
    "# credit에 따라 categorical 피처들 분포 확인 \n",
    "def show_category_by_target(df, columns):\n",
    "    for column in columns:\n",
    "        chart = sns.catplot(x=column, col=\"credit\", data=df, kind=\"count\")\n",
    "        chart.set_xticklabels(rotation=65)\n",
    "        \n",
    "#show_category_by_target(train, categorical)"
   ]
  },
  {
   "cell_type": "code",
   "execution_count": null,
   "metadata": {
    "id": "kytjRMD5D0OV"
   },
   "outputs": [],
   "source": [
    "corr = train[continuous].corr()\n",
    "#sns.heatmap(corr, annot=True, cmap='Blues')"
   ]
  },
  {
   "cell_type": "markdown",
   "metadata": {
    "id": "5UU-d-toqmU9"
   },
   "source": [
    "### 3. train과 test 데이터 합쳐서 피처엔지니어링 "
   ]
  },
  {
   "cell_type": "code",
   "execution_count": null,
   "metadata": {
    "id": "cXOqQbeZgDa2"
   },
   "outputs": [],
   "source": [
    "data = pd.concat([train, test], axis=0)"
   ]
  },
  {
   "cell_type": "markdown",
   "metadata": {
    "id": "rnGApxXRtbn7"
   },
   "source": [
    "#### 3-0. 데이콘 강의_전처리 부분 정리"
   ]
  },
  {
   "cell_type": "code",
   "execution_count": null,
   "metadata": {
    "colab": {
     "base_uri": "https://localhost:8080/"
    },
    "executionInfo": {
     "elapsed": 5316,
     "status": "ok",
     "timestamp": 1618385090953,
     "user": {
      "displayName": "mana9017 Z",
      "photoUrl": "",
      "userId": "12890573916331922228"
     },
     "user_tz": -540
    },
    "id": "GOIhCPCshQe0",
    "outputId": "49c9e351-1a3a-44a8-f6bc-441982d947e3"
   },
   "outputs": [
    {
     "data": {
      "text/plain": [
       "2"
      ]
     },
     "execution_count": 612,
     "metadata": {
      "tags": []
     },
     "output_type": "execute_result"
    }
   ],
   "source": [
    "len(data['gender'].unique())"
   ]
  },
  {
   "cell_type": "code",
   "execution_count": null,
   "metadata": {
    "id": "5BsX3S0elERF"
   },
   "outputs": [],
   "source": [
    "# 데이터의 모든 컬럼의 고유값의 개수를 확인  \n",
    "unique_len = data.apply(lambda x : len(x.unique()))"
   ]
  },
  {
   "cell_type": "code",
   "execution_count": null,
   "metadata": {
    "colab": {
     "base_uri": "https://localhost:8080/"
    },
    "executionInfo": {
     "elapsed": 5307,
     "status": "ok",
     "timestamp": 1618385090967,
     "user": {
      "displayName": "mana9017 Z",
      "photoUrl": "",
      "userId": "12890573916331922228"
     },
     "user_tz": -540
    },
    "id": "-MBFmeNelW42",
    "outputId": "b7a32eaa-50d9-4e06-cbbc-bc9965d8e4f4"
   },
   "outputs": [
    {
     "data": {
      "text/plain": [
       "index            36457\n",
       "gender               2\n",
       "car                  2\n",
       "reality              2\n",
       "child_num            9\n",
       "income_total       265\n",
       "income_type          5\n",
       "edu_type             5\n",
       "family_type          5\n",
       "house_type           6\n",
       "DAYS_BIRTH        7183\n",
       "DAYS_EMPLOYED     3640\n",
       "FLAG_MOBIL           1\n",
       "work_phone           2\n",
       "phone                2\n",
       "email                2\n",
       "occyp_type          19\n",
       "family_size         10\n",
       "begin_month         61\n",
       "credit               4\n",
       "dtype: int64"
      ]
     },
     "execution_count": 614,
     "metadata": {
      "tags": []
     },
     "output_type": "execute_result"
    }
   ],
   "source": [
    "unique_len"
   ]
  },
  {
   "cell_type": "code",
   "execution_count": null,
   "metadata": {
    "id": "Tw8VGnOhlYdj"
   },
   "outputs": [],
   "source": [
    "# 고유값 개수 2개 이하/ 2개 초과 10개 이하/ 10개 초과 그룹 3개로 나누기 \n",
    "group1 = unique_len[unique_len <= 2].index # binary \n",
    "group2 = unique_len[(unique_len > 2) & (unique_len <=10)].index # multi \n",
    "group3 = unique_len[unique_len > 10].index # contiunous "
   ]
  },
  {
   "cell_type": "code",
   "execution_count": null,
   "metadata": {
    "colab": {
     "base_uri": "https://localhost:8080/",
     "height": 415
    },
    "executionInfo": {
     "elapsed": 5289,
     "status": "ok",
     "timestamp": 1618385090973,
     "user": {
      "displayName": "mana9017 Z",
      "photoUrl": "",
      "userId": "12890573916331922228"
     },
     "user_tz": -540
    },
    "id": "6D-usiJhGQ74",
    "outputId": "9d7d03e2-9049-4f6e-929f-9cb1a4fb9bbf"
   },
   "outputs": [
    {
     "data": {
      "text/html": [
       "<div>\n",
       "<style scoped>\n",
       "    .dataframe tbody tr th:only-of-type {\n",
       "        vertical-align: middle;\n",
       "    }\n",
       "\n",
       "    .dataframe tbody tr th {\n",
       "        vertical-align: top;\n",
       "    }\n",
       "\n",
       "    .dataframe thead th {\n",
       "        text-align: right;\n",
       "    }\n",
       "</style>\n",
       "<table border=\"1\" class=\"dataframe\">\n",
       "  <thead>\n",
       "    <tr style=\"text-align: right;\">\n",
       "      <th></th>\n",
       "      <th>gender</th>\n",
       "      <th>car</th>\n",
       "      <th>reality</th>\n",
       "      <th>FLAG_MOBIL</th>\n",
       "      <th>work_phone</th>\n",
       "      <th>phone</th>\n",
       "      <th>email</th>\n",
       "    </tr>\n",
       "  </thead>\n",
       "  <tbody>\n",
       "    <tr>\n",
       "      <th>0</th>\n",
       "      <td>0</td>\n",
       "      <td>0</td>\n",
       "      <td>0</td>\n",
       "      <td>1</td>\n",
       "      <td>0</td>\n",
       "      <td>0</td>\n",
       "      <td>0</td>\n",
       "    </tr>\n",
       "    <tr>\n",
       "      <th>1</th>\n",
       "      <td>0</td>\n",
       "      <td>0</td>\n",
       "      <td>1</td>\n",
       "      <td>1</td>\n",
       "      <td>0</td>\n",
       "      <td>0</td>\n",
       "      <td>1</td>\n",
       "    </tr>\n",
       "    <tr>\n",
       "      <th>2</th>\n",
       "      <td>1</td>\n",
       "      <td>1</td>\n",
       "      <td>1</td>\n",
       "      <td>1</td>\n",
       "      <td>0</td>\n",
       "      <td>1</td>\n",
       "      <td>0</td>\n",
       "    </tr>\n",
       "    <tr>\n",
       "      <th>3</th>\n",
       "      <td>0</td>\n",
       "      <td>0</td>\n",
       "      <td>1</td>\n",
       "      <td>1</td>\n",
       "      <td>0</td>\n",
       "      <td>1</td>\n",
       "      <td>0</td>\n",
       "    </tr>\n",
       "    <tr>\n",
       "      <th>4</th>\n",
       "      <td>0</td>\n",
       "      <td>1</td>\n",
       "      <td>1</td>\n",
       "      <td>1</td>\n",
       "      <td>0</td>\n",
       "      <td>0</td>\n",
       "      <td>0</td>\n",
       "    </tr>\n",
       "    <tr>\n",
       "      <th>...</th>\n",
       "      <td>...</td>\n",
       "      <td>...</td>\n",
       "      <td>...</td>\n",
       "      <td>...</td>\n",
       "      <td>...</td>\n",
       "      <td>...</td>\n",
       "      <td>...</td>\n",
       "    </tr>\n",
       "    <tr>\n",
       "      <th>9995</th>\n",
       "      <td>0</td>\n",
       "      <td>1</td>\n",
       "      <td>1</td>\n",
       "      <td>1</td>\n",
       "      <td>1</td>\n",
       "      <td>1</td>\n",
       "      <td>0</td>\n",
       "    </tr>\n",
       "    <tr>\n",
       "      <th>9996</th>\n",
       "      <td>1</td>\n",
       "      <td>1</td>\n",
       "      <td>1</td>\n",
       "      <td>1</td>\n",
       "      <td>1</td>\n",
       "      <td>0</td>\n",
       "      <td>0</td>\n",
       "    </tr>\n",
       "    <tr>\n",
       "      <th>9997</th>\n",
       "      <td>0</td>\n",
       "      <td>0</td>\n",
       "      <td>1</td>\n",
       "      <td>1</td>\n",
       "      <td>0</td>\n",
       "      <td>0</td>\n",
       "      <td>0</td>\n",
       "    </tr>\n",
       "    <tr>\n",
       "      <th>9998</th>\n",
       "      <td>0</td>\n",
       "      <td>1</td>\n",
       "      <td>0</td>\n",
       "      <td>1</td>\n",
       "      <td>0</td>\n",
       "      <td>1</td>\n",
       "      <td>0</td>\n",
       "    </tr>\n",
       "    <tr>\n",
       "      <th>9999</th>\n",
       "      <td>0</td>\n",
       "      <td>0</td>\n",
       "      <td>1</td>\n",
       "      <td>1</td>\n",
       "      <td>0</td>\n",
       "      <td>0</td>\n",
       "      <td>1</td>\n",
       "    </tr>\n",
       "  </tbody>\n",
       "</table>\n",
       "<p>36457 rows × 7 columns</p>\n",
       "</div>"
      ],
      "text/plain": [
       "      gender  car  reality  FLAG_MOBIL  work_phone  phone  email\n",
       "0          0    0        0           1           0      0      0\n",
       "1          0    0        1           1           0      0      1\n",
       "2          1    1        1           1           0      1      0\n",
       "3          0    0        1           1           0      1      0\n",
       "4          0    1        1           1           0      0      0\n",
       "...      ...  ...      ...         ...         ...    ...    ...\n",
       "9995       0    1        1           1           1      1      0\n",
       "9996       1    1        1           1           1      0      0\n",
       "9997       0    0        1           1           0      0      0\n",
       "9998       0    1        0           1           0      1      0\n",
       "9999       0    0        1           1           0      0      1\n",
       "\n",
       "[36457 rows x 7 columns]"
      ]
     },
     "execution_count": 616,
     "metadata": {
      "tags": []
     },
     "output_type": "execute_result"
    }
   ],
   "source": [
    "# <group1> 전처리 \n",
    "data[group1] # 확인 결과, gender, car, reality 문자열값을 0,1로 바꿔주기 \n",
    "data['gender'] = data['gender'].replace(['F', 'M'], [0,1])\n",
    "data['car'] = data['car'].replace(['N','Y'], [0,1])\n",
    "data['reality'] = data['reality'].replace(['N','Y'],[0,1])\n",
    "data[group1]"
   ]
  },
  {
   "cell_type": "code",
   "execution_count": null,
   "metadata": {
    "colab": {
     "base_uri": "https://localhost:8080/",
     "height": 589
    },
    "executionInfo": {
     "elapsed": 5278,
     "status": "ok",
     "timestamp": 1618385090980,
     "user": {
      "displayName": "mana9017 Z",
      "photoUrl": "",
      "userId": "12890573916331922228"
     },
     "user_tz": -540
    },
    "id": "10M2a_5lLnTe",
    "outputId": "ece2fb7c-0a60-49b7-c073-b535c378d6c2"
   },
   "outputs": [
    {
     "data": {
      "text/html": [
       "<div>\n",
       "<style scoped>\n",
       "    .dataframe tbody tr th:only-of-type {\n",
       "        vertical-align: middle;\n",
       "    }\n",
       "\n",
       "    .dataframe tbody tr th {\n",
       "        vertical-align: top;\n",
       "    }\n",
       "\n",
       "    .dataframe thead th {\n",
       "        text-align: right;\n",
       "    }\n",
       "</style>\n",
       "<table border=\"1\" class=\"dataframe\">\n",
       "  <thead>\n",
       "    <tr style=\"text-align: right;\">\n",
       "      <th></th>\n",
       "      <th>child_num</th>\n",
       "      <th>income_type</th>\n",
       "      <th>edu_type</th>\n",
       "      <th>family_type</th>\n",
       "      <th>house_type</th>\n",
       "      <th>family_size</th>\n",
       "      <th>credit</th>\n",
       "    </tr>\n",
       "  </thead>\n",
       "  <tbody>\n",
       "    <tr>\n",
       "      <th>0</th>\n",
       "      <td>0</td>\n",
       "      <td>Commercial associate</td>\n",
       "      <td>Higher education</td>\n",
       "      <td>Married</td>\n",
       "      <td>Municipal apartment</td>\n",
       "      <td>2.0</td>\n",
       "      <td>1.0</td>\n",
       "    </tr>\n",
       "    <tr>\n",
       "      <th>1</th>\n",
       "      <td>1</td>\n",
       "      <td>Commercial associate</td>\n",
       "      <td>Secondary / secondary special</td>\n",
       "      <td>Civil marriage</td>\n",
       "      <td>House / apartment</td>\n",
       "      <td>3.0</td>\n",
       "      <td>1.0</td>\n",
       "    </tr>\n",
       "    <tr>\n",
       "      <th>2</th>\n",
       "      <td>0</td>\n",
       "      <td>Working</td>\n",
       "      <td>Higher education</td>\n",
       "      <td>Married</td>\n",
       "      <td>House / apartment</td>\n",
       "      <td>2.0</td>\n",
       "      <td>2.0</td>\n",
       "    </tr>\n",
       "    <tr>\n",
       "      <th>3</th>\n",
       "      <td>0</td>\n",
       "      <td>Commercial associate</td>\n",
       "      <td>Secondary / secondary special</td>\n",
       "      <td>Married</td>\n",
       "      <td>House / apartment</td>\n",
       "      <td>2.0</td>\n",
       "      <td>0.0</td>\n",
       "    </tr>\n",
       "    <tr>\n",
       "      <th>4</th>\n",
       "      <td>0</td>\n",
       "      <td>State servant</td>\n",
       "      <td>Higher education</td>\n",
       "      <td>Married</td>\n",
       "      <td>House / apartment</td>\n",
       "      <td>2.0</td>\n",
       "      <td>2.0</td>\n",
       "    </tr>\n",
       "    <tr>\n",
       "      <th>...</th>\n",
       "      <td>...</td>\n",
       "      <td>...</td>\n",
       "      <td>...</td>\n",
       "      <td>...</td>\n",
       "      <td>...</td>\n",
       "      <td>...</td>\n",
       "      <td>...</td>\n",
       "    </tr>\n",
       "    <tr>\n",
       "      <th>9995</th>\n",
       "      <td>0</td>\n",
       "      <td>Working</td>\n",
       "      <td>Incomplete higher</td>\n",
       "      <td>Married</td>\n",
       "      <td>House / apartment</td>\n",
       "      <td>2.0</td>\n",
       "      <td>NaN</td>\n",
       "    </tr>\n",
       "    <tr>\n",
       "      <th>9996</th>\n",
       "      <td>0</td>\n",
       "      <td>Working</td>\n",
       "      <td>Secondary / secondary special</td>\n",
       "      <td>Civil marriage</td>\n",
       "      <td>House / apartment</td>\n",
       "      <td>2.0</td>\n",
       "      <td>NaN</td>\n",
       "    </tr>\n",
       "    <tr>\n",
       "      <th>9997</th>\n",
       "      <td>0</td>\n",
       "      <td>Working</td>\n",
       "      <td>Secondary / secondary special</td>\n",
       "      <td>Married</td>\n",
       "      <td>House / apartment</td>\n",
       "      <td>2.0</td>\n",
       "      <td>NaN</td>\n",
       "    </tr>\n",
       "    <tr>\n",
       "      <th>9998</th>\n",
       "      <td>0</td>\n",
       "      <td>Commercial associate</td>\n",
       "      <td>Secondary / secondary special</td>\n",
       "      <td>Married</td>\n",
       "      <td>House / apartment</td>\n",
       "      <td>2.0</td>\n",
       "      <td>NaN</td>\n",
       "    </tr>\n",
       "    <tr>\n",
       "      <th>9999</th>\n",
       "      <td>0</td>\n",
       "      <td>Working</td>\n",
       "      <td>Higher education</td>\n",
       "      <td>Married</td>\n",
       "      <td>House / apartment</td>\n",
       "      <td>2.0</td>\n",
       "      <td>NaN</td>\n",
       "    </tr>\n",
       "  </tbody>\n",
       "</table>\n",
       "<p>36457 rows × 7 columns</p>\n",
       "</div>"
      ],
      "text/plain": [
       "      child_num           income_type  ... family_size credit\n",
       "0             0  Commercial associate  ...         2.0    1.0\n",
       "1             1  Commercial associate  ...         3.0    1.0\n",
       "2             0               Working  ...         2.0    2.0\n",
       "3             0  Commercial associate  ...         2.0    0.0\n",
       "4             0         State servant  ...         2.0    2.0\n",
       "...         ...                   ...  ...         ...    ...\n",
       "9995          0               Working  ...         2.0    NaN\n",
       "9996          0               Working  ...         2.0    NaN\n",
       "9997          0               Working  ...         2.0    NaN\n",
       "9998          0  Commercial associate  ...         2.0    NaN\n",
       "9999          0               Working  ...         2.0    NaN\n",
       "\n",
       "[36457 rows x 7 columns]"
      ]
     },
     "execution_count": 617,
     "metadata": {
      "tags": []
     },
     "output_type": "execute_result"
    }
   ],
   "source": [
    "# <group2> 전처리\n",
    "data[group2] \n",
    "# child_num 는 따로 처리, 레이블인코딩-income_type, family_type, house_type, 매핑처리(ordinary)-edu_type"
   ]
  },
  {
   "cell_type": "code",
   "execution_count": null,
   "metadata": {
    "id": "dwvEx0a9Ng7r"
   },
   "outputs": [],
   "source": [
    "# data['child_num'].value_counts().plot.bar()  #child_num의 분포를 보기 (value_counts()와 plot.bar() 이용 )\n",
    "# 3부터 19까지의 값은 거의 존재하지 않는 값이므로 이상치로 취급하고 2 초과인 값을 모두 2로 변경해주기 \n",
    "data.loc[data['child_num'] > 2, 'child_num'] = 2\n",
    "# data['child_num'].value_counts().plot.bar() # 다시 분포 확인 "
   ]
  },
  {
   "cell_type": "code",
   "execution_count": null,
   "metadata": {
    "id": "v1xW6T9SOX6x"
   },
   "outputs": [],
   "source": [
    "# sklearn.preprocessing의 LableEncoder 사용하여 income_type, family_type, house_type 처리 \n",
    "from sklearn.preprocessing import LabelEncoder\n",
    "label_encoder = LabelEncoder()"
   ]
  },
  {
   "cell_type": "code",
   "execution_count": null,
   "metadata": {
    "id": "I8l8hhHuPmes"
   },
   "outputs": [],
   "source": [
    "data['income_type'] = label_encoder.fit_transform(data['income_type'])\n",
    "data['family_type'] = label_encoder.fit_transform(data['family_type'])\n",
    "data['house_type'] = label_encoder.fit_transform(data['house_type'])"
   ]
  },
  {
   "cell_type": "code",
   "execution_count": null,
   "metadata": {
    "id": "q2IZOZgIOEua"
   },
   "outputs": [],
   "source": [
    "# ordinary 컬럼 edu_type 인코딩\n",
    "edu_order = {\n",
    "    'Lower secondary' : 0, # 중학교 미만\n",
    "    'Secondary / secondary special' : 1, #중학교\n",
    "    'Incomplete higher' : 2, # 고등학교 중퇴\n",
    "    'Higher education' : 3, # 고등학교 졸업\n",
    "     'Academic degree' : 4 # 학사 이상\n",
    "}\n",
    "data['edu_type'] = data['edu_type'].map(edu_order)"
   ]
  },
  {
   "cell_type": "code",
   "execution_count": null,
   "metadata": {
    "colab": {
     "base_uri": "https://localhost:8080/",
     "height": 415
    },
    "executionInfo": {
     "elapsed": 5254,
     "status": "ok",
     "timestamp": 1618385091003,
     "user": {
      "displayName": "mana9017 Z",
      "photoUrl": "",
      "userId": "12890573916331922228"
     },
     "user_tz": -540
    },
    "id": "veO_hA7EX1Ve",
    "outputId": "0c641da9-2a4c-4de8-bd48-df580eabc04a"
   },
   "outputs": [
    {
     "data": {
      "text/html": [
       "<div>\n",
       "<style scoped>\n",
       "    .dataframe tbody tr th:only-of-type {\n",
       "        vertical-align: middle;\n",
       "    }\n",
       "\n",
       "    .dataframe tbody tr th {\n",
       "        vertical-align: top;\n",
       "    }\n",
       "\n",
       "    .dataframe thead th {\n",
       "        text-align: right;\n",
       "    }\n",
       "</style>\n",
       "<table border=\"1\" class=\"dataframe\">\n",
       "  <thead>\n",
       "    <tr style=\"text-align: right;\">\n",
       "      <th></th>\n",
       "      <th>index</th>\n",
       "      <th>income_total</th>\n",
       "      <th>DAYS_BIRTH</th>\n",
       "      <th>DAYS_EMPLOYED</th>\n",
       "      <th>occyp_type</th>\n",
       "      <th>begin_month</th>\n",
       "    </tr>\n",
       "  </thead>\n",
       "  <tbody>\n",
       "    <tr>\n",
       "      <th>0</th>\n",
       "      <td>0</td>\n",
       "      <td>202500.0</td>\n",
       "      <td>-13899</td>\n",
       "      <td>-4709</td>\n",
       "      <td>NaN</td>\n",
       "      <td>-6.0</td>\n",
       "    </tr>\n",
       "    <tr>\n",
       "      <th>1</th>\n",
       "      <td>1</td>\n",
       "      <td>247500.0</td>\n",
       "      <td>-11380</td>\n",
       "      <td>-1540</td>\n",
       "      <td>Laborers</td>\n",
       "      <td>-5.0</td>\n",
       "    </tr>\n",
       "    <tr>\n",
       "      <th>2</th>\n",
       "      <td>2</td>\n",
       "      <td>450000.0</td>\n",
       "      <td>-19087</td>\n",
       "      <td>-4434</td>\n",
       "      <td>Managers</td>\n",
       "      <td>-22.0</td>\n",
       "    </tr>\n",
       "    <tr>\n",
       "      <th>3</th>\n",
       "      <td>3</td>\n",
       "      <td>202500.0</td>\n",
       "      <td>-15088</td>\n",
       "      <td>-2092</td>\n",
       "      <td>Sales staff</td>\n",
       "      <td>-37.0</td>\n",
       "    </tr>\n",
       "    <tr>\n",
       "      <th>4</th>\n",
       "      <td>4</td>\n",
       "      <td>157500.0</td>\n",
       "      <td>-15037</td>\n",
       "      <td>-2105</td>\n",
       "      <td>Managers</td>\n",
       "      <td>-26.0</td>\n",
       "    </tr>\n",
       "    <tr>\n",
       "      <th>...</th>\n",
       "      <td>...</td>\n",
       "      <td>...</td>\n",
       "      <td>...</td>\n",
       "      <td>...</td>\n",
       "      <td>...</td>\n",
       "      <td>...</td>\n",
       "    </tr>\n",
       "    <tr>\n",
       "      <th>9995</th>\n",
       "      <td>36452</td>\n",
       "      <td>202500.0</td>\n",
       "      <td>-18593</td>\n",
       "      <td>-5434</td>\n",
       "      <td>Accountants</td>\n",
       "      <td>-19.0</td>\n",
       "    </tr>\n",
       "    <tr>\n",
       "      <th>9996</th>\n",
       "      <td>36453</td>\n",
       "      <td>202500.0</td>\n",
       "      <td>-10886</td>\n",
       "      <td>-1315</td>\n",
       "      <td>Laborers</td>\n",
       "      <td>-34.0</td>\n",
       "    </tr>\n",
       "    <tr>\n",
       "      <th>9997</th>\n",
       "      <td>36454</td>\n",
       "      <td>292500.0</td>\n",
       "      <td>-21016</td>\n",
       "      <td>-14018</td>\n",
       "      <td>Medicine staff</td>\n",
       "      <td>-55.0</td>\n",
       "    </tr>\n",
       "    <tr>\n",
       "      <th>9998</th>\n",
       "      <td>36455</td>\n",
       "      <td>180000.0</td>\n",
       "      <td>-16541</td>\n",
       "      <td>-1085</td>\n",
       "      <td>NaN</td>\n",
       "      <td>-33.0</td>\n",
       "    </tr>\n",
       "    <tr>\n",
       "      <th>9999</th>\n",
       "      <td>36456</td>\n",
       "      <td>270000.0</td>\n",
       "      <td>-9154</td>\n",
       "      <td>-187</td>\n",
       "      <td>Laborers</td>\n",
       "      <td>-11.0</td>\n",
       "    </tr>\n",
       "  </tbody>\n",
       "</table>\n",
       "<p>36457 rows × 6 columns</p>\n",
       "</div>"
      ],
      "text/plain": [
       "      index  income_total  ...      occyp_type  begin_month\n",
       "0         0      202500.0  ...             NaN         -6.0\n",
       "1         1      247500.0  ...        Laborers         -5.0\n",
       "2         2      450000.0  ...        Managers        -22.0\n",
       "3         3      202500.0  ...     Sales staff        -37.0\n",
       "4         4      157500.0  ...        Managers        -26.0\n",
       "...     ...           ...  ...             ...          ...\n",
       "9995  36452      202500.0  ...     Accountants        -19.0\n",
       "9996  36453      202500.0  ...        Laborers        -34.0\n",
       "9997  36454      292500.0  ...  Medicine staff        -55.0\n",
       "9998  36455      180000.0  ...             NaN        -33.0\n",
       "9999  36456      270000.0  ...        Laborers        -11.0\n",
       "\n",
       "[36457 rows x 6 columns]"
      ]
     },
     "execution_count": 622,
     "metadata": {
      "tags": []
     },
     "output_type": "execute_result"
    }
   ],
   "source": [
    "data[group3]"
   ]
  },
  {
   "cell_type": "code",
   "execution_count": null,
   "metadata": {
    "id": "RFMsAQAMW11F"
   },
   "outputs": [],
   "source": [
    "# <group3> 이상치 평균값으로 대체, 구간화 변수들 새로 생성(피처새로 생성), occyp_type 피처 삭제 \n",
    "# 연속형 변수의 구간화 변수 새로 생성 (연속형 변수를 그대로 넣지 않고 구간화해서 모델에 넣을 경우 더 좋은 성능을 나타내는 알고리즘 모델이 있음)\n",
    "counts, bin_dividers = np.histogram(data['income_total'], bins = 7)"
   ]
  },
  {
   "cell_type": "code",
   "execution_count": null,
   "metadata": {
    "id": "IcxsLopnYaaN"
   },
   "outputs": [],
   "source": [
    "pd.cut(data['income_total'], bins=bin_dividers, labels=np.arange(7), include_lowest=True)  # include_lowest=True 는 최솟값도 구간에 포함시키기 위해서 하는 것\n",
    "# pd.cut()의 반환 자료형은 'category'이다.(Series와는 다름) 'int'로 바꿔주기 위해 pd.factorize() 사용하기 \n",
    "pd.factorize(pd.cut(data['income_total'], bins=bin_dividers, labels=[i for i in range(7)], include_lowest=True))\n",
    "data['income_total_bin'] = pd.factorize(pd.cut(data['income_total'], bins=bin_dividers, include_lowest=True, labels=[i for i in range(7)]))[0]\n"
   ]
  },
  {
   "cell_type": "code",
   "execution_count": null,
   "metadata": {
    "colab": {
     "base_uri": "https://localhost:8080/"
    },
    "executionInfo": {
     "elapsed": 5241,
     "status": "ok",
     "timestamp": 1618385091022,
     "user": {
      "displayName": "mana9017 Z",
      "photoUrl": "",
      "userId": "12890573916331922228"
     },
     "user_tz": -540
    },
    "id": "9KGxj4PbDarz",
    "outputId": "26bd7011-cddd-48ed-a166-6d1a33724088"
   },
   "outputs": [
    {
     "data": {
      "text/plain": [
       " 365243    6135\n",
       "-401         78\n",
       "-1539        64\n",
       "-200         63\n",
       "-2087        61\n",
       "           ... \n",
       "-3640         1\n",
       "-5717         1\n",
       "-4420         1\n",
       "-2203         1\n",
       "-2024         1\n",
       "Name: DAYS_EMPLOYED, Length: 3640, dtype: int64"
      ]
     },
     "execution_count": 625,
     "metadata": {
      "tags": []
     },
     "output_type": "execute_result"
    }
   ],
   "source": [
    "data['DAYS_EMPLOYED'].value_counts()\n",
    "# DAYS_EMPLOYED의 값에서 365243 값이 이상함 "
   ]
  },
  {
   "cell_type": "code",
   "execution_count": null,
   "metadata": {
    "id": "rEbZxN8tEE1T"
   },
   "outputs": [],
   "source": [
    "data['DAYS_EMPLOYED'] = data['DAYS_EMPLOYED'].replace(365243, np.nan)"
   ]
  },
  {
   "cell_type": "code",
   "execution_count": null,
   "metadata": {
    "id": "KrpBO-AzDumC"
   },
   "outputs": [],
   "source": [
    "data['DAYS_EMPLOYED'] = data['DAYS_EMPLOYED'].fillna(data['DAYS_EMPLOYED'].mean())"
   ]
  },
  {
   "cell_type": "code",
   "execution_count": null,
   "metadata": {
    "id": "g8WDrgpUYQP5"
   },
   "outputs": [],
   "source": [
    "# 연속형 변수를 구간화하는 함수 만들고, 함수 이용하여 구간화 변수 3개 생성  \n",
    "def make_bin(array, n):\n",
    "  array = -array # DAYS_BIRTH, DAYS_EMPLOYED, begin_month 가 마이너스라서 \n",
    "  _, bin_dividers = np.histogram(array, bins=n)\n",
    "  categories = pd.cut(array, bins=bin_dividers, include_lowest=True, labels=[i for i in range(n)])\n",
    "  bined_array = pd.factorize(categories)[0]\n",
    "  return bined_array\n",
    "\n",
    "data['DAYS_BIRTH_BIN'] = make_bin(data['DAYS_BIRTH'], 10)\n",
    "data['DAYS_EMPLOYED_BIN'] = make_bin(data['DAYS_EMPLOYED'], 6)\n",
    "data['begin_month_bin'] = make_bin(data['begin_month'], 4)"
   ]
  },
  {
   "cell_type": "code",
   "execution_count": null,
   "metadata": {
    "id": "e0j4C18dC3No"
   },
   "outputs": [],
   "source": [
    "data.drop('occyp_type', axis=1, inplace=True)"
   ]
  },
  {
   "cell_type": "markdown",
   "metadata": {
    "id": "ixZxI8-Wsz11"
   },
   "source": [
    "#### 3-1. object 피처들 레이블 인코딩(3-0 하면 안해도 됨)"
   ]
  },
  {
   "cell_type": "code",
   "execution_count": null,
   "metadata": {
    "id": "Vu_d6z0qQiGh"
   },
   "outputs": [],
   "source": [
    "# data['edu_type'].value_counts()"
   ]
  },
  {
   "cell_type": "code",
   "execution_count": null,
   "metadata": {
    "id": "4wVrRqBpP8sq"
   },
   "outputs": [],
   "source": [
    "# # ordinary 한 피처 'edu_type'은 레이블 인코딩 말고 map으로 인코딩 \n",
    "# edu_order = {\n",
    "#     'Lower secondary' : 0, # 중학교 미만\n",
    "#     'Secondary / secondary special' : 1, #중학교\n",
    "#     'Incomplete higher' : 2, # 고등학교 중퇴\n",
    "#     'Higher education' : 3, # 고등학교 졸업\n",
    "#      'Academic degree' : 4 # 학사 이상\n",
    "# }\n",
    "# data.edu_type = data.edu_type.map(edu_order)\n",
    "# data['edu_type'].value_counts()"
   ]
  },
  {
   "cell_type": "code",
   "execution_count": null,
   "metadata": {
    "id": "pKamwdoBl6o3"
   },
   "outputs": [],
   "source": [
    "# object_columns = data.dtypes[data.dtypes=='object'].index.tolist()"
   ]
  },
  {
   "cell_type": "code",
   "execution_count": null,
   "metadata": {
    "id": "gQUAOLyaqR6z"
   },
   "outputs": [],
   "source": [
    "# for column in object_columns:\n",
    "#   data[column] = pd.factorize(data[column])[0]"
   ]
  },
  {
   "cell_type": "markdown",
   "metadata": {
    "id": "1nIvPy4LFGoB"
   },
   "source": [
    "#### 3-2. 주요 피처 엔지니어링\n"
   ]
  },
  {
   "cell_type": "code",
   "execution_count": null,
   "metadata": {
    "id": "vJzQKmPcFZG1"
   },
   "outputs": [],
   "source": [
    "# # baseline은 피처 가공 없이 한 것 \n",
    "# # submission_try01 피처가공 함수\n",
    "# def get_try01 (data):\n",
    "#   #  DAYS_BIRTH, DAYS_EMPLOYED 비율로 소득 Feature 가공. \n",
    "#   data['EMPLOYED_BIRTH_RATIO'] = data['DAYS_EMPLOYED']/data['DAYS_BIRTH']\n",
    "#   data['INCOME_EMPLOYED_RATIO'] = data['income_total']/data['DAYS_EMPLOYED']\n",
    "#   data['INCOME_BIRTH_RATIO'] = data['income_total']/data['DAYS_BIRTH']\n",
    "#   # 가족수를 고려한 가처분 소득 피처 가공. \n",
    "#   data['CNT_CHILD_INCOME_RATIO'] = data['income_total']/data['child_num']\n",
    "#   data['CNT_FAM_INCOME_RATIO'] = data['income_total']/data['family_size']\n",
    "#   return data \n",
    "\n",
    "# # try_01_valid = 0.7368"
   ]
  },
  {
   "cell_type": "code",
   "execution_count": null,
   "metadata": {
    "id": "zNAlM1uwBRCQ"
   },
   "outputs": [],
   "source": [
    "# submission_try02 피처가공 함수\n",
    "def get_try02 (data):\n",
    "  #  DAYS_BIRTH, DAYS_EMPLOYED 비율로 소득 Feature 가공. \n",
    "  data['EMPLOYED_BIRTH_RATIO'] = data['DAYS_EMPLOYED']/data['DAYS_BIRTH']\n",
    "  data['INCOME_EMPLOYED_RATIO'] = data['income_total']/data['DAYS_EMPLOYED']\n",
    "  data['INCOME_BIRTH_RATIO'] = data['income_total']/data['DAYS_BIRTH']\n",
    "  # 가족수와 자녀수 mean, sum 피처 가공\n",
    "  # data['FAM_CHILD_MEAN'] = data[['child_num', 'family_size']].mean(axis=1)\n",
    "  data['FAM_CHILD_SUM'] = data[['child_num', 'family_size']].sum(axis=1)\n",
    "  # 가족수를 고려한 가처분 소득 피처 가공. \n",
    "  # data['CNT_CHILD_INCOME_RATIO'] = data['income_total']/data['child_num']\n",
    "  data['CNT_FAM_INCOME_RATIO'] = data['income_total']/data['family_size']\n",
    "  # 소유 여부(0/1의 2개 category피처들)와 교육수준 관련 피처들 mean, sum 피처 가공 \n",
    "  data['HAVE_OR_NOT_MEAN'] =data[['car','reality','work_phone','phone','email','edu_type']].mean(axis=1)\n",
    "  #data['HAVE_OR_NOT_SUM'] =data[['car','reality','work_phone','phone','email', 'edu_type']].sum(axis=1)\n",
    "\n",
    "  #새로 추가(4/14)\n",
    "  data['INCOME_HAVE_OR_NOT_RATIO'] = data['income_total']/data['HAVE_OR_NOT_MEAN']\n",
    "  # data['DAYS_SUM'] = data[['DAYS_BIRTH_BIN', 'DAYS_EMPLOYED_BIN', 'begin_month']].sum(axis=1)\n",
    "  # data['INCOME_DAYS_SUM_RATIO'] = data['income_total'] / data[['DAYS_BIRTH_BIN', 'DAYS_EMPLOYED_BIN', 'begin_month']].sum(axis=1)\n",
    "\n",
    "  # 필요없는 피처 삭제 \n",
    "  # data = data.drop(['work_phone', 'phone', 'email', 'DAYS_EMPLOYED_BIN', 'begin_month_bin'], axis=1)\n",
    "\n",
    "  return data \n",
    "\n",
    "#try_02_valid = 0.7347"
   ]
  },
  {
   "cell_type": "code",
   "execution_count": null,
   "metadata": {
    "id": "pDijYnbKBaW1"
   },
   "outputs": [],
   "source": [
    "data = get_try02(data)"
   ]
  },
  {
   "cell_type": "markdown",
   "metadata": {
    "id": "O8-eEm3sRDao"
   },
   "source": [
    "### 4. train-test 분리하고 학습/feature_importance 확인 "
   ]
  },
  {
   "cell_type": "code",
   "execution_count": null,
   "metadata": {
    "colab": {
     "base_uri": "https://localhost:8080/"
    },
    "executionInfo": {
     "elapsed": 5449,
     "status": "ok",
     "timestamp": 1618385091333,
     "user": {
      "displayName": "mana9017 Z",
      "photoUrl": "",
      "userId": "12890573916331922228"
     },
     "user_tz": -540
    },
    "id": "Ap_brJaARJ4L",
    "outputId": "6279fc26-daef-4774-ba61-ac62476b008e"
   },
   "outputs": [
    {
     "data": {
      "text/plain": [
       "((26457, 30), (10000, 29))"
      ]
     },
     "execution_count": 637,
     "metadata": {
      "tags": []
     },
     "output_type": "execute_result"
    }
   ],
   "source": [
    "train = data[~data['credit'].isnull()]\n",
    "test = data[data['credit'].isnull()]\n",
    "test = test.drop('credit', axis=1)\n",
    "train.shape , test.shape "
   ]
  },
  {
   "cell_type": "code",
   "execution_count": null,
   "metadata": {
    "colab": {
     "base_uri": "https://localhost:8080/"
    },
    "executionInfo": {
     "elapsed": 5436,
     "status": "ok",
     "timestamp": 1618385091334,
     "user": {
      "displayName": "mana9017 Z",
      "photoUrl": "",
      "userId": "12890573916331922228"
     },
     "user_tz": -540
    },
    "id": "NUmQme94SJII",
    "outputId": "7c1cd2f6-638c-426b-aa7c-f894b2c0f2fa"
   },
   "outputs": [
    {
     "data": {
      "text/plain": [
       "((18519, 28), (7938, 28))"
      ]
     },
     "execution_count": 638,
     "metadata": {
      "tags": []
     },
     "output_type": "execute_result"
    }
   ],
   "source": [
    "# 학습데이터를 다시 학습-검증데이터로 분리 (for 교차검증)\n",
    "ftr_train = train.drop(['index','credit'], axis=1)\n",
    "target_train = train['credit']\n",
    "\n",
    "train_x, valid_x, train_y, valid_y = train_test_split(ftr_train, target_train, test_size=0.3, random_state=156)\n",
    "train_x.shape, valid_x.shape"
   ]
  },
  {
   "cell_type": "code",
   "execution_count": null,
   "metadata": {
    "colab": {
     "base_uri": "https://localhost:8080/"
    },
    "executionInfo": {
     "elapsed": 24726,
     "status": "ok",
     "timestamp": 1618385110637,
     "user": {
      "displayName": "mana9017 Z",
      "photoUrl": "",
      "userId": "12890573916331922228"
     },
     "user_tz": -540
    },
    "id": "5oBprd3lTOvT",
    "outputId": "968de85b-155b-4579-e494-21489ecba8e2"
   },
   "outputs": [
    {
     "name": "stdout",
     "output_type": "stream",
     "text": [
      "Training until validation scores don't improve for 100 rounds.\n",
      "[100]\ttraining's multi_logloss: 0.767718\ttraining's multi_logloss: 0.767718\tvalid_1's multi_logloss: 0.792332\tvalid_1's multi_logloss: 0.792332\n",
      "[200]\ttraining's multi_logloss: 0.727132\ttraining's multi_logloss: 0.727132\tvalid_1's multi_logloss: 0.775416\tvalid_1's multi_logloss: 0.775416\n",
      "[300]\ttraining's multi_logloss: 0.697079\ttraining's multi_logloss: 0.697079\tvalid_1's multi_logloss: 0.764382\tvalid_1's multi_logloss: 0.764382\n",
      "[400]\ttraining's multi_logloss: 0.671656\ttraining's multi_logloss: 0.671656\tvalid_1's multi_logloss: 0.756421\tvalid_1's multi_logloss: 0.756421\n",
      "[500]\ttraining's multi_logloss: 0.649728\ttraining's multi_logloss: 0.649728\tvalid_1's multi_logloss: 0.751029\tvalid_1's multi_logloss: 0.751029\n",
      "[600]\ttraining's multi_logloss: 0.629556\ttraining's multi_logloss: 0.629556\tvalid_1's multi_logloss: 0.746193\tvalid_1's multi_logloss: 0.746193\n",
      "[700]\ttraining's multi_logloss: 0.610229\ttraining's multi_logloss: 0.610229\tvalid_1's multi_logloss: 0.741415\tvalid_1's multi_logloss: 0.741415\n",
      "[800]\ttraining's multi_logloss: 0.592351\ttraining's multi_logloss: 0.592351\tvalid_1's multi_logloss: 0.737687\tvalid_1's multi_logloss: 0.737687\n",
      "[900]\ttraining's multi_logloss: 0.576702\ttraining's multi_logloss: 0.576702\tvalid_1's multi_logloss: 0.734505\tvalid_1's multi_logloss: 0.734505\n",
      "[1000]\ttraining's multi_logloss: 0.561584\ttraining's multi_logloss: 0.561584\tvalid_1's multi_logloss: 0.732422\tvalid_1's multi_logloss: 0.732422\n",
      "Did not meet early stopping. Best iteration is:\n",
      "[1000]\ttraining's multi_logloss: 0.561584\ttraining's multi_logloss: 0.561584\tvalid_1's multi_logloss: 0.732422\tvalid_1's multi_logloss: 0.732422\n"
     ]
    },
    {
     "data": {
      "text/plain": [
       "LGBMClassifier(boosting_type='gbdt', class_weight=None, colsample_bytree=1.0,\n",
       "               importance_type='split', learning_rate=0.02, max_depth=12,\n",
       "               min_child_samples=20, min_child_weight=0.001, min_split_gain=0.0,\n",
       "               n_estimators=1000, n_jobs=-1, num_leaves=32, objective=None,\n",
       "               random_state=None, reg_alpha=0.0, reg_lambda=0.0, silent=-1,\n",
       "               subsample=0.8, subsample_for_bin=200000, subsample_freq=0,\n",
       "               verbose=-1)"
      ]
     },
     "execution_count": 639,
     "metadata": {
      "tags": []
     },
     "output_type": "execute_result"
    }
   ],
   "source": [
    "# LGBMClassifier 학습\n",
    "clf = LGBMClassifier(\n",
    "        n_jobs=-1,\n",
    "        n_estimators=1000,\n",
    "        learning_rate=0.02,\n",
    "        num_leaves=32,\n",
    "        subsample=0.8,\n",
    "        max_depth=12,\n",
    "        silent=-1,\n",
    "        verbose=-1\n",
    "        )\n",
    "clf.fit(train_x, train_y, eval_set=[(train_x, train_y), (valid_x, valid_y)], eval_metric= 'logloss', verbose= 100, \n",
    "        early_stopping_rounds= 100)"
   ]
  },
  {
   "cell_type": "code",
   "execution_count": null,
   "metadata": {
    "colab": {
     "base_uri": "https://localhost:8080/",
     "height": 477
    },
    "executionInfo": {
     "elapsed": 1352,
     "status": "ok",
     "timestamp": 1618385129037,
     "user": {
      "displayName": "mana9017 Z",
      "photoUrl": "",
      "userId": "12890573916331922228"
     },
     "user_tz": -540
    },
    "id": "FVCeqWZyVOrr",
    "outputId": "51c5e299-61c8-4332-9642-f2a073f51fb4"
   },
   "outputs": [
    {
     "data": {
      "text/plain": [
       "<matplotlib.axes._subplots.AxesSubplot at 0x7f10a9898c50>"
      ]
     },
     "execution_count": 640,
     "metadata": {
      "tags": []
     },
     "output_type": "execute_result"
    },
    {
     "data": {
      "image/png": "[encoded data removed]",
      "text/plain": [
       "<Figure size 864x504 with 1 Axes>"
      ]
     },
     "metadata": {
      "needs_background": "light",
      "tags": []
     },
     "output_type": "display_data"
    }
   ],
   "source": [
    "from lightgbm import plot_importance\n",
    "plot_importance(clf, figsize=(12,7))"
   ]
  },
  {
   "cell_type": "code",
   "execution_count": null,
   "metadata": {
    "id": "VtI2A1-EBcuO"
   },
   "outputs": [],
   "source": [
    "predictions = clf.predict_proba(test.drop('index', axis=1))\n",
    "submission.iloc[:, 1:] = predictions \n",
    "submission.to_csv('submission_try02_3.csv', index=False)"
   ]
  },
  {
   "cell_type": "markdown",
   "metadata": {
    "id": "u0o6nFh3TlEJ"
   },
   "source": [
    "### 5. 하이퍼파라미터 튜닝 후 학습/검증/예측 "
   ]
  },
  {
   "cell_type": "markdown",
   "metadata": {
    "id": "4cFnm2I-CO3P"
   },
   "source": [
    "#### 5-1 Bayesian Optimization 사용"
   ]
  },
  {
   "cell_type": "code",
   "execution_count": null,
   "metadata": {
    "id": "vBaLJ1q-VFz_"
   },
   "outputs": [],
   "source": [
    "# 베이지안 옵티마이저 사용하여 하이퍼파라미터 튜닝 \n",
    "bayesian_params = {\n",
    "    'max_depth': (6, 16), \n",
    "    'num_leaves': (24, 64), \n",
    "    'min_child_samples': (10, 200), \n",
    "    'min_child_weight':(1, 50),\n",
    "    'subsample':(0.5, 1.0),\n",
    "    'colsample_bytree': (0.5, 1.0),\n",
    "    'max_bin':(10, 500),\n",
    "    'reg_lambda':(0.001, 10),\n",
    "    'reg_alpha': (0.01, 50) \n",
    "}"
   ]
  },
  {
   "cell_type": "code",
   "execution_count": null,
   "metadata": {
    "id": "u-JLEfUAJCiT"
   },
   "outputs": [],
   "source": [
    "def lgb_roc_eval(max_depth, num_leaves, min_child_samples, min_child_weight, subsample, \n",
    "                colsample_bytree,max_bin, reg_lambda, reg_alpha):\n",
    "    params = {\n",
    "        \"n_estimators\":500, \"learning_rate\":0.02,\n",
    "        'max_depth': int(round(max_depth)), #  호출 시 실수형 값이 들어오므로 정수형 하이퍼 파라미터는 정수형으로 변경 \n",
    "        'num_leaves': int(round(num_leaves)), \n",
    "        'min_child_samples': int(round(min_child_samples)),\n",
    "        'min_child_weight': int(round(min_child_weight)),\n",
    "        'subsample': max(min(subsample, 1), 0), \n",
    "        'colsample_bytree': max(min(colsample_bytree, 1), 0),\n",
    "        'max_bin':  max(int(round(max_bin)),10),\n",
    "        'reg_lambda': max(reg_lambda,0),\n",
    "        'reg_alpha': max(reg_alpha, 0)\n",
    "    }\n",
    "    lgb_model = LGBMClassifier(**params)\n",
    "    lgb_model.fit(train_x, train_y, eval_set=[(train_x, train_y), (valid_x, valid_y)], eval_metric= 'logloss', verbose= 100, \n",
    "                early_stopping_rounds= 100)\n",
    "    valid_proba = lgb_model.predict(valid_x)\n",
    "    accuracy = accuracy_score(valid_y, valid_proba)\n",
    "\n",
    "    return accuracy  "
   ]
  },
  {
   "cell_type": "code",
   "execution_count": null,
   "metadata": {
    "colab": {
     "base_uri": "https://localhost:8080/"
    },
    "executionInfo": {
     "elapsed": 392345,
     "status": "ok",
     "timestamp": 1618386281994,
     "user": {
      "displayName": "mana9017 Z",
      "photoUrl": "",
      "userId": "12890573916331922228"
     },
     "user_tz": -540
    },
    "id": "hOhEXnk7JhOd",
    "outputId": "5c451c06-2fb2-4d63-a38c-85cb6ae5ad01"
   },
   "outputs": [
    {
     "name": "stdout",
     "output_type": "stream",
     "text": [
      "|   iter    |  target   | colsam... |  max_bin  | max_depth | min_ch... | min_ch... | num_le... | reg_alpha | reg_la... | subsample |\n",
      "-------------------------------------------------------------------------------------------------------------------------------------\n",
      "Training until validation scores don't improve for 100 rounds.\n",
      "[100]\ttraining's multi_logloss: 0.811789\ttraining's multi_logloss: 0.811789\tvalid_1's multi_logloss: 0.814901\tvalid_1's multi_logloss: 0.814901\n",
      "[200]\ttraining's multi_logloss: 0.789082\ttraining's multi_logloss: 0.789082\tvalid_1's multi_logloss: 0.800918\tvalid_1's multi_logloss: 0.800918\n",
      "[300]\ttraining's multi_logloss: 0.774473\ttraining's multi_logloss: 0.774473\tvalid_1's multi_logloss: 0.793984\tvalid_1's multi_logloss: 0.793984\n",
      "[400]\ttraining's multi_logloss: 0.762966\ttraining's multi_logloss: 0.762966\tvalid_1's multi_logloss: 0.789123\tvalid_1's multi_logloss: 0.789123\n",
      "[500]\ttraining's multi_logloss: 0.754094\ttraining's multi_logloss: 0.754094\tvalid_1's multi_logloss: 0.785853\tvalid_1's multi_logloss: 0.785853\n",
      "Did not meet early stopping. Best iteration is:\n",
      "[500]\ttraining's multi_logloss: 0.754094\ttraining's multi_logloss: 0.754094\tvalid_1's multi_logloss: 0.785853\tvalid_1's multi_logloss: 0.785853\n",
      "| \u001b[0m 1       \u001b[0m | \u001b[0m 0.6945  \u001b[0m | \u001b[0m 0.7744  \u001b[0m | \u001b[0m 360.4   \u001b[0m | \u001b[0m 12.03   \u001b[0m | \u001b[0m 113.5   \u001b[0m | \u001b[0m 21.76   \u001b[0m | \u001b[0m 49.84   \u001b[0m | \u001b[0m 21.88   \u001b[0m | \u001b[0m 8.918   \u001b[0m | \u001b[0m 0.9818  \u001b[0m |\n",
      "Training until validation scores don't improve for 100 rounds.\n",
      "[100]\ttraining's multi_logloss: 0.793521\ttraining's multi_logloss: 0.793521\tvalid_1's multi_logloss: 0.808074\tvalid_1's multi_logloss: 0.808074\n",
      "[200]\ttraining's multi_logloss: 0.760301\ttraining's multi_logloss: 0.760301\tvalid_1's multi_logloss: 0.790167\tvalid_1's multi_logloss: 0.790167\n",
      "[300]\ttraining's multi_logloss: 0.739011\ttraining's multi_logloss: 0.739011\tvalid_1's multi_logloss: 0.781927\tvalid_1's multi_logloss: 0.781927\n",
      "[400]\ttraining's multi_logloss: 0.721549\ttraining's multi_logloss: 0.721549\tvalid_1's multi_logloss: 0.776113\tvalid_1's multi_logloss: 0.776113\n",
      "[500]\ttraining's multi_logloss: 0.706732\ttraining's multi_logloss: 0.706732\tvalid_1's multi_logloss: 0.771449\tvalid_1's multi_logloss: 0.771449\n",
      "Did not meet early stopping. Best iteration is:\n",
      "[500]\ttraining's multi_logloss: 0.706732\ttraining's multi_logloss: 0.706732\tvalid_1's multi_logloss: 0.771449\tvalid_1's multi_logloss: 0.771449\n",
      "| \u001b[95m 2       \u001b[0m | \u001b[95m 0.6978  \u001b[0m | \u001b[95m 0.6917  \u001b[0m | \u001b[95m 397.9   \u001b[0m | \u001b[95m 11.29   \u001b[0m | \u001b[95m 117.9   \u001b[0m | \u001b[95m 46.35   \u001b[0m | \u001b[95m 26.84   \u001b[0m | \u001b[95m 4.366   \u001b[0m | \u001b[95m 0.2032  \u001b[0m | \u001b[95m 0.9163  \u001b[0m |\n",
      "Training until validation scores don't improve for 100 rounds.\n",
      "[100]\ttraining's multi_logloss: 0.777446\ttraining's multi_logloss: 0.777446\tvalid_1's multi_logloss: 0.79927\tvalid_1's multi_logloss: 0.79927\n",
      "[200]\ttraining's multi_logloss: 0.734974\ttraining's multi_logloss: 0.734974\tvalid_1's multi_logloss: 0.780919\tvalid_1's multi_logloss: 0.780919\n",
      "[300]\ttraining's multi_logloss: 0.704165\ttraining's multi_logloss: 0.704165\tvalid_1's multi_logloss: 0.771074\tvalid_1's multi_logloss: 0.771074\n",
      "[400]\ttraining's multi_logloss: 0.680329\ttraining's multi_logloss: 0.680329\tvalid_1's multi_logloss: 0.763937\tvalid_1's multi_logloss: 0.763937\n",
      "[500]\ttraining's multi_logloss: 0.660272\ttraining's multi_logloss: 0.660272\tvalid_1's multi_logloss: 0.758745\tvalid_1's multi_logloss: 0.758745\n",
      "Did not meet early stopping. Best iteration is:\n",
      "[500]\ttraining's multi_logloss: 0.660272\ttraining's multi_logloss: 0.660272\tvalid_1's multi_logloss: 0.758745\tvalid_1's multi_logloss: 0.758745\n",
      "| \u001b[95m 3       \u001b[0m | \u001b[95m 0.7024  \u001b[0m | \u001b[95m 0.8891  \u001b[0m | \u001b[95m 436.3   \u001b[0m | \u001b[95m 15.79   \u001b[0m | \u001b[95m 161.8   \u001b[0m | \u001b[95m 23.61   \u001b[0m | \u001b[95m 55.22   \u001b[0m | \u001b[95m 5.923   \u001b[0m | \u001b[95m 6.4     \u001b[0m | \u001b[95m 0.5717  \u001b[0m |\n",
      "Training until validation scores don't improve for 100 rounds.\n",
      "[100]\ttraining's multi_logloss: 0.809958\ttraining's multi_logloss: 0.809958\tvalid_1's multi_logloss: 0.811781\tvalid_1's multi_logloss: 0.811781\n",
      "[200]\ttraining's multi_logloss: 0.792197\ttraining's multi_logloss: 0.792197\tvalid_1's multi_logloss: 0.801665\tvalid_1's multi_logloss: 0.801665\n",
      "[300]\ttraining's multi_logloss: 0.781548\ttraining's multi_logloss: 0.781548\tvalid_1's multi_logloss: 0.796477\tvalid_1's multi_logloss: 0.796477\n",
      "[400]\ttraining's multi_logloss: 0.774134\ttraining's multi_logloss: 0.774134\tvalid_1's multi_logloss: 0.793393\tvalid_1's multi_logloss: 0.793393\n",
      "[500]\ttraining's multi_logloss: 0.768775\ttraining's multi_logloss: 0.768775\tvalid_1's multi_logloss: 0.791665\tvalid_1's multi_logloss: 0.791665\n",
      "Did not meet early stopping. Best iteration is:\n",
      "[500]\ttraining's multi_logloss: 0.768775\ttraining's multi_logloss: 0.768775\tvalid_1's multi_logloss: 0.791665\tvalid_1's multi_logloss: 0.791665\n",
      "| \u001b[0m 4       \u001b[0m | \u001b[0m 0.6945  \u001b[0m | \u001b[0m 0.9723  \u001b[0m | \u001b[0m 265.7   \u001b[0m | \u001b[0m 10.15   \u001b[0m | \u001b[0m 60.27   \u001b[0m | \u001b[0m 38.94   \u001b[0m | \u001b[0m 42.25   \u001b[0m | \u001b[0m 28.43   \u001b[0m | \u001b[0m 0.1889  \u001b[0m | \u001b[0m 0.8088  \u001b[0m |\n",
      "Training until validation scores don't improve for 100 rounds.\n",
      "[100]\ttraining's multi_logloss: 0.816866\ttraining's multi_logloss: 0.816866\tvalid_1's multi_logloss: 0.816294\tvalid_1's multi_logloss: 0.816294\n",
      "[200]\ttraining's multi_logloss: 0.801314\ttraining's multi_logloss: 0.801314\tvalid_1's multi_logloss: 0.805155\tvalid_1's multi_logloss: 0.805155\n",
      "[300]\ttraining's multi_logloss: 0.793553\ttraining's multi_logloss: 0.793553\tvalid_1's multi_logloss: 0.800494\tvalid_1's multi_logloss: 0.800494\n",
      "[400]\ttraining's multi_logloss: 0.78891\ttraining's multi_logloss: 0.78891\tvalid_1's multi_logloss: 0.798299\tvalid_1's multi_logloss: 0.798299\n",
      "[500]\ttraining's multi_logloss: 0.785713\ttraining's multi_logloss: 0.785713\tvalid_1's multi_logloss: 0.797091\tvalid_1's multi_logloss: 0.797091\n",
      "Did not meet early stopping. Best iteration is:\n",
      "[500]\ttraining's multi_logloss: 0.785713\ttraining's multi_logloss: 0.785713\tvalid_1's multi_logloss: 0.797091\tvalid_1's multi_logloss: 0.797091\n",
      "| \u001b[0m 5       \u001b[0m | \u001b[0m 0.6951  \u001b[0m | \u001b[0m 0.806   \u001b[0m | \u001b[0m 312.3   \u001b[0m | \u001b[0m 15.44   \u001b[0m | \u001b[0m 139.5   \u001b[0m | \u001b[0m 18.62   \u001b[0m | \u001b[0m 41.48   \u001b[0m | \u001b[0m 34.88   \u001b[0m | \u001b[0m 0.6032  \u001b[0m | \u001b[0m 0.8334  \u001b[0m |\n",
      "Training until validation scores don't improve for 100 rounds.\n",
      "[100]\ttraining's multi_logloss: 0.801852\ttraining's multi_logloss: 0.801852\tvalid_1's multi_logloss: 0.810056\tvalid_1's multi_logloss: 0.810056\n",
      "[200]\ttraining's multi_logloss: 0.773371\ttraining's multi_logloss: 0.773371\tvalid_1's multi_logloss: 0.794891\tvalid_1's multi_logloss: 0.794891\n",
      "[300]\ttraining's multi_logloss: 0.754772\ttraining's multi_logloss: 0.754772\tvalid_1's multi_logloss: 0.786672\tvalid_1's multi_logloss: 0.786672\n",
      "[400]\ttraining's multi_logloss: 0.740262\ttraining's multi_logloss: 0.740262\tvalid_1's multi_logloss: 0.781179\tvalid_1's multi_logloss: 0.781179\n",
      "[500]\ttraining's multi_logloss: 0.729714\ttraining's multi_logloss: 0.729714\tvalid_1's multi_logloss: 0.777711\tvalid_1's multi_logloss: 0.777711\n",
      "Did not meet early stopping. Best iteration is:\n",
      "[500]\ttraining's multi_logloss: 0.729714\ttraining's multi_logloss: 0.729714\tvalid_1's multi_logloss: 0.777711\tvalid_1's multi_logloss: 0.777711\n",
      "| \u001b[0m 6       \u001b[0m | \u001b[0m 0.6963  \u001b[0m | \u001b[0m 0.8284  \u001b[0m | \u001b[0m 495.1   \u001b[0m | \u001b[0m 8.683   \u001b[0m | \u001b[0m 21.22   \u001b[0m | \u001b[0m 3.258   \u001b[0m | \u001b[0m 62.56   \u001b[0m | \u001b[0m 19.59   \u001b[0m | \u001b[0m 1.486   \u001b[0m | \u001b[0m 0.7496  \u001b[0m |\n",
      "Training until validation scores don't improve for 100 rounds.\n",
      "[100]\ttraining's multi_logloss: 0.820381\ttraining's multi_logloss: 0.820381\tvalid_1's multi_logloss: 0.820204\tvalid_1's multi_logloss: 0.820204\n",
      "[200]\ttraining's multi_logloss: 0.803003\ttraining's multi_logloss: 0.803003\tvalid_1's multi_logloss: 0.807052\tvalid_1's multi_logloss: 0.807052\n",
      "[300]\ttraining's multi_logloss: 0.793378\ttraining's multi_logloss: 0.793378\tvalid_1's multi_logloss: 0.801268\tvalid_1's multi_logloss: 0.801268\n",
      "[400]\ttraining's multi_logloss: 0.786783\ttraining's multi_logloss: 0.786783\tvalid_1's multi_logloss: 0.797987\tvalid_1's multi_logloss: 0.797987\n",
      "[500]\ttraining's multi_logloss: 0.781968\ttraining's multi_logloss: 0.781968\tvalid_1's multi_logloss: 0.79601\tvalid_1's multi_logloss: 0.79601\n",
      "Did not meet early stopping. Best iteration is:\n",
      "[500]\ttraining's multi_logloss: 0.781968\ttraining's multi_logloss: 0.781968\tvalid_1's multi_logloss: 0.79601\tvalid_1's multi_logloss: 0.79601\n",
      "| \u001b[0m 7       \u001b[0m | \u001b[0m 0.6951  \u001b[0m | \u001b[0m 0.6299  \u001b[0m | \u001b[0m 489.8   \u001b[0m | \u001b[0m 15.31   \u001b[0m | \u001b[0m 199.0   \u001b[0m | \u001b[0m 45.2    \u001b[0m | \u001b[0m 51.84   \u001b[0m | \u001b[0m 29.76   \u001b[0m | \u001b[0m 4.925   \u001b[0m | \u001b[0m 0.5147  \u001b[0m |\n",
      "Training until validation scores don't improve for 100 rounds.\n",
      "[100]\ttraining's multi_logloss: 0.77438\ttraining's multi_logloss: 0.77438\tvalid_1's multi_logloss: 0.803241\tvalid_1's multi_logloss: 0.803241\n",
      "[200]\ttraining's multi_logloss: 0.730332\ttraining's multi_logloss: 0.730332\tvalid_1's multi_logloss: 0.784497\tvalid_1's multi_logloss: 0.784497\n",
      "[300]\ttraining's multi_logloss: 0.699694\ttraining's multi_logloss: 0.699694\tvalid_1's multi_logloss: 0.774739\tvalid_1's multi_logloss: 0.774739\n",
      "[400]\ttraining's multi_logloss: 0.675676\ttraining's multi_logloss: 0.675676\tvalid_1's multi_logloss: 0.767504\tvalid_1's multi_logloss: 0.767504\n",
      "[500]\ttraining's multi_logloss: 0.654377\ttraining's multi_logloss: 0.654377\tvalid_1's multi_logloss: 0.762302\tvalid_1's multi_logloss: 0.762302\n",
      "Did not meet early stopping. Best iteration is:\n",
      "[500]\ttraining's multi_logloss: 0.654377\ttraining's multi_logloss: 0.654377\tvalid_1's multi_logloss: 0.762302\tvalid_1's multi_logloss: 0.762302\n",
      "| \u001b[95m 8       \u001b[0m | \u001b[95m 0.7027  \u001b[0m | \u001b[95m 0.6347  \u001b[0m | \u001b[95m 35.69   \u001b[0m | \u001b[95m 13.42   \u001b[0m | \u001b[95m 179.4   \u001b[0m | \u001b[95m 22.59   \u001b[0m | \u001b[95m 63.25   \u001b[0m | \u001b[95m 0.5422  \u001b[0m | \u001b[95m 2.012   \u001b[0m | \u001b[95m 0.6681  \u001b[0m |\n",
      "Training until validation scores don't improve for 100 rounds.\n",
      "[100]\ttraining's multi_logloss: 0.807447\ttraining's multi_logloss: 0.807447\tvalid_1's multi_logloss: 0.818043\tvalid_1's multi_logloss: 0.818043\n",
      "[200]\ttraining's multi_logloss: 0.778852\ttraining's multi_logloss: 0.778852\tvalid_1's multi_logloss: 0.801582\tvalid_1's multi_logloss: 0.801582\n",
      "[300]\ttraining's multi_logloss: 0.760105\ttraining's multi_logloss: 0.760105\tvalid_1's multi_logloss: 0.793111\tvalid_1's multi_logloss: 0.793111\n",
      "[400]\ttraining's multi_logloss: 0.745956\ttraining's multi_logloss: 0.745956\tvalid_1's multi_logloss: 0.787692\tvalid_1's multi_logloss: 0.787692\n",
      "[500]\ttraining's multi_logloss: 0.734392\ttraining's multi_logloss: 0.734392\tvalid_1's multi_logloss: 0.784182\tvalid_1's multi_logloss: 0.784182\n",
      "Did not meet early stopping. Best iteration is:\n",
      "[500]\ttraining's multi_logloss: 0.734392\ttraining's multi_logloss: 0.734392\tvalid_1's multi_logloss: 0.784182\tvalid_1's multi_logloss: 0.784182\n",
      "| \u001b[0m 9       \u001b[0m | \u001b[0m 0.6958  \u001b[0m | \u001b[0m 0.5191  \u001b[0m | \u001b[0m 14.48   \u001b[0m | \u001b[0m 11.14   \u001b[0m | \u001b[0m 174.3   \u001b[0m | \u001b[0m 2.786   \u001b[0m | \u001b[0m 26.61   \u001b[0m | \u001b[0m 2.459   \u001b[0m | \u001b[0m 4.393   \u001b[0m | \u001b[0m 0.7535  \u001b[0m |\n",
      "Training until validation scores don't improve for 100 rounds.\n",
      "[100]\ttraining's multi_logloss: 0.799976\ttraining's multi_logloss: 0.799976\tvalid_1's multi_logloss: 0.807372\tvalid_1's multi_logloss: 0.807372\n",
      "[200]\ttraining's multi_logloss: 0.777168\ttraining's multi_logloss: 0.777168\tvalid_1's multi_logloss: 0.795824\tvalid_1's multi_logloss: 0.795824\n",
      "[300]\ttraining's multi_logloss: 0.761101\ttraining's multi_logloss: 0.761101\tvalid_1's multi_logloss: 0.789497\tvalid_1's multi_logloss: 0.789497\n",
      "[400]\ttraining's multi_logloss: 0.749042\ttraining's multi_logloss: 0.749042\tvalid_1's multi_logloss: 0.785129\tvalid_1's multi_logloss: 0.785129\n",
      "[500]\ttraining's multi_logloss: 0.737544\ttraining's multi_logloss: 0.737544\tvalid_1's multi_logloss: 0.78145\tvalid_1's multi_logloss: 0.78145\n",
      "Did not meet early stopping. Best iteration is:\n",
      "[500]\ttraining's multi_logloss: 0.737544\ttraining's multi_logloss: 0.737544\tvalid_1's multi_logloss: 0.78145\tvalid_1's multi_logloss: 0.78145\n",
      "| \u001b[0m 10      \u001b[0m | \u001b[0m 0.6949  \u001b[0m | \u001b[0m 0.9182  \u001b[0m | \u001b[0m 392.8   \u001b[0m | \u001b[0m 6.154   \u001b[0m | \u001b[0m 195.2   \u001b[0m | \u001b[0m 4.086   \u001b[0m | \u001b[0m 61.7    \u001b[0m | \u001b[0m 6.406   \u001b[0m | \u001b[0m 1.545   \u001b[0m | \u001b[0m 0.9429  \u001b[0m |\n",
      "Training until validation scores don't improve for 100 rounds.\n",
      "[100]\ttraining's multi_logloss: 0.757284\ttraining's multi_logloss: 0.757284\tvalid_1's multi_logloss: 0.791746\tvalid_1's multi_logloss: 0.791746\n",
      "[200]\ttraining's multi_logloss: 0.707191\ttraining's multi_logloss: 0.707191\tvalid_1's multi_logloss: 0.772004\tvalid_1's multi_logloss: 0.772004\n",
      "[300]\ttraining's multi_logloss: 0.670842\ttraining's multi_logloss: 0.670842\tvalid_1's multi_logloss: 0.760296\tvalid_1's multi_logloss: 0.760296\n",
      "[400]\ttraining's multi_logloss: 0.641564\ttraining's multi_logloss: 0.641564\tvalid_1's multi_logloss: 0.752404\tvalid_1's multi_logloss: 0.752404\n",
      "[500]\ttraining's multi_logloss: 0.617426\ttraining's multi_logloss: 0.617426\tvalid_1's multi_logloss: 0.747295\tvalid_1's multi_logloss: 0.747295\n",
      "Did not meet early stopping. Best iteration is:\n",
      "[500]\ttraining's multi_logloss: 0.617426\ttraining's multi_logloss: 0.617426\tvalid_1's multi_logloss: 0.747295\tvalid_1's multi_logloss: 0.747295\n",
      "| \u001b[95m 11      \u001b[0m | \u001b[95m 0.709   \u001b[0m | \u001b[95m 0.9113  \u001b[0m | \u001b[95m 139.1   \u001b[0m | \u001b[95m 15.94   \u001b[0m | \u001b[95m 25.45   \u001b[0m | \u001b[95m 24.62   \u001b[0m | \u001b[95m 60.8    \u001b[0m | \u001b[95m 2.607   \u001b[0m | \u001b[95m 3.726   \u001b[0m | \u001b[95m 0.5292  \u001b[0m |\n",
      "Training until validation scores don't improve for 100 rounds.\n",
      "[100]\ttraining's multi_logloss: 0.767917\ttraining's multi_logloss: 0.767917\tvalid_1's multi_logloss: 0.798422\tvalid_1's multi_logloss: 0.798422\n",
      "[200]\ttraining's multi_logloss: 0.725147\ttraining's multi_logloss: 0.725147\tvalid_1's multi_logloss: 0.782931\tvalid_1's multi_logloss: 0.782931\n",
      "[300]\ttraining's multi_logloss: 0.693402\ttraining's multi_logloss: 0.693402\tvalid_1's multi_logloss: 0.774163\tvalid_1's multi_logloss: 0.774163\n",
      "[400]\ttraining's multi_logloss: 0.667419\ttraining's multi_logloss: 0.667419\tvalid_1's multi_logloss: 0.768178\tvalid_1's multi_logloss: 0.768178\n",
      "[500]\ttraining's multi_logloss: 0.644827\ttraining's multi_logloss: 0.644827\tvalid_1's multi_logloss: 0.763215\tvalid_1's multi_logloss: 0.763215\n",
      "Did not meet early stopping. Best iteration is:\n",
      "[500]\ttraining's multi_logloss: 0.644827\ttraining's multi_logloss: 0.644827\tvalid_1's multi_logloss: 0.763215\tvalid_1's multi_logloss: 0.763215\n",
      "| \u001b[0m 12      \u001b[0m | \u001b[0m 0.7036  \u001b[0m | \u001b[0m 0.98    \u001b[0m | \u001b[0m 11.82   \u001b[0m | \u001b[0m 14.91   \u001b[0m | \u001b[0m 43.37   \u001b[0m | \u001b[0m 30.93   \u001b[0m | \u001b[0m 60.49   \u001b[0m | \u001b[0m 0.4702  \u001b[0m | \u001b[0m 2.889   \u001b[0m | \u001b[0m 0.7434  \u001b[0m |\n",
      "Training until validation scores don't improve for 100 rounds.\n",
      "[100]\ttraining's multi_logloss: 0.767076\ttraining's multi_logloss: 0.767076\tvalid_1's multi_logloss: 0.798708\tvalid_1's multi_logloss: 0.798708\n",
      "[200]\ttraining's multi_logloss: 0.718558\ttraining's multi_logloss: 0.718558\tvalid_1's multi_logloss: 0.777666\tvalid_1's multi_logloss: 0.777666\n",
      "[300]\ttraining's multi_logloss: 0.687533\ttraining's multi_logloss: 0.687533\tvalid_1's multi_logloss: 0.767217\tvalid_1's multi_logloss: 0.767217\n",
      "[400]\ttraining's multi_logloss: 0.664985\ttraining's multi_logloss: 0.664985\tvalid_1's multi_logloss: 0.760187\tvalid_1's multi_logloss: 0.760187\n",
      "[500]\ttraining's multi_logloss: 0.64504\ttraining's multi_logloss: 0.64504\tvalid_1's multi_logloss: 0.754472\tvalid_1's multi_logloss: 0.754472\n",
      "Did not meet early stopping. Best iteration is:\n",
      "[500]\ttraining's multi_logloss: 0.64504\ttraining's multi_logloss: 0.64504\tvalid_1's multi_logloss: 0.754472\tvalid_1's multi_logloss: 0.754472\n",
      "| \u001b[0m 13      \u001b[0m | \u001b[0m 0.7062  \u001b[0m | \u001b[0m 0.6717  \u001b[0m | \u001b[0m 423.7   \u001b[0m | \u001b[0m 14.78   \u001b[0m | \u001b[0m 17.68   \u001b[0m | \u001b[0m 48.88   \u001b[0m | \u001b[0m 59.46   \u001b[0m | \u001b[0m 1.729   \u001b[0m | \u001b[0m 1.641   \u001b[0m | \u001b[0m 0.8052  \u001b[0m |\n",
      "Training until validation scores don't improve for 100 rounds.\n",
      "[100]\ttraining's multi_logloss: 0.752132\ttraining's multi_logloss: 0.752132\tvalid_1's multi_logloss: 0.788485\tvalid_1's multi_logloss: 0.788485\n",
      "[200]\ttraining's multi_logloss: 0.69997\ttraining's multi_logloss: 0.69997\tvalid_1's multi_logloss: 0.768169\tvalid_1's multi_logloss: 0.768169\n",
      "[300]\ttraining's multi_logloss: 0.663694\ttraining's multi_logloss: 0.663694\tvalid_1's multi_logloss: 0.756633\tvalid_1's multi_logloss: 0.756633\n",
      "[400]\ttraining's multi_logloss: 0.63312\ttraining's multi_logloss: 0.63312\tvalid_1's multi_logloss: 0.747825\tvalid_1's multi_logloss: 0.747825\n",
      "[500]\ttraining's multi_logloss: 0.606898\ttraining's multi_logloss: 0.606898\tvalid_1's multi_logloss: 0.741483\tvalid_1's multi_logloss: 0.741483\n",
      "Did not meet early stopping. Best iteration is:\n",
      "[500]\ttraining's multi_logloss: 0.606898\ttraining's multi_logloss: 0.606898\tvalid_1's multi_logloss: 0.741483\tvalid_1's multi_logloss: 0.741483\n",
      "| \u001b[95m 14      \u001b[0m | \u001b[95m 0.7091  \u001b[0m | \u001b[95m 0.9181  \u001b[0m | \u001b[95m 237.5   \u001b[0m | \u001b[95m 15.88   \u001b[0m | \u001b[95m 17.64   \u001b[0m | \u001b[95m 16.24   \u001b[0m | \u001b[95m 57.03   \u001b[0m | \u001b[95m 1.78    \u001b[0m | \u001b[95m 2.588   \u001b[0m | \u001b[95m 0.9085  \u001b[0m |\n",
      "Training until validation scores don't improve for 100 rounds.\n",
      "[100]\ttraining's multi_logloss: 0.754672\ttraining's multi_logloss: 0.754672\tvalid_1's multi_logloss: 0.790045\tvalid_1's multi_logloss: 0.790045\n",
      "[200]\ttraining's multi_logloss: 0.702008\ttraining's multi_logloss: 0.702008\tvalid_1's multi_logloss: 0.768166\tvalid_1's multi_logloss: 0.768166\n",
      "[300]\ttraining's multi_logloss: 0.666354\ttraining's multi_logloss: 0.666354\tvalid_1's multi_logloss: 0.756899\tvalid_1's multi_logloss: 0.756899\n",
      "[400]\ttraining's multi_logloss: 0.637646\ttraining's multi_logloss: 0.637646\tvalid_1's multi_logloss: 0.749008\tvalid_1's multi_logloss: 0.749008\n",
      "[500]\ttraining's multi_logloss: 0.613524\ttraining's multi_logloss: 0.613524\tvalid_1's multi_logloss: 0.74351\tvalid_1's multi_logloss: 0.74351\n",
      "Did not meet early stopping. Best iteration is:\n",
      "[500]\ttraining's multi_logloss: 0.613524\ttraining's multi_logloss: 0.613524\tvalid_1's multi_logloss: 0.74351\tvalid_1's multi_logloss: 0.74351\n",
      "| \u001b[0m 15      \u001b[0m | \u001b[0m 0.7091  \u001b[0m | \u001b[0m 0.8515  \u001b[0m | \u001b[0m 157.2   \u001b[0m | \u001b[0m 15.14   \u001b[0m | \u001b[0m 29.42   \u001b[0m | \u001b[0m 1.798   \u001b[0m | \u001b[0m 60.35   \u001b[0m | \u001b[0m 3.616   \u001b[0m | \u001b[0m 0.5277  \u001b[0m | \u001b[0m 0.9493  \u001b[0m |\n",
      "Training until validation scores don't improve for 100 rounds.\n",
      "[100]\ttraining's multi_logloss: 0.781367\ttraining's multi_logloss: 0.781367\tvalid_1's multi_logloss: 0.806841\tvalid_1's multi_logloss: 0.806841\n",
      "[200]\ttraining's multi_logloss: 0.735678\ttraining's multi_logloss: 0.735678\tvalid_1's multi_logloss: 0.784902\tvalid_1's multi_logloss: 0.784902\n",
      "[300]\ttraining's multi_logloss: 0.703718\ttraining's multi_logloss: 0.703718\tvalid_1's multi_logloss: 0.773669\tvalid_1's multi_logloss: 0.773669\n",
      "[400]\ttraining's multi_logloss: 0.677503\ttraining's multi_logloss: 0.677503\tvalid_1's multi_logloss: 0.764794\tvalid_1's multi_logloss: 0.764794\n",
      "[500]\ttraining's multi_logloss: 0.656492\ttraining's multi_logloss: 0.656492\tvalid_1's multi_logloss: 0.758609\tvalid_1's multi_logloss: 0.758609\n",
      "Did not meet early stopping. Best iteration is:\n",
      "[500]\ttraining's multi_logloss: 0.656492\ttraining's multi_logloss: 0.656492\tvalid_1's multi_logloss: 0.758609\tvalid_1's multi_logloss: 0.758609\n",
      "| \u001b[0m 16      \u001b[0m | \u001b[0m 0.7041  \u001b[0m | \u001b[0m 0.5388  \u001b[0m | \u001b[0m 173.6   \u001b[0m | \u001b[0m 15.78   \u001b[0m | \u001b[0m 24.52   \u001b[0m | \u001b[0m 49.79   \u001b[0m | \u001b[0m 57.28   \u001b[0m | \u001b[0m 3.002   \u001b[0m | \u001b[0m 3.082   \u001b[0m | \u001b[0m 0.6342  \u001b[0m |\n",
      "Training until validation scores don't improve for 100 rounds.\n",
      "[100]\ttraining's multi_logloss: 0.757823\ttraining's multi_logloss: 0.757823\tvalid_1's multi_logloss: 0.79565\tvalid_1's multi_logloss: 0.79565\n",
      "[200]\ttraining's multi_logloss: 0.701152\ttraining's multi_logloss: 0.701152\tvalid_1's multi_logloss: 0.771456\tvalid_1's multi_logloss: 0.771456\n",
      "[300]\ttraining's multi_logloss: 0.662191\ttraining's multi_logloss: 0.662191\tvalid_1's multi_logloss: 0.758713\tvalid_1's multi_logloss: 0.758713\n",
      "[400]\ttraining's multi_logloss: 0.63148\ttraining's multi_logloss: 0.63148\tvalid_1's multi_logloss: 0.75028\tvalid_1's multi_logloss: 0.75028\n",
      "[500]\ttraining's multi_logloss: 0.606288\ttraining's multi_logloss: 0.606288\tvalid_1's multi_logloss: 0.744521\tvalid_1's multi_logloss: 0.744521\n",
      "Did not meet early stopping. Best iteration is:\n",
      "[500]\ttraining's multi_logloss: 0.606288\ttraining's multi_logloss: 0.606288\tvalid_1's multi_logloss: 0.744521\tvalid_1's multi_logloss: 0.744521\n",
      "| \u001b[95m 17      \u001b[0m | \u001b[95m 0.7092  \u001b[0m | \u001b[95m 0.6061  \u001b[0m | \u001b[95m 334.3   \u001b[0m | \u001b[95m 15.97   \u001b[0m | \u001b[95m 20.67   \u001b[0m | \u001b[95m 15.01   \u001b[0m | \u001b[95m 62.82   \u001b[0m | \u001b[95m 1.801   \u001b[0m | \u001b[95m 4.06    \u001b[0m | \u001b[95m 0.5817  \u001b[0m |\n",
      "Training until validation scores don't improve for 100 rounds.\n",
      "[100]\ttraining's multi_logloss: 0.745964\ttraining's multi_logloss: 0.745964\tvalid_1's multi_logloss: 0.786014\tvalid_1's multi_logloss: 0.786014\n",
      "[200]\ttraining's multi_logloss: 0.693769\ttraining's multi_logloss: 0.693769\tvalid_1's multi_logloss: 0.766417\tvalid_1's multi_logloss: 0.766417\n",
      "[300]\ttraining's multi_logloss: 0.656303\ttraining's multi_logloss: 0.656303\tvalid_1's multi_logloss: 0.755972\tvalid_1's multi_logloss: 0.755972\n",
      "[400]\ttraining's multi_logloss: 0.624536\ttraining's multi_logloss: 0.624536\tvalid_1's multi_logloss: 0.747857\tvalid_1's multi_logloss: 0.747857\n",
      "[500]\ttraining's multi_logloss: 0.596866\ttraining's multi_logloss: 0.596866\tvalid_1's multi_logloss: 0.741223\tvalid_1's multi_logloss: 0.741223\n",
      "Did not meet early stopping. Best iteration is:\n",
      "[500]\ttraining's multi_logloss: 0.596866\ttraining's multi_logloss: 0.596866\tvalid_1's multi_logloss: 0.741223\tvalid_1's multi_logloss: 0.741223\n",
      "| \u001b[0m 18      \u001b[0m | \u001b[0m 0.7087  \u001b[0m | \u001b[0m 0.9645  \u001b[0m | \u001b[0m 127.2   \u001b[0m | \u001b[0m 14.09   \u001b[0m | \u001b[0m 40.62   \u001b[0m | \u001b[0m 2.977   \u001b[0m | \u001b[0m 62.78   \u001b[0m | \u001b[0m 0.9191  \u001b[0m | \u001b[0m 3.924   \u001b[0m | \u001b[0m 0.9011  \u001b[0m |\n",
      "Training until validation scores don't improve for 100 rounds.\n",
      "[100]\ttraining's multi_logloss: 0.749994\ttraining's multi_logloss: 0.749994\tvalid_1's multi_logloss: 0.787765\tvalid_1's multi_logloss: 0.787765\n",
      "[200]\ttraining's multi_logloss: 0.697554\ttraining's multi_logloss: 0.697554\tvalid_1's multi_logloss: 0.766896\tvalid_1's multi_logloss: 0.766896\n",
      "[300]\ttraining's multi_logloss: 0.661012\ttraining's multi_logloss: 0.661012\tvalid_1's multi_logloss: 0.755393\tvalid_1's multi_logloss: 0.755393\n",
      "[400]\ttraining's multi_logloss: 0.631503\ttraining's multi_logloss: 0.631503\tvalid_1's multi_logloss: 0.747622\tvalid_1's multi_logloss: 0.747622\n",
      "[500]\ttraining's multi_logloss: 0.606012\ttraining's multi_logloss: 0.606012\tvalid_1's multi_logloss: 0.741923\tvalid_1's multi_logloss: 0.741923\n",
      "Did not meet early stopping. Best iteration is:\n",
      "[500]\ttraining's multi_logloss: 0.606012\ttraining's multi_logloss: 0.606012\tvalid_1's multi_logloss: 0.741923\tvalid_1's multi_logloss: 0.741923\n",
      "| \u001b[95m 19      \u001b[0m | \u001b[95m 0.7095  \u001b[0m | \u001b[95m 0.9129  \u001b[0m | \u001b[95m 375.2   \u001b[0m | \u001b[95m 15.98   \u001b[0m | \u001b[95m 42.38   \u001b[0m | \u001b[95m 1.668   \u001b[0m | \u001b[95m 54.73   \u001b[0m | \u001b[95m 1.408   \u001b[0m | \u001b[95m 2.397   \u001b[0m | \u001b[95m 0.597   \u001b[0m |\n",
      "Training until validation scores don't improve for 100 rounds.\n",
      "[100]\ttraining's multi_logloss: 0.762963\ttraining's multi_logloss: 0.762963\tvalid_1's multi_logloss: 0.793877\tvalid_1's multi_logloss: 0.793877\n",
      "[200]\ttraining's multi_logloss: 0.715551\ttraining's multi_logloss: 0.715551\tvalid_1's multi_logloss: 0.774888\tvalid_1's multi_logloss: 0.774888\n",
      "[300]\ttraining's multi_logloss: 0.682156\ttraining's multi_logloss: 0.682156\tvalid_1's multi_logloss: 0.763798\tvalid_1's multi_logloss: 0.763798\n",
      "[400]\ttraining's multi_logloss: 0.656803\ttraining's multi_logloss: 0.656803\tvalid_1's multi_logloss: 0.756247\tvalid_1's multi_logloss: 0.756247\n",
      "[500]\ttraining's multi_logloss: 0.635462\ttraining's multi_logloss: 0.635462\tvalid_1's multi_logloss: 0.751211\tvalid_1's multi_logloss: 0.751211\n",
      "Did not meet early stopping. Best iteration is:\n",
      "[500]\ttraining's multi_logloss: 0.635462\ttraining's multi_logloss: 0.635462\tvalid_1's multi_logloss: 0.751211\tvalid_1's multi_logloss: 0.751211\n",
      "| \u001b[0m 20      \u001b[0m | \u001b[0m 0.7067  \u001b[0m | \u001b[0m 0.9952  \u001b[0m | \u001b[0m 223.7   \u001b[0m | \u001b[0m 15.47   \u001b[0m | \u001b[0m 13.07   \u001b[0m | \u001b[0m 11.12   \u001b[0m | \u001b[0m 59.92   \u001b[0m | \u001b[0m 6.156   \u001b[0m | \u001b[0m 1.109   \u001b[0m | \u001b[0m 0.5765  \u001b[0m |\n",
      "Training until validation scores don't improve for 100 rounds.\n",
      "[100]\ttraining's multi_logloss: 0.755454\ttraining's multi_logloss: 0.755454\tvalid_1's multi_logloss: 0.791115\tvalid_1's multi_logloss: 0.791115\n",
      "[200]\ttraining's multi_logloss: 0.707848\ttraining's multi_logloss: 0.707848\tvalid_1's multi_logloss: 0.773012\tvalid_1's multi_logloss: 0.773012\n",
      "[300]\ttraining's multi_logloss: 0.674545\ttraining's multi_logloss: 0.674545\tvalid_1's multi_logloss: 0.763599\tvalid_1's multi_logloss: 0.763599\n",
      "[400]\ttraining's multi_logloss: 0.649683\ttraining's multi_logloss: 0.649683\tvalid_1's multi_logloss: 0.756564\tvalid_1's multi_logloss: 0.756564\n",
      "[500]\ttraining's multi_logloss: 0.626577\ttraining's multi_logloss: 0.626577\tvalid_1's multi_logloss: 0.750712\tvalid_1's multi_logloss: 0.750712\n",
      "Did not meet early stopping. Best iteration is:\n",
      "[500]\ttraining's multi_logloss: 0.626577\ttraining's multi_logloss: 0.626577\tvalid_1's multi_logloss: 0.750712\tvalid_1's multi_logloss: 0.750712\n",
      "| \u001b[0m 21      \u001b[0m | \u001b[0m 0.7056  \u001b[0m | \u001b[0m 0.9569  \u001b[0m | \u001b[0m 217.4   \u001b[0m | \u001b[0m 15.3    \u001b[0m | \u001b[0m 115.2   \u001b[0m | \u001b[0m 2.463   \u001b[0m | \u001b[0m 59.93   \u001b[0m | \u001b[0m 1.05    \u001b[0m | \u001b[0m 5.203   \u001b[0m | \u001b[0m 0.8759  \u001b[0m |\n",
      "Training until validation scores don't improve for 100 rounds.\n",
      "[100]\ttraining's multi_logloss: 0.748178\ttraining's multi_logloss: 0.748178\tvalid_1's multi_logloss: 0.791087\tvalid_1's multi_logloss: 0.791087\n",
      "[200]\ttraining's multi_logloss: 0.689027\ttraining's multi_logloss: 0.689027\tvalid_1's multi_logloss: 0.76669\tvalid_1's multi_logloss: 0.76669\n",
      "[300]\ttraining's multi_logloss: 0.649232\ttraining's multi_logloss: 0.649232\tvalid_1's multi_logloss: 0.754692\tvalid_1's multi_logloss: 0.754692\n",
      "[400]\ttraining's multi_logloss: 0.617488\ttraining's multi_logloss: 0.617488\tvalid_1's multi_logloss: 0.746268\tvalid_1's multi_logloss: 0.746268\n",
      "[500]\ttraining's multi_logloss: 0.59028\ttraining's multi_logloss: 0.59028\tvalid_1's multi_logloss: 0.739845\tvalid_1's multi_logloss: 0.739845\n",
      "Did not meet early stopping. Best iteration is:\n",
      "[500]\ttraining's multi_logloss: 0.59028\ttraining's multi_logloss: 0.59028\tvalid_1's multi_logloss: 0.739845\tvalid_1's multi_logloss: 0.739845\n",
      "| \u001b[95m 22      \u001b[0m | \u001b[95m 0.7106  \u001b[0m | \u001b[95m 0.6478  \u001b[0m | \u001b[95m 396.4   \u001b[0m | \u001b[95m 15.61   \u001b[0m | \u001b[95m 16.66   \u001b[0m | \u001b[95m 14.87   \u001b[0m | \u001b[95m 62.08   \u001b[0m | \u001b[95m 0.2835  \u001b[0m | \u001b[95m 1.498   \u001b[0m | \u001b[95m 0.9761  \u001b[0m |\n",
      "Training until validation scores don't improve for 100 rounds.\n",
      "[100]\ttraining's multi_logloss: 0.771194\ttraining's multi_logloss: 0.771194\tvalid_1's multi_logloss: 0.797528\tvalid_1's multi_logloss: 0.797528\n",
      "[200]\ttraining's multi_logloss: 0.725881\ttraining's multi_logloss: 0.725881\tvalid_1's multi_logloss: 0.777026\tvalid_1's multi_logloss: 0.777026\n",
      "[300]\ttraining's multi_logloss: 0.69642\ttraining's multi_logloss: 0.69642\tvalid_1's multi_logloss: 0.766514\tvalid_1's multi_logloss: 0.766514\n",
      "[400]\ttraining's multi_logloss: 0.67267\ttraining's multi_logloss: 0.67267\tvalid_1's multi_logloss: 0.759416\tvalid_1's multi_logloss: 0.759416\n",
      "[500]\ttraining's multi_logloss: 0.65173\ttraining's multi_logloss: 0.65173\tvalid_1's multi_logloss: 0.753397\tvalid_1's multi_logloss: 0.753397\n",
      "Did not meet early stopping. Best iteration is:\n",
      "[500]\ttraining's multi_logloss: 0.65173\ttraining's multi_logloss: 0.65173\tvalid_1's multi_logloss: 0.753397\tvalid_1's multi_logloss: 0.753397\n",
      "| \u001b[0m 23      \u001b[0m | \u001b[0m 0.7055  \u001b[0m | \u001b[0m 0.8119  \u001b[0m | \u001b[0m 166.0   \u001b[0m | \u001b[0m 15.86   \u001b[0m | \u001b[0m 14.13   \u001b[0m | \u001b[0m 3.059   \u001b[0m | \u001b[0m 49.5    \u001b[0m | \u001b[0m 3.454   \u001b[0m | \u001b[0m 9.725   \u001b[0m | \u001b[0m 0.8201  \u001b[0m |\n",
      "Training until validation scores don't improve for 100 rounds.\n",
      "[100]\ttraining's multi_logloss: 0.751688\ttraining's multi_logloss: 0.751688\tvalid_1's multi_logloss: 0.790924\tvalid_1's multi_logloss: 0.790924\n",
      "[200]\ttraining's multi_logloss: 0.696277\ttraining's multi_logloss: 0.696277\tvalid_1's multi_logloss: 0.767676\tvalid_1's multi_logloss: 0.767676\n",
      "[300]\ttraining's multi_logloss: 0.659049\ttraining's multi_logloss: 0.659049\tvalid_1's multi_logloss: 0.756515\tvalid_1's multi_logloss: 0.756515\n",
      "[400]\ttraining's multi_logloss: 0.62856\ttraining's multi_logloss: 0.62856\tvalid_1's multi_logloss: 0.748803\tvalid_1's multi_logloss: 0.748803\n",
      "[500]\ttraining's multi_logloss: 0.601438\ttraining's multi_logloss: 0.601438\tvalid_1's multi_logloss: 0.742455\tvalid_1's multi_logloss: 0.742455\n",
      "Did not meet early stopping. Best iteration is:\n",
      "[500]\ttraining's multi_logloss: 0.601438\ttraining's multi_logloss: 0.601438\tvalid_1's multi_logloss: 0.742455\tvalid_1's multi_logloss: 0.742455\n",
      "| \u001b[0m 24      \u001b[0m | \u001b[0m 0.7086  \u001b[0m | \u001b[0m 0.7112  \u001b[0m | \u001b[0m 249.4   \u001b[0m | \u001b[0m 15.94   \u001b[0m | \u001b[0m 19.05   \u001b[0m | \u001b[0m 10.76   \u001b[0m | \u001b[0m 58.23   \u001b[0m | \u001b[0m 0.4221  \u001b[0m | \u001b[0m 3.375   \u001b[0m | \u001b[0m 0.932   \u001b[0m |\n",
      "Training until validation scores don't improve for 100 rounds.\n",
      "[100]\ttraining's multi_logloss: 0.762531\ttraining's multi_logloss: 0.762531\tvalid_1's multi_logloss: 0.794182\tvalid_1's multi_logloss: 0.794182\n",
      "[200]\ttraining's multi_logloss: 0.718176\ttraining's multi_logloss: 0.718176\tvalid_1's multi_logloss: 0.776129\tvalid_1's multi_logloss: 0.776129\n",
      "[300]\ttraining's multi_logloss: 0.689405\ttraining's multi_logloss: 0.689405\tvalid_1's multi_logloss: 0.766228\tvalid_1's multi_logloss: 0.766228\n",
      "[400]\ttraining's multi_logloss: 0.664962\ttraining's multi_logloss: 0.664962\tvalid_1's multi_logloss: 0.758926\tvalid_1's multi_logloss: 0.758926\n",
      "[500]\ttraining's multi_logloss: 0.642694\ttraining's multi_logloss: 0.642694\tvalid_1's multi_logloss: 0.752992\tvalid_1's multi_logloss: 0.752992\n",
      "Did not meet early stopping. Best iteration is:\n",
      "[500]\ttraining's multi_logloss: 0.642694\ttraining's multi_logloss: 0.642694\tvalid_1's multi_logloss: 0.752992\tvalid_1's multi_logloss: 0.752992\n",
      "| \u001b[0m 25      \u001b[0m | \u001b[0m 0.7047  \u001b[0m | \u001b[0m 0.844   \u001b[0m | \u001b[0m 141.0   \u001b[0m | \u001b[0m 9.812   \u001b[0m | \u001b[0m 22.1    \u001b[0m | \u001b[0m 19.73   \u001b[0m | \u001b[0m 54.71   \u001b[0m | \u001b[0m 1.526   \u001b[0m | \u001b[0m 4.63    \u001b[0m | \u001b[0m 0.7724  \u001b[0m |\n",
      "Training until validation scores don't improve for 100 rounds.\n",
      "[100]\ttraining's multi_logloss: 0.770159\ttraining's multi_logloss: 0.770159\tvalid_1's multi_logloss: 0.798279\tvalid_1's multi_logloss: 0.798279\n",
      "[200]\ttraining's multi_logloss: 0.724308\ttraining's multi_logloss: 0.724308\tvalid_1's multi_logloss: 0.776646\tvalid_1's multi_logloss: 0.776646\n",
      "[300]\ttraining's multi_logloss: 0.692237\ttraining's multi_logloss: 0.692237\tvalid_1's multi_logloss: 0.765034\tvalid_1's multi_logloss: 0.765034\n",
      "[400]\ttraining's multi_logloss: 0.666569\ttraining's multi_logloss: 0.666569\tvalid_1's multi_logloss: 0.757675\tvalid_1's multi_logloss: 0.757675\n",
      "[500]\ttraining's multi_logloss: 0.642502\ttraining's multi_logloss: 0.642502\tvalid_1's multi_logloss: 0.750785\tvalid_1's multi_logloss: 0.750785\n",
      "Did not meet early stopping. Best iteration is:\n",
      "[500]\ttraining's multi_logloss: 0.642502\ttraining's multi_logloss: 0.642502\tvalid_1's multi_logloss: 0.750785\tvalid_1's multi_logloss: 0.750785\n",
      "| \u001b[0m 26      \u001b[0m | \u001b[0m 0.7051  \u001b[0m | \u001b[0m 0.6912  \u001b[0m | \u001b[0m 290.9   \u001b[0m | \u001b[0m 15.89   \u001b[0m | \u001b[0m 18.99   \u001b[0m | \u001b[0m 5.669   \u001b[0m | \u001b[0m 35.84   \u001b[0m | \u001b[0m 0.3138  \u001b[0m | \u001b[0m 0.1021  \u001b[0m | \u001b[0m 0.6399  \u001b[0m |\n",
      "Training until validation scores don't improve for 100 rounds.\n",
      "[100]\ttraining's multi_logloss: 0.749471\ttraining's multi_logloss: 0.749471\tvalid_1's multi_logloss: 0.788384\tvalid_1's multi_logloss: 0.788384\n",
      "[200]\ttraining's multi_logloss: 0.69788\ttraining's multi_logloss: 0.69788\tvalid_1's multi_logloss: 0.768455\tvalid_1's multi_logloss: 0.768455\n",
      "[300]\ttraining's multi_logloss: 0.662203\ttraining's multi_logloss: 0.662203\tvalid_1's multi_logloss: 0.757602\tvalid_1's multi_logloss: 0.757602\n",
      "[400]\ttraining's multi_logloss: 0.633391\ttraining's multi_logloss: 0.633391\tvalid_1's multi_logloss: 0.748892\tvalid_1's multi_logloss: 0.748892\n",
      "[500]\ttraining's multi_logloss: 0.608456\ttraining's multi_logloss: 0.608456\tvalid_1's multi_logloss: 0.742962\tvalid_1's multi_logloss: 0.742962\n",
      "Did not meet early stopping. Best iteration is:\n",
      "[500]\ttraining's multi_logloss: 0.608456\ttraining's multi_logloss: 0.608456\tvalid_1's multi_logloss: 0.742962\tvalid_1's multi_logloss: 0.742962\n",
      "| \u001b[0m 27      \u001b[0m | \u001b[0m 0.7086  \u001b[0m | \u001b[0m 0.9502  \u001b[0m | \u001b[0m 238.3   \u001b[0m | \u001b[0m 15.78   \u001b[0m | \u001b[0m 11.23   \u001b[0m | \u001b[0m 24.5    \u001b[0m | \u001b[0m 58.76   \u001b[0m | \u001b[0m 0.4524  \u001b[0m | \u001b[0m 3.741   \u001b[0m | \u001b[0m 0.9392  \u001b[0m |\n",
      "Training until validation scores don't improve for 100 rounds.\n",
      "[100]\ttraining's multi_logloss: 0.746807\ttraining's multi_logloss: 0.746807\tvalid_1's multi_logloss: 0.788412\tvalid_1's multi_logloss: 0.788412\n",
      "[200]\ttraining's multi_logloss: 0.689949\ttraining's multi_logloss: 0.689949\tvalid_1's multi_logloss: 0.765445\tvalid_1's multi_logloss: 0.765445\n",
      "[300]\ttraining's multi_logloss: 0.651502\ttraining's multi_logloss: 0.651502\tvalid_1's multi_logloss: 0.75394\tvalid_1's multi_logloss: 0.75394\n",
      "[400]\ttraining's multi_logloss: 0.619824\ttraining's multi_logloss: 0.619824\tvalid_1's multi_logloss: 0.746136\tvalid_1's multi_logloss: 0.746136\n",
      "[500]\ttraining's multi_logloss: 0.592484\ttraining's multi_logloss: 0.592484\tvalid_1's multi_logloss: 0.739898\tvalid_1's multi_logloss: 0.739898\n",
      "Did not meet early stopping. Best iteration is:\n",
      "[500]\ttraining's multi_logloss: 0.592484\ttraining's multi_logloss: 0.592484\tvalid_1's multi_logloss: 0.739898\tvalid_1's multi_logloss: 0.739898\n",
      "| \u001b[0m 28      \u001b[0m | \u001b[0m 0.7087  \u001b[0m | \u001b[0m 0.7989  \u001b[0m | \u001b[0m 159.0   \u001b[0m | \u001b[0m 14.74   \u001b[0m | \u001b[0m 37.22   \u001b[0m | \u001b[0m 2.894   \u001b[0m | \u001b[0m 62.92   \u001b[0m | \u001b[0m 0.9692  \u001b[0m | \u001b[0m 2.6     \u001b[0m | \u001b[0m 0.6667  \u001b[0m |\n",
      "Training until validation scores don't improve for 100 rounds.\n",
      "[100]\ttraining's multi_logloss: 0.750833\ttraining's multi_logloss: 0.750833\tvalid_1's multi_logloss: 0.790788\tvalid_1's multi_logloss: 0.790788\n",
      "[200]\ttraining's multi_logloss: 0.695966\ttraining's multi_logloss: 0.695966\tvalid_1's multi_logloss: 0.76767\tvalid_1's multi_logloss: 0.76767\n",
      "[300]\ttraining's multi_logloss: 0.658244\ttraining's multi_logloss: 0.658244\tvalid_1's multi_logloss: 0.756448\tvalid_1's multi_logloss: 0.756448\n",
      "[400]\ttraining's multi_logloss: 0.628112\ttraining's multi_logloss: 0.628112\tvalid_1's multi_logloss: 0.748791\tvalid_1's multi_logloss: 0.748791\n",
      "[500]\ttraining's multi_logloss: 0.601914\ttraining's multi_logloss: 0.601914\tvalid_1's multi_logloss: 0.743028\tvalid_1's multi_logloss: 0.743028\n",
      "Did not meet early stopping. Best iteration is:\n",
      "[500]\ttraining's multi_logloss: 0.601914\ttraining's multi_logloss: 0.601914\tvalid_1's multi_logloss: 0.743028\tvalid_1's multi_logloss: 0.743028\n",
      "| \u001b[95m 29      \u001b[0m | \u001b[95m 0.711   \u001b[0m | \u001b[95m 0.7675  \u001b[0m | \u001b[95m 269.6   \u001b[0m | \u001b[95m 13.9    \u001b[0m | \u001b[95m 68.27   \u001b[0m | \u001b[95m 9.013   \u001b[0m | \u001b[95m 63.39   \u001b[0m | \u001b[95m 1.764   \u001b[0m | \u001b[95m 0.6887  \u001b[0m | \u001b[95m 0.501   \u001b[0m |\n",
      "Training until validation scores don't improve for 100 rounds.\n",
      "[100]\ttraining's multi_logloss: 0.755282\ttraining's multi_logloss: 0.755282\tvalid_1's multi_logloss: 0.791997\tvalid_1's multi_logloss: 0.791997\n",
      "[200]\ttraining's multi_logloss: 0.706079\ttraining's multi_logloss: 0.706079\tvalid_1's multi_logloss: 0.772525\tvalid_1's multi_logloss: 0.772525\n",
      "[300]\ttraining's multi_logloss: 0.672815\ttraining's multi_logloss: 0.672815\tvalid_1's multi_logloss: 0.762101\tvalid_1's multi_logloss: 0.762101\n",
      "[400]\ttraining's multi_logloss: 0.646629\ttraining's multi_logloss: 0.646629\tvalid_1's multi_logloss: 0.754504\tvalid_1's multi_logloss: 0.754504\n",
      "[500]\ttraining's multi_logloss: 0.623722\ttraining's multi_logloss: 0.623722\tvalid_1's multi_logloss: 0.748688\tvalid_1's multi_logloss: 0.748688\n",
      "Did not meet early stopping. Best iteration is:\n",
      "[500]\ttraining's multi_logloss: 0.623722\ttraining's multi_logloss: 0.623722\tvalid_1's multi_logloss: 0.748688\tvalid_1's multi_logloss: 0.748688\n",
      "| \u001b[0m 30      \u001b[0m | \u001b[0m 0.7076  \u001b[0m | \u001b[0m 0.9007  \u001b[0m | \u001b[0m 230.0   \u001b[0m | \u001b[0m 15.83   \u001b[0m | \u001b[0m 145.3   \u001b[0m | \u001b[0m 2.604   \u001b[0m | \u001b[0m 60.66   \u001b[0m | \u001b[0m 1.465   \u001b[0m | \u001b[0m 0.1297  \u001b[0m | \u001b[0m 0.6202  \u001b[0m |\n",
      "=====================================================================================================================================\n"
     ]
    }
   ],
   "source": [
    "# BayesianOptimization객체를 수행할 함수와 search할 parameter 범위를 설정하여 생성. \n",
    "lgbBO = BayesianOptimization(lgb_roc_eval,bayesian_params , random_state=0)\n",
    "# 함수 반환값이 최대가 되는 입력값 유추를 위한 iteration 수행. \n",
    "lgbBO.maximize(init_points=5, n_iter=25)"
   ]
  },
  {
   "cell_type": "code",
   "execution_count": null,
   "metadata": {
    "id": "16lhW6ZSJjol"
   },
   "outputs": [],
   "source": [
    "# # BayesianOptimization객체의 res는 iteration 수행 시마다 모든 함수 반환결과와 그때의 파라미터 결과값을 가지고 있음. \n",
    "# lgbBO.res"
   ]
  },
  {
   "cell_type": "code",
   "execution_count": null,
   "metadata": {
    "colab": {
     "base_uri": "https://localhost:8080/"
    },
    "executionInfo": {
     "elapsed": 710,
     "status": "ok",
     "timestamp": 1618386452664,
     "user": {
      "displayName": "mana9017 Z",
      "photoUrl": "",
      "userId": "12890573916331922228"
     },
     "user_tz": -540
    },
    "id": "61C1XY2hJoE6",
    "outputId": "0b9a75d2-acc0-417f-aec6-1829e37a9d4a"
   },
   "outputs": [
    {
     "name": "stdout",
     "output_type": "stream",
     "text": [
      "[0.6945074326026707, 0.6977828168304359, 0.7024439405391786, 0.6945074326026707, 0.6951373141849332, 0.6962711010330058, 0.6951373141849332, 0.7026958931720837, 0.6957671957671958, 0.6948853615520282, 0.708994708994709, 0.7035777273872512, 0.7062232300327539, 0.7091206853111615, 0.7091206853111615, 0.7040816326530612, 0.709246661627614, 0.708742756361804, 0.709498614260519, 0.7067271352985639, 0.7055933484504913, 0.7106324011085916, 0.7054673721340388, 0.7086167800453514, 0.7047115142353237, 0.7050894431846813, 0.7086167800453514, 0.708742756361804, 0.7110103300579491, 0.7076089695137314]\n",
      "maximum target index: 28\n"
     ]
    }
   ],
   "source": [
    "# dictionary에 있는 target값을 모두 추출\n",
    "target_list = []\n",
    "for result in lgbBO.res:\n",
    "    target = result['target']\n",
    "    target_list.append(target)\n",
    "print(target_list)\n",
    "# 가장 큰 target 값을 가지는 순번(index)를 추출\n",
    "print('maximum target index:', np.argmax(np.array(target_list)))"
   ]
  },
  {
   "cell_type": "code",
   "execution_count": null,
   "metadata": {
    "colab": {
     "base_uri": "https://localhost:8080/"
    },
    "executionInfo": {
     "elapsed": 707,
     "status": "ok",
     "timestamp": 1618386458513,
     "user": {
      "displayName": "mana9017 Z",
      "photoUrl": "",
      "userId": "12890573916331922228"
     },
     "user_tz": -540
    },
    "id": "CwHuU8LkJxAP",
    "outputId": "b82abc4d-8388-4fba-eab9-0dec394ec327"
   },
   "outputs": [
    {
     "name": "stdout",
     "output_type": "stream",
     "text": [
      "{'target': 0.7110103300579491, 'params': {'colsample_bytree': 0.7674567512954314, 'max_bin': 269.6109200398602, 'max_depth': 13.896975914831401, 'min_child_samples': 68.26720342186422, 'min_child_weight': 9.013217831887559, 'num_leaves': 63.394654638730955, 'reg_alpha': 1.7639768328775685, 'reg_lambda': 0.688724140896305, 'subsample': 0.5009743194948411}}\n"
     ]
    }
   ],
   "source": [
    "max_dict = lgbBO.res[np.argmax(np.array(target_list))]\n",
    "print(max_dict)"
   ]
  },
  {
   "cell_type": "markdown",
   "metadata": {
    "id": "Onk3TMdaFPD5"
   },
   "source": [
    "#### 5-2 최적의 파라미터로 학습/예측 한번만 시행 "
   ]
  },
  {
   "cell_type": "code",
   "execution_count": null,
   "metadata": {
    "id": "Vm8rjbrPJ5z5"
   },
   "outputs": [],
   "source": [
    "# 최적화된 하이퍼 파라미터를 기반으로 재 테스트\n",
    "def train_all(train):\n",
    "    ftr_train = train.drop(['index', 'credit'], axis=1)\n",
    "    target_train = train['credit']\n",
    "\n",
    "    train_x, valid_x, train_y, valid_y = train_test_split(ftr_train, target_train, test_size=0.3, random_state=2020)\n",
    "    print('train shape:', train_x.shape, 'valid shape:', valid_x.shape)\n",
    "    clf = LGBMClassifier(\n",
    "                nthread=4,\n",
    "                n_estimators=1000,\n",
    "                learning_rate=0.02,\n",
    "                max_depth = 14,\n",
    "                num_leaves=63,\n",
    "                colsample_bytree=0.767,\n",
    "                subsample=0.8,\n",
    "                max_bin=270,\n",
    "                reg_alpha=1.764,\n",
    "                reg_lambda=0.689,\n",
    "                min_child_weight=9,\n",
    "                min_child_samples=68,\n",
    "                silent=-1,\n",
    "                verbose=-1,\n",
    "                )\n",
    "\n",
    "    clf.fit(train_x, train_y, eval_set=[(train_x, train_y), (valid_x, valid_y)], eval_metric= 'logloss', verbose= 100, \n",
    "                early_stopping_rounds= 100)\n",
    "    \n",
    "    return clf"
   ]
  },
  {
   "cell_type": "code",
   "execution_count": null,
   "metadata": {
    "colab": {
     "base_uri": "https://localhost:8080/"
    },
    "executionInfo": {
     "elapsed": 766,
     "status": "ok",
     "timestamp": 1618387068844,
     "user": {
      "displayName": "mana9017 Z",
      "photoUrl": "",
      "userId": "12890573916331922228"
     },
     "user_tz": -540
    },
    "id": "zV3K5FMzeQKN",
    "outputId": "739176d8-7be0-4b14-8d5a-44d7ecd60ea9"
   },
   "outputs": [
    {
     "data": {
      "text/plain": [
       "((26457, 30), (10000, 29))"
      ]
     },
     "execution_count": 657,
     "metadata": {
      "tags": []
     },
     "output_type": "execute_result"
    }
   ],
   "source": [
    "train = data[~data['credit'].isnull()]\n",
    "test = data[data['credit'].isnull()]\n",
    "test = test.drop('credit', axis=1)\n",
    "train.shape , test.shape "
   ]
  },
  {
   "cell_type": "code",
   "execution_count": null,
   "metadata": {
    "colab": {
     "base_uri": "https://localhost:8080/"
    },
    "executionInfo": {
     "elapsed": 24522,
     "status": "ok",
     "timestamp": 1618387095359,
     "user": {
      "displayName": "mana9017 Z",
      "photoUrl": "",
      "userId": "12890573916331922228"
     },
     "user_tz": -540
    },
    "id": "e6I90N7ed0x8",
    "outputId": "f4318169-f357-4b97-b7d6-4519951b9b76"
   },
   "outputs": [
    {
     "name": "stdout",
     "output_type": "stream",
     "text": [
      "train shape: (18519, 28) valid shape: (7938, 28)\n",
      "Training until validation scores don't improve for 100 rounds.\n",
      "[100]\ttraining's multi_logloss: 0.747335\ttraining's multi_logloss: 0.747335\tvalid_1's multi_logloss: 0.796219\tvalid_1's multi_logloss: 0.796219\n",
      "[200]\ttraining's multi_logloss: 0.69278\ttraining's multi_logloss: 0.69278\tvalid_1's multi_logloss: 0.774333\tvalid_1's multi_logloss: 0.774333\n",
      "[300]\ttraining's multi_logloss: 0.653517\ttraining's multi_logloss: 0.653517\tvalid_1's multi_logloss: 0.763178\tvalid_1's multi_logloss: 0.763178\n",
      "[400]\ttraining's multi_logloss: 0.62304\ttraining's multi_logloss: 0.62304\tvalid_1's multi_logloss: 0.756523\tvalid_1's multi_logloss: 0.756523\n",
      "[500]\ttraining's multi_logloss: 0.597562\ttraining's multi_logloss: 0.597562\tvalid_1's multi_logloss: 0.75112\tvalid_1's multi_logloss: 0.75112\n",
      "[600]\ttraining's multi_logloss: 0.574393\ttraining's multi_logloss: 0.574393\tvalid_1's multi_logloss: 0.746415\tvalid_1's multi_logloss: 0.746415\n",
      "[700]\ttraining's multi_logloss: 0.553762\ttraining's multi_logloss: 0.553762\tvalid_1's multi_logloss: 0.743361\tvalid_1's multi_logloss: 0.743361\n",
      "[800]\ttraining's multi_logloss: 0.535636\ttraining's multi_logloss: 0.535636\tvalid_1's multi_logloss: 0.741101\tvalid_1's multi_logloss: 0.741101\n",
      "[900]\ttraining's multi_logloss: 0.518494\ttraining's multi_logloss: 0.518494\tvalid_1's multi_logloss: 0.740053\tvalid_1's multi_logloss: 0.740053\n",
      "[1000]\ttraining's multi_logloss: 0.502668\ttraining's multi_logloss: 0.502668\tvalid_1's multi_logloss: 0.739151\tvalid_1's multi_logloss: 0.739151\n",
      "Did not meet early stopping. Best iteration is:\n",
      "[1000]\ttraining's multi_logloss: 0.502668\ttraining's multi_logloss: 0.502668\tvalid_1's multi_logloss: 0.739151\tvalid_1's multi_logloss: 0.739151\n"
     ]
    }
   ],
   "source": [
    "clf = train_all(train)"
   ]
  },
  {
   "cell_type": "code",
   "execution_count": null,
   "metadata": {
    "id": "XpmJSHRxCozY"
   },
   "outputs": [],
   "source": [
    "submission = pd.read_csv('/content/data/sample_submission.csv')"
   ]
  },
  {
   "cell_type": "code",
   "execution_count": null,
   "metadata": {
    "id": "ThfO2hoHCp4l"
   },
   "outputs": [],
   "source": [
    "predictions = clf.predict_proba(test.drop('index', axis=1))\n",
    "submission.iloc[:, 1:] = predictions\n",
    "submission.to_csv('submission_try02_tunning_3.csv', index=False)"
   ]
  },
  {
   "cell_type": "markdown",
   "metadata": {
    "id": "EFveLon_Fm5z"
   },
   "source": [
    "#### 5-3. 최적의 파라미터로 OOF 검증하여 학습/예측 시행 "
   ]
  },
  {
   "cell_type": "code",
   "execution_count": null,
   "metadata": {
    "id": "IsRPMfhHFj2H"
   },
   "outputs": [],
   "source": [
    "from sklearn.model_selection import KFold\n",
    "\n",
    "def train_apps_all_with_oof(train, test, nfolds=5):\n",
    "    ftr_train = train.drop(['index', 'credit'], axis=1)\n",
    "    target_train = train['credit']\n",
    "\n",
    "    # nfolds 개의 cross validatin fold set을 가지는 KFold 생성 \n",
    "    folds = KFold(n_splits=nfolds, shuffle=True, random_state=2020)\n",
    "    \n",
    "    \n",
    "    # Ouf of Folds로 학습된 모델의 test dataset을 예측하여 결과 확률을 담을 array 생성. \n",
    "    test_preds = np.zeros((test.shape[0], 3))\n",
    "    \n",
    "    # n_estimators를 4000까지 확대. \n",
    "    clf = LGBMClassifier(\n",
    "                  nthread=4,\n",
    "                  n_estimators=4000,\n",
    "                  learning_rate=0.01,\n",
    "                  max_depth = 14,\n",
    "                  num_leaves=63,\n",
    "                  colsample_bytree=0.767,\n",
    "                  subsample=0.8,\n",
    "                  max_bin=270,\n",
    "                  reg_alpha=1.764,\n",
    "                  reg_lambda=0.689,\n",
    "                  min_child_weight=9,\n",
    "                  min_child_samples=68,\n",
    "                  silent=-1,\n",
    "                  verbose=-1,\n",
    "                  )\n",
    "\n",
    "    # nfolds 번 cross validation Iteration 반복하면서 OOF 방식으로 학습 및 테스트 데이터 예측\n",
    "    for fold_idx, (train_idx, valid_idx) in enumerate(folds.split(ftr_train)):\n",
    "        print('##### iteration ', fold_idx, ' 시작')\n",
    "        # 학습용 데이터 세트의 인덱스와 검증용 데이터 세트의 인덱스 추출하여 이를 기반으로 학습/검증 데이터 추출\n",
    "        train_x  = ftr_train.iloc[train_idx, :]\n",
    "        train_y = target_train.iloc[train_idx]\n",
    "        valid_x = ftr_train.iloc[valid_idx, :]\n",
    "        valid_y = target_train.iloc[valid_idx]\n",
    "        \n",
    "        # 추출된 학습/검증 데이터 세트로 모델 학습. early_stopping은 200으로 증가. \n",
    "        clf.fit(train_x, train_y, eval_set=[(train_x, train_y), (valid_x, valid_y)], eval_metric= 'logloss', verbose= 200, \n",
    "                early_stopping_rounds= 200)\n",
    "   \n",
    "        # 학습된 모델로 테스트 데이터 세트에 예측 확률 계산. \n",
    "        # nfolds 번 반복 실행하므로 평균 확률을 구하기 위해 개별 수행시 마다 수행 횟수로 나눈 확률을 추후에 더해서 최종 평균 확률 계산. \n",
    "        test_preds += clf.predict_proba(test.drop('index', axis=1), num_iteration=clf.best_iteration_)/folds.n_splits\n",
    "        \n",
    "        \n",
    "    return clf, test_preds"
   ]
  },
  {
   "cell_type": "code",
   "execution_count": null,
   "metadata": {
    "colab": {
     "base_uri": "https://localhost:8080/"
    },
    "executionInfo": {
     "elapsed": 414983,
     "status": "ok",
     "timestamp": 1618387753683,
     "user": {
      "displayName": "mana9017 Z",
      "photoUrl": "",
      "userId": "12890573916331922228"
     },
     "user_tz": -540
    },
    "id": "N1X-qktNFuEW",
    "outputId": "b7a0223b-2543-44ac-8af2-1c689846c0ad"
   },
   "outputs": [
    {
     "name": "stdout",
     "output_type": "stream",
     "text": [
      "##### iteration  0  시작\n",
      "Training until validation scores don't improve for 200 rounds.\n",
      "[200]\ttraining's multi_logloss: 0.748762\ttraining's multi_logloss: 0.748762\tvalid_1's multi_logloss: 0.802577\tvalid_1's multi_logloss: 0.802577\n",
      "[400]\ttraining's multi_logloss: 0.695694\ttraining's multi_logloss: 0.695694\tvalid_1's multi_logloss: 0.778688\tvalid_1's multi_logloss: 0.778688\n",
      "[600]\ttraining's multi_logloss: 0.660218\ttraining's multi_logloss: 0.660218\tvalid_1's multi_logloss: 0.766339\tvalid_1's multi_logloss: 0.766339\n",
      "[800]\ttraining's multi_logloss: 0.632211\ttraining's multi_logloss: 0.632211\tvalid_1's multi_logloss: 0.759286\tvalid_1's multi_logloss: 0.759286\n",
      "[1000]\ttraining's multi_logloss: 0.606614\ttraining's multi_logloss: 0.606614\tvalid_1's multi_logloss: 0.753165\tvalid_1's multi_logloss: 0.753165\n",
      "[1200]\ttraining's multi_logloss: 0.584055\ttraining's multi_logloss: 0.584055\tvalid_1's multi_logloss: 0.748449\tvalid_1's multi_logloss: 0.748449\n",
      "[1400]\ttraining's multi_logloss: 0.564274\ttraining's multi_logloss: 0.564274\tvalid_1's multi_logloss: 0.744676\tvalid_1's multi_logloss: 0.744676\n",
      "[1600]\ttraining's multi_logloss: 0.546805\ttraining's multi_logloss: 0.546805\tvalid_1's multi_logloss: 0.742236\tvalid_1's multi_logloss: 0.742236\n",
      "[1800]\ttraining's multi_logloss: 0.53035\ttraining's multi_logloss: 0.53035\tvalid_1's multi_logloss: 0.740568\tvalid_1's multi_logloss: 0.740568\n",
      "[2000]\ttraining's multi_logloss: 0.514927\ttraining's multi_logloss: 0.514927\tvalid_1's multi_logloss: 0.73924\tvalid_1's multi_logloss: 0.73924\n",
      "[2200]\ttraining's multi_logloss: 0.50103\ttraining's multi_logloss: 0.50103\tvalid_1's multi_logloss: 0.738459\tvalid_1's multi_logloss: 0.738459\n",
      "[2400]\ttraining's multi_logloss: 0.488264\ttraining's multi_logloss: 0.488264\tvalid_1's multi_logloss: 0.738163\tvalid_1's multi_logloss: 0.738163\n",
      "Early stopping, best iteration is:\n",
      "[2331]\ttraining's multi_logloss: 0.49247\ttraining's multi_logloss: 0.49247\tvalid_1's multi_logloss: 0.738119\tvalid_1's multi_logloss: 0.738119\n",
      "##### iteration  1  시작\n",
      "Training until validation scores don't improve for 200 rounds.\n",
      "[200]\ttraining's multi_logloss: 0.754945\ttraining's multi_logloss: 0.754945\tvalid_1's multi_logloss: 0.781662\tvalid_1's multi_logloss: 0.781662\n",
      "[400]\ttraining's multi_logloss: 0.70183\ttraining's multi_logloss: 0.70183\tvalid_1's multi_logloss: 0.756525\tvalid_1's multi_logloss: 0.756525\n",
      "[600]\ttraining's multi_logloss: 0.66716\ttraining's multi_logloss: 0.66716\tvalid_1's multi_logloss: 0.744419\tvalid_1's multi_logloss: 0.744419\n",
      "[800]\ttraining's multi_logloss: 0.637833\ttraining's multi_logloss: 0.637833\tvalid_1's multi_logloss: 0.735626\tvalid_1's multi_logloss: 0.735626\n",
      "[1000]\ttraining's multi_logloss: 0.613222\ttraining's multi_logloss: 0.613222\tvalid_1's multi_logloss: 0.72942\tvalid_1's multi_logloss: 0.72942\n",
      "[1200]\ttraining's multi_logloss: 0.590827\ttraining's multi_logloss: 0.590827\tvalid_1's multi_logloss: 0.724028\tvalid_1's multi_logloss: 0.724028\n",
      "[1400]\ttraining's multi_logloss: 0.571262\ttraining's multi_logloss: 0.571262\tvalid_1's multi_logloss: 0.720448\tvalid_1's multi_logloss: 0.720448\n",
      "[1600]\ttraining's multi_logloss: 0.553273\ttraining's multi_logloss: 0.553273\tvalid_1's multi_logloss: 0.717174\tvalid_1's multi_logloss: 0.717174\n",
      "[1800]\ttraining's multi_logloss: 0.536688\ttraining's multi_logloss: 0.536688\tvalid_1's multi_logloss: 0.714831\tvalid_1's multi_logloss: 0.714831\n",
      "[2000]\ttraining's multi_logloss: 0.521683\ttraining's multi_logloss: 0.521683\tvalid_1's multi_logloss: 0.713189\tvalid_1's multi_logloss: 0.713189\n",
      "[2200]\ttraining's multi_logloss: 0.507535\ttraining's multi_logloss: 0.507535\tvalid_1's multi_logloss: 0.711971\tvalid_1's multi_logloss: 0.711971\n",
      "[2400]\ttraining's multi_logloss: 0.494651\ttraining's multi_logloss: 0.494651\tvalid_1's multi_logloss: 0.711179\tvalid_1's multi_logloss: 0.711179\n",
      "[2600]\ttraining's multi_logloss: 0.482304\ttraining's multi_logloss: 0.482304\tvalid_1's multi_logloss: 0.710754\tvalid_1's multi_logloss: 0.710754\n",
      "[2800]\ttraining's multi_logloss: 0.470852\ttraining's multi_logloss: 0.470852\tvalid_1's multi_logloss: 0.710803\tvalid_1's multi_logloss: 0.710803\n",
      "Early stopping, best iteration is:\n",
      "[2690]\ttraining's multi_logloss: 0.477091\ttraining's multi_logloss: 0.477091\tvalid_1's multi_logloss: 0.71068\tvalid_1's multi_logloss: 0.71068\n",
      "##### iteration  2  시작\n",
      "Training until validation scores don't improve for 200 rounds.\n",
      "[200]\ttraining's multi_logloss: 0.752589\ttraining's multi_logloss: 0.752589\tvalid_1's multi_logloss: 0.786891\tvalid_1's multi_logloss: 0.786891\n",
      "[400]\ttraining's multi_logloss: 0.698499\ttraining's multi_logloss: 0.698499\tvalid_1's multi_logloss: 0.763035\tvalid_1's multi_logloss: 0.763035\n",
      "[600]\ttraining's multi_logloss: 0.661745\ttraining's multi_logloss: 0.661745\tvalid_1's multi_logloss: 0.751351\tvalid_1's multi_logloss: 0.751351\n",
      "[800]\ttraining's multi_logloss: 0.632626\ttraining's multi_logloss: 0.632626\tvalid_1's multi_logloss: 0.74448\tvalid_1's multi_logloss: 0.74448\n",
      "[1000]\ttraining's multi_logloss: 0.607649\ttraining's multi_logloss: 0.607649\tvalid_1's multi_logloss: 0.739707\tvalid_1's multi_logloss: 0.739707\n",
      "[1200]\ttraining's multi_logloss: 0.586489\ttraining's multi_logloss: 0.586489\tvalid_1's multi_logloss: 0.735913\tvalid_1's multi_logloss: 0.735913\n",
      "[1400]\ttraining's multi_logloss: 0.566863\ttraining's multi_logloss: 0.566863\tvalid_1's multi_logloss: 0.732665\tvalid_1's multi_logloss: 0.732665\n",
      "[1600]\ttraining's multi_logloss: 0.549485\ttraining's multi_logloss: 0.549485\tvalid_1's multi_logloss: 0.731444\tvalid_1's multi_logloss: 0.731444\n",
      "[1800]\ttraining's multi_logloss: 0.533062\ttraining's multi_logloss: 0.533062\tvalid_1's multi_logloss: 0.730889\tvalid_1's multi_logloss: 0.730889\n",
      "[2000]\ttraining's multi_logloss: 0.517463\ttraining's multi_logloss: 0.517463\tvalid_1's multi_logloss: 0.730051\tvalid_1's multi_logloss: 0.730051\n",
      "[2200]\ttraining's multi_logloss: 0.503141\ttraining's multi_logloss: 0.503141\tvalid_1's multi_logloss: 0.729641\tvalid_1's multi_logloss: 0.729641\n",
      "[2400]\ttraining's multi_logloss: 0.490044\ttraining's multi_logloss: 0.490044\tvalid_1's multi_logloss: 0.729561\tvalid_1's multi_logloss: 0.729561\n",
      "Early stopping, best iteration is:\n",
      "[2241]\ttraining's multi_logloss: 0.500377\ttraining's multi_logloss: 0.500377\tvalid_1's multi_logloss: 0.729497\tvalid_1's multi_logloss: 0.729497\n",
      "##### iteration  3  시작\n",
      "Training until validation scores don't improve for 200 rounds.\n",
      "[200]\ttraining's multi_logloss: 0.751601\ttraining's multi_logloss: 0.751601\tvalid_1's multi_logloss: 0.796195\tvalid_1's multi_logloss: 0.796195\n",
      "[400]\ttraining's multi_logloss: 0.699206\ttraining's multi_logloss: 0.699206\tvalid_1's multi_logloss: 0.773159\tvalid_1's multi_logloss: 0.773159\n",
      "[600]\ttraining's multi_logloss: 0.663006\ttraining's multi_logloss: 0.663006\tvalid_1's multi_logloss: 0.761388\tvalid_1's multi_logloss: 0.761388\n",
      "[800]\ttraining's multi_logloss: 0.634075\ttraining's multi_logloss: 0.634075\tvalid_1's multi_logloss: 0.752218\tvalid_1's multi_logloss: 0.752218\n",
      "[1000]\ttraining's multi_logloss: 0.609011\ttraining's multi_logloss: 0.609011\tvalid_1's multi_logloss: 0.744968\tvalid_1's multi_logloss: 0.744968\n",
      "[1200]\ttraining's multi_logloss: 0.587406\ttraining's multi_logloss: 0.587406\tvalid_1's multi_logloss: 0.738777\tvalid_1's multi_logloss: 0.738777\n",
      "[1400]\ttraining's multi_logloss: 0.568666\ttraining's multi_logloss: 0.568666\tvalid_1's multi_logloss: 0.734423\tvalid_1's multi_logloss: 0.734423\n",
      "[1600]\ttraining's multi_logloss: 0.551032\ttraining's multi_logloss: 0.551032\tvalid_1's multi_logloss: 0.730785\tvalid_1's multi_logloss: 0.730785\n",
      "[1800]\ttraining's multi_logloss: 0.534909\ttraining's multi_logloss: 0.534909\tvalid_1's multi_logloss: 0.728035\tvalid_1's multi_logloss: 0.728035\n",
      "[2000]\ttraining's multi_logloss: 0.519978\ttraining's multi_logloss: 0.519978\tvalid_1's multi_logloss: 0.725519\tvalid_1's multi_logloss: 0.725519\n",
      "[2200]\ttraining's multi_logloss: 0.505883\ttraining's multi_logloss: 0.505883\tvalid_1's multi_logloss: 0.723957\tvalid_1's multi_logloss: 0.723957\n",
      "[2400]\ttraining's multi_logloss: 0.492825\ttraining's multi_logloss: 0.492825\tvalid_1's multi_logloss: 0.723319\tvalid_1's multi_logloss: 0.723319\n",
      "[2600]\ttraining's multi_logloss: 0.480388\ttraining's multi_logloss: 0.480388\tvalid_1's multi_logloss: 0.722756\tvalid_1's multi_logloss: 0.722756\n",
      "[2800]\ttraining's multi_logloss: 0.468779\ttraining's multi_logloss: 0.468779\tvalid_1's multi_logloss: 0.722148\tvalid_1's multi_logloss: 0.722148\n",
      "[3000]\ttraining's multi_logloss: 0.457775\ttraining's multi_logloss: 0.457775\tvalid_1's multi_logloss: 0.722059\tvalid_1's multi_logloss: 0.722059\n",
      "[3200]\ttraining's multi_logloss: 0.44756\ttraining's multi_logloss: 0.44756\tvalid_1's multi_logloss: 0.721763\tvalid_1's multi_logloss: 0.721763\n",
      "[3400]\ttraining's multi_logloss: 0.437358\ttraining's multi_logloss: 0.437358\tvalid_1's multi_logloss: 0.721459\tvalid_1's multi_logloss: 0.721459\n",
      "[3600]\ttraining's multi_logloss: 0.42786\ttraining's multi_logloss: 0.42786\tvalid_1's multi_logloss: 0.721648\tvalid_1's multi_logloss: 0.721648\n",
      "Early stopping, best iteration is:\n",
      "[3463]\ttraining's multi_logloss: 0.434241\ttraining's multi_logloss: 0.434241\tvalid_1's multi_logloss: 0.721444\tvalid_1's multi_logloss: 0.721444\n",
      "##### iteration  4  시작\n",
      "Training until validation scores don't improve for 200 rounds.\n",
      "[200]\ttraining's multi_logloss: 0.752589\ttraining's multi_logloss: 0.752589\tvalid_1's multi_logloss: 0.790518\tvalid_1's multi_logloss: 0.790518\n",
      "[400]\ttraining's multi_logloss: 0.699374\ttraining's multi_logloss: 0.699374\tvalid_1's multi_logloss: 0.767878\tvalid_1's multi_logloss: 0.767878\n",
      "[600]\ttraining's multi_logloss: 0.663874\ttraining's multi_logloss: 0.663874\tvalid_1's multi_logloss: 0.756225\tvalid_1's multi_logloss: 0.756225\n",
      "[800]\ttraining's multi_logloss: 0.634793\ttraining's multi_logloss: 0.634793\tvalid_1's multi_logloss: 0.746737\tvalid_1's multi_logloss: 0.746737\n",
      "[1000]\ttraining's multi_logloss: 0.610504\ttraining's multi_logloss: 0.610504\tvalid_1's multi_logloss: 0.739942\tvalid_1's multi_logloss: 0.739942\n",
      "[1200]\ttraining's multi_logloss: 0.589366\ttraining's multi_logloss: 0.589366\tvalid_1's multi_logloss: 0.73487\tvalid_1's multi_logloss: 0.73487\n",
      "[1400]\ttraining's multi_logloss: 0.570447\ttraining's multi_logloss: 0.570447\tvalid_1's multi_logloss: 0.730612\tvalid_1's multi_logloss: 0.730612\n",
      "[1600]\ttraining's multi_logloss: 0.553107\ttraining's multi_logloss: 0.553107\tvalid_1's multi_logloss: 0.727287\tvalid_1's multi_logloss: 0.727287\n",
      "[1800]\ttraining's multi_logloss: 0.536988\ttraining's multi_logloss: 0.536988\tvalid_1's multi_logloss: 0.725162\tvalid_1's multi_logloss: 0.725162\n",
      "[2000]\ttraining's multi_logloss: 0.521913\ttraining's multi_logloss: 0.521913\tvalid_1's multi_logloss: 0.723037\tvalid_1's multi_logloss: 0.723037\n",
      "[2200]\ttraining's multi_logloss: 0.508047\ttraining's multi_logloss: 0.508047\tvalid_1's multi_logloss: 0.721876\tvalid_1's multi_logloss: 0.721876\n",
      "[2400]\ttraining's multi_logloss: 0.494873\ttraining's multi_logloss: 0.494873\tvalid_1's multi_logloss: 0.72057\tvalid_1's multi_logloss: 0.72057\n",
      "[2600]\ttraining's multi_logloss: 0.482836\ttraining's multi_logloss: 0.482836\tvalid_1's multi_logloss: 0.719885\tvalid_1's multi_logloss: 0.719885\n",
      "[2800]\ttraining's multi_logloss: 0.471438\ttraining's multi_logloss: 0.471438\tvalid_1's multi_logloss: 0.719545\tvalid_1's multi_logloss: 0.719545\n",
      "[3000]\ttraining's multi_logloss: 0.460811\ttraining's multi_logloss: 0.460811\tvalid_1's multi_logloss: 0.719968\tvalid_1's multi_logloss: 0.719968\n",
      "Early stopping, best iteration is:\n",
      "[2800]\ttraining's multi_logloss: 0.471438\ttraining's multi_logloss: 0.471438\tvalid_1's multi_logloss: 0.719545\tvalid_1's multi_logloss: 0.719545\n"
     ]
    }
   ],
   "source": [
    "clf, test_preds = train_apps_all_with_oof(train, test, nfolds=5)"
   ]
  },
  {
   "cell_type": "code",
   "execution_count": null,
   "metadata": {
    "id": "V17yhjo1F_lM"
   },
   "outputs": [],
   "source": [
    "submission = pd.read_csv('/content/data/sample_submission.csv')"
   ]
  },
  {
   "cell_type": "code",
   "execution_count": null,
   "metadata": {
    "id": "jvvrQIAxGAHK"
   },
   "outputs": [],
   "source": [
    "submission.iloc[:, 1:] = test_preds\n",
    "submission.to_csv('submission_try02_tunning_3_oof.csv', index=False)"
   ]
  }
 ],
 "metadata": {
  "colab": {
   "authorship_tag": "ABX9TyOGLO8tIxnydf1z5p3Hhpr8",
   "collapsed_sections": [
    "bNuIcdXitE5d",
    "It6o1aN6r40g",
    "ixZxI8-Wsz11"
   ],
   "mount_file_id": "1ltGsNUoLJZNyA41QFqvfO7oBDYCu3lXt",
   "name": "Dacon_user_credit_prediction.ipynb",
   "provenance": [
    {
     "file_id": "1ltGsNUoLJZNyA41QFqvfO7oBDYCu3lXt",
     "timestamp": 1618388387648
    }
   ]
  },
  "kernelspec": {
   "display_name": "Python 3",
   "language": "python",
   "name": "python3"
  },
  "language_info": {
   "codemirror_mode": {
    "name": "ipython",
    "version": 3
   },
   "file_extension": ".py",
   "mimetype": "text/x-python",
   "name": "python",
   "nbconvert_exporter": "python",
   "pygments_lexer": "ipython3",
   "version": "3.8.5"
  },
  "toc": {
   "base_numbering": 1,
   "nav_menu": {},
   "number_sections": true,
   "sideBar": true,
   "skip_h1_title": false,
   "title_cell": "Table of Contents",
   "title_sidebar": "Contents",
   "toc_cell": false,
   "toc_position": {},
   "toc_section_display": true,
   "toc_window_display": false
  },
  "varInspector": {
   "cols": {
    "lenName": 16,
    "lenType": 16,
    "lenVar": 40
   },
   "kernels_config": {
    "python": {
     "delete_cmd_postfix": "",
     "delete_cmd_prefix": "del ",
     "library": "var_list.py",
     "varRefreshCmd": "print(var_dic_list())"
    },
    "r": {
     "delete_cmd_postfix": ") ",
     "delete_cmd_prefix": "rm(",
     "library": "var_list.r",
     "varRefreshCmd": "cat(var_dic_list()) "
    }
   },
   "types_to_exclude": [
    "module",
    "function",
    "builtin_function_or_method",
    "instance",
    "_Feature"
   ],
   "window_display": false
  }
 },
 "nbformat": 4,
 "nbformat_minor": 1
}
