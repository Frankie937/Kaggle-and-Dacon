{
 "cells": [
  {
   "cell_type": "code",
   "execution_count": null,
   "metadata": {
    "id": "KofLsavcfCFI"
   },
   "outputs": [],
   "source": [
    "!mkdir data"
   ]
  },
  {
   "cell_type": "code",
   "execution_count": null,
   "metadata": {
    "id": "ntts5788fGxD"
   },
   "outputs": [],
   "source": [
    "!cp \"/content/drive/MyDrive/Dacon/data/train.csv\" \"/content/data/train.csv\"\n",
    "!cp \"/content/drive/MyDrive/Dacon/data/test.csv\" \"/content/data/test.csv\"\n",
    "!cp \"/content/drive/MyDrive/Dacon/data/sample_submission.csv\" \"/content/data/sample_submission.csv\""
   ]
  },
  {
   "cell_type": "code",
   "execution_count": null,
   "metadata": {
    "colab": {
     "base_uri": "https://localhost:8080/"
    },
    "id": "CUGMaKx-dAuM",
    "outputId": "4fed6016-6808-4b3d-9fee-68afdec7abbd"
   },
   "outputs": [
    {
     "name": "stdout",
     "output_type": "stream",
     "text": [
      "Collecting bayesian-optimization\n",
      "  Downloading https://files.pythonhosted.org/packages/bb/7a/fd8059a3881d3ab37ac8f72f56b73937a14e8bb14a9733e68cc8b17dbe3c/bayesian-optimization-1.2.0.tar.gz\n",
      "Requirement already satisfied: numpy>=1.9.0 in /usr/local/lib/python3.7/dist-packages (from bayesian-optimization) (1.19.5)\n",
      "Requirement already satisfied: scipy>=0.14.0 in /usr/local/lib/python3.7/dist-packages (from bayesian-optimization) (1.4.1)\n",
      "Requirement already satisfied: scikit-learn>=0.18.0 in /usr/local/lib/python3.7/dist-packages (from bayesian-optimization) (0.22.2.post1)\n",
      "Requirement already satisfied: joblib>=0.11 in /usr/local/lib/python3.7/dist-packages (from scikit-learn>=0.18.0->bayesian-optimization) (1.0.1)\n",
      "Building wheels for collected packages: bayesian-optimization\n",
      "  Building wheel for bayesian-optimization (setup.py) ... \u001b[?25l\u001b[?25hdone\n",
      "  Created wheel for bayesian-optimization: filename=bayesian_optimization-1.2.0-cp37-none-any.whl size=11687 sha256=1a41924387b06881117abc054ade7e7615cefdf47b8e2f975202339eba79ce4f\n",
      "  Stored in directory: /root/.cache/pip/wheels/5a/56/ae/e0e3c1fc1954dc3ec712e2df547235ed072b448094d8f94aec\n",
      "Successfully built bayesian-optimization\n",
      "Installing collected packages: bayesian-optimization\n",
      "Successfully installed bayesian-optimization-1.2.0\n"
     ]
    }
   ],
   "source": [
    "import warnings\n",
    "warnings.filterwarnings('ignore')\n",
    "import numpy as np\n",
    "import pandas as pd   \n",
    "import matplotlib.pyplot as plt\n",
    "import seaborn as sns\n",
    "import itertools\n",
    "\n",
    "from sklearn.preprocessing import LabelEncoder\n",
    "from sklearn.model_selection import train_test_split\n",
    "from sklearn.metrics import accuracy_score, confusion_matrix, log_loss, f1_score\n",
    "\n",
    "from sklearn.linear_model import LogisticRegression\n",
    "from sklearn.tree import DecisionTreeClassifier\n",
    "\n",
    "from xgboost import XGBClassifier\n",
    "from lightgbm import LGBMClassifier\n",
    "from lightgbm import plot_importance\n",
    "from sklearn import svm\n",
    "from sklearn.ensemble import RandomForestClassifier\n",
    "!pip install bayesian-optimization\n",
    "from bayes_opt import BayesianOptimization\n"
   ]
  },
  {
   "cell_type": "code",
   "execution_count": null,
   "metadata": {
    "id": "XG_rtqPNdQfd"
   },
   "outputs": [],
   "source": [
    "train = pd.read_csv('/content/data/train.csv')\n",
    "test = pd.read_csv('/content/data/test.csv')\n",
    "submission = pd.read_csv('/content/data/sample_submission.csv')"
   ]
  },
  {
   "cell_type": "markdown",
   "metadata": {
    "id": "bNuIcdXitE5d"
   },
   "source": [
    "### 1. 데이터 로드"
   ]
  },
  {
   "cell_type": "code",
   "execution_count": null,
   "metadata": {
    "colab": {
     "base_uri": "https://localhost:8080/"
    },
    "id": "fVgbndXddaBS",
    "outputId": "d440080f-82fe-4a66-a7a9-ebf04a95235d"
   },
   "outputs": [
    {
     "data": {
      "text/plain": [
       "(26457, 20)"
      ]
     },
     "execution_count": 62,
     "metadata": {
      "tags": []
     },
     "output_type": "execute_result"
    }
   ],
   "source": [
    "train.shape"
   ]
  },
  {
   "cell_type": "code",
   "execution_count": null,
   "metadata": {
    "colab": {
     "base_uri": "https://localhost:8080/"
    },
    "id": "XFbVQ16odoaU",
    "outputId": "65c6e1ac-c2e8-4cab-9f3e-790352c8749c"
   },
   "outputs": [
    {
     "name": "stdout",
     "output_type": "stream",
     "text": [
      "<class 'pandas.core.frame.DataFrame'>\n",
      "RangeIndex: 26457 entries, 0 to 26456\n",
      "Data columns (total 20 columns):\n",
      " #   Column         Non-Null Count  Dtype  \n",
      "---  ------         --------------  -----  \n",
      " 0   index          26457 non-null  int64  \n",
      " 1   gender         26457 non-null  object \n",
      " 2   car            26457 non-null  object \n",
      " 3   reality        26457 non-null  object \n",
      " 4   child_num      26457 non-null  int64  \n",
      " 5   income_total   26457 non-null  float64\n",
      " 6   income_type    26457 non-null  object \n",
      " 7   edu_type       26457 non-null  object \n",
      " 8   family_type    26457 non-null  object \n",
      " 9   house_type     26457 non-null  object \n",
      " 10  DAYS_BIRTH     26457 non-null  int64  \n",
      " 11  DAYS_EMPLOYED  26457 non-null  int64  \n",
      " 12  FLAG_MOBIL     26457 non-null  int64  \n",
      " 13  work_phone     26457 non-null  int64  \n",
      " 14  phone          26457 non-null  int64  \n",
      " 15  email          26457 non-null  int64  \n",
      " 16  occyp_type     18286 non-null  object \n",
      " 17  family_size    26457 non-null  float64\n",
      " 18  begin_month    26457 non-null  float64\n",
      " 19  credit         26457 non-null  float64\n",
      "dtypes: float64(4), int64(8), object(8)\n",
      "memory usage: 4.0+ MB\n"
     ]
    }
   ],
   "source": [
    "train.info()"
   ]
  },
  {
   "cell_type": "code",
   "execution_count": null,
   "metadata": {
    "colab": {
     "base_uri": "https://localhost:8080/"
    },
    "id": "OTiEGqTyOBUO",
    "outputId": "c3ed3a0d-2d09-40c5-e306-3dd2c94172da"
   },
   "outputs": [
    {
     "data": {
      "text/plain": [
       "2.0    16968\n",
       "1.0     6267\n",
       "0.0     3222\n",
       "Name: credit, dtype: int64"
      ]
     },
     "execution_count": 64,
     "metadata": {
      "tags": []
     },
     "output_type": "execute_result"
    }
   ],
   "source": [
    "# 타겟값의 분포 확인\n",
    "train['credit'].value_counts()"
   ]
  },
  {
   "cell_type": "markdown",
   "metadata": {
    "id": "It6o1aN6r40g"
   },
   "source": [
    "### 2. 타겟값에 따라 continuous 피처의 분포도, categorical 피처의 분포도 확인 \n",
    "-> 주요 피처 확인"
   ]
  },
  {
   "cell_type": "code",
   "execution_count": null,
   "metadata": {
    "colab": {
     "base_uri": "https://localhost:8080/"
    },
    "id": "sGS4p2jFsHd2",
    "outputId": "887812b7-6053-42f3-8270-73d6f91a3994"
   },
   "outputs": [
    {
     "name": "stdout",
     "output_type": "stream",
     "text": [
      "index            26457\n",
      "child_num            9\n",
      "income_total       249\n",
      "DAYS_BIRTH        6621\n",
      "DAYS_EMPLOYED     3470\n",
      "FLAG_MOBIL           1\n",
      "work_phone           2\n",
      "phone                2\n",
      "email                2\n",
      "family_size         10\n",
      "begin_month         61\n",
      "credit               3\n",
      "dtype: int64\n",
      "categorical feature ['FLAG_MOBIL', 'work_phone', 'phone', 'email', 'credit']\n",
      "continous feature ['income_total', 'DAYS_BIRTH', 'DAYS_EMPLOYED', 'begin_month', 'child_num', 'family_size']\n"
     ]
    }
   ],
   "source": [
    "# numeric 피처 중에 categorical/continuous 피처 분리\n",
    "num_columns = train.dtypes[train.dtypes != 'object'].index.tolist()\n",
    "unique_len_num = train[num_columns].apply(lambda x : len(x.unique()))\n",
    "print(unique_len_num)\n",
    "# unique_len_num 보면서 분리 \n",
    "continuous = ['index','income_total', 'DAYS_BIRTH', 'DAYS_EMPLOYED','begin_month', 'child_num', 'family_size']\n",
    "ordinal = ['family_size', 'child_num'] # 혹시나 해서 ordinal 피처를 다시 분리 해놓기 \n",
    "categorical = [column for column in num_columns if column not in continuous]\n",
    "print('categorical feature', categorical)\n",
    "del continuous[0]\n",
    "print('continous feature', continuous)"
   ]
  },
  {
   "cell_type": "code",
   "execution_count": null,
   "metadata": {
    "id": "PTB8L-jT6VD9"
   },
   "outputs": [],
   "source": [
    "def show_hist_by_target(df, columns):\n",
    "    cond_2 = (df['credit'] == 2)\n",
    "    cond_1 = (df['credit'] == 1)\n",
    "    cond_0 = (df['credit'] == 0)\n",
    "    \n",
    "    for column in columns:\n",
    "        fig, axs = plt.subplots(nrows=1, ncols=2, figsize=(12, 4), squeeze=False)\n",
    "        sns.violinplot(x='credit', y=column, data=df, ax=axs[0][0] )\n",
    "        sns.distplot(df[cond_0][column], ax=axs[0][1], label='0', color='blue')\n",
    "        sns.distplot(df[cond_1][column], ax=axs[0][1], label='1', color='red')\n",
    "        sns.distplot(df[cond_2][column], ax=axs[0][1], label='2', color='green')\n",
    "\n",
    "show_hist_by_target(train, continuous)"
   ]
  },
  {
   "cell_type": "code",
   "execution_count": null,
   "metadata": {
    "colab": {
     "base_uri": "https://localhost:8080/"
    },
    "id": "vOTdxn6fuDKH",
    "outputId": "6d7eef72-4c84-4ad2-80d1-f82bfe4094cd"
   },
   "outputs": [
    {
     "name": "stdout",
     "output_type": "stream",
     "text": [
      "categorical feature ['gender', 'car', 'reality', 'income_type', 'edu_type', 'family_type', 'house_type', 'occyp_type', 'FLAG_MOBIL', 'work_phone', 'phone', 'email']\n"
     ]
    }
   ],
   "source": [
    "# object피처를 categorical 피처에 합치기\n",
    "object_columns = train.dtypes[train.dtypes == 'object'].index.tolist()\n",
    "categorical = object_columns + categorical\n",
    "del categorical[-1] # 'credit' 제거 \n",
    "print('categorical feature', categorical)"
   ]
  },
  {
   "cell_type": "code",
   "execution_count": null,
   "metadata": {
    "id": "8AC1IY5MyUfj"
   },
   "outputs": [],
   "source": [
    "# credit에 따라 categorical 피처들 분포 확인 \n",
    "def show_category_by_target(df, columns):\n",
    "    for column in columns:\n",
    "        chart = sns.catplot(x=column, col=\"credit\", data=df, kind=\"count\")\n",
    "        chart.set_xticklabels(rotation=65)\n",
    "        \n",
    "show_category_by_target(train, categorical)"
   ]
  },
  {
   "cell_type": "code",
   "execution_count": null,
   "metadata": {
    "id": "kytjRMD5D0OV"
   },
   "outputs": [],
   "source": [
    "corr = train[continuous].corr()\n",
    "sns.heatmap(corr, annot=True, cmap='Blues')"
   ]
  },
  {
   "cell_type": "code",
   "execution_count": null,
   "metadata": {
    "id": "ebW5ghnmOeDj"
   },
   "outputs": [],
   "source": [
    "#연속형 변수 분포 확인 \n",
    "sns.distplot(train['income_total']) # skew(오른쪽으로 긴 꼬리)\n",
    "sns.distplot(train['DAYS_BIRTH']) # 정규분포 형태 \n",
    "sns.distplot(train['DAYS_EMPLOYED']) # 양끝으로 두 분포 형태(이상치 의심)"
   ]
  },
  {
   "cell_type": "markdown",
   "metadata": {
    "id": "5UU-d-toqmU9"
   },
   "source": [
    "### 3. train과 test 데이터 합쳐서 피처엔지니어링 "
   ]
  },
  {
   "cell_type": "code",
   "execution_count": null,
   "metadata": {
    "id": "cXOqQbeZgDa2"
   },
   "outputs": [],
   "source": [
    "data = pd.concat([train, test], axis=0)"
   ]
  },
  {
   "cell_type": "markdown",
   "metadata": {
    "id": "rnGApxXRtbn7"
   },
   "source": [
    "#### 3-0. 데이콘 강의_전처리 부분 정리"
   ]
  },
  {
   "cell_type": "code",
   "execution_count": null,
   "metadata": {
    "colab": {
     "base_uri": "https://localhost:8080/"
    },
    "id": "GOIhCPCshQe0",
    "outputId": "40ddbdc3-54b3-4419-d4ec-92a6982c5fd2"
   },
   "outputs": [
    {
     "data": {
      "text/plain": [
       "2"
      ]
     },
     "execution_count": 13,
     "metadata": {
      "tags": []
     },
     "output_type": "execute_result"
    }
   ],
   "source": [
    "len(data['gender'].unique())"
   ]
  },
  {
   "cell_type": "code",
   "execution_count": null,
   "metadata": {
    "id": "5BsX3S0elERF"
   },
   "outputs": [],
   "source": [
    "# 데이터의 모든 컬럼의 고유값의 개수를 확인  \n",
    "unique_len = data.apply(lambda x : len(x.unique()))"
   ]
  },
  {
   "cell_type": "code",
   "execution_count": null,
   "metadata": {
    "colab": {
     "base_uri": "https://localhost:8080/"
    },
    "id": "-MBFmeNelW42",
    "outputId": "6563d357-ace2-458b-dff2-883f5c9c41a3"
   },
   "outputs": [
    {
     "data": {
      "text/plain": [
       "index            36457\n",
       "gender               2\n",
       "car                  2\n",
       "reality              2\n",
       "child_num            9\n",
       "income_total       265\n",
       "income_type          5\n",
       "edu_type             5\n",
       "family_type          5\n",
       "house_type           6\n",
       "DAYS_BIRTH        7183\n",
       "DAYS_EMPLOYED     3640\n",
       "FLAG_MOBIL           1\n",
       "work_phone           2\n",
       "phone                2\n",
       "email                2\n",
       "occyp_type          19\n",
       "family_size         10\n",
       "begin_month         61\n",
       "credit               4\n",
       "dtype: int64"
      ]
     },
     "execution_count": 15,
     "metadata": {
      "tags": []
     },
     "output_type": "execute_result"
    }
   ],
   "source": [
    "unique_len"
   ]
  },
  {
   "cell_type": "code",
   "execution_count": null,
   "metadata": {
    "id": "Tw8VGnOhlYdj"
   },
   "outputs": [],
   "source": [
    "# 고유값 개수 2개 이하/ 2개 초과 10개 이하/ 10개 초과 그룹 3개로 나누기 \n",
    "group1 = unique_len[unique_len <= 2].index # binary \n",
    "group2 = unique_len[(unique_len > 2) & (unique_len <=10)].index # multi \n",
    "group3 = unique_len[unique_len > 10].index # contiunous "
   ]
  },
  {
   "cell_type": "code",
   "execution_count": null,
   "metadata": {
    "colab": {
     "base_uri": "https://localhost:8080/",
     "height": 415
    },
    "id": "6D-usiJhGQ74",
    "outputId": "877f5329-04f3-4c1f-f7ca-c6438b513133"
   },
   "outputs": [
    {
     "data": {
      "text/html": [
       "<div>\n",
       "<style scoped>\n",
       "    .dataframe tbody tr th:only-of-type {\n",
       "        vertical-align: middle;\n",
       "    }\n",
       "\n",
       "    .dataframe tbody tr th {\n",
       "        vertical-align: top;\n",
       "    }\n",
       "\n",
       "    .dataframe thead th {\n",
       "        text-align: right;\n",
       "    }\n",
       "</style>\n",
       "<table border=\"1\" class=\"dataframe\">\n",
       "  <thead>\n",
       "    <tr style=\"text-align: right;\">\n",
       "      <th></th>\n",
       "      <th>gender</th>\n",
       "      <th>car</th>\n",
       "      <th>reality</th>\n",
       "      <th>FLAG_MOBIL</th>\n",
       "      <th>work_phone</th>\n",
       "      <th>phone</th>\n",
       "      <th>email</th>\n",
       "    </tr>\n",
       "  </thead>\n",
       "  <tbody>\n",
       "    <tr>\n",
       "      <th>0</th>\n",
       "      <td>0</td>\n",
       "      <td>0</td>\n",
       "      <td>0</td>\n",
       "      <td>1</td>\n",
       "      <td>0</td>\n",
       "      <td>0</td>\n",
       "      <td>0</td>\n",
       "    </tr>\n",
       "    <tr>\n",
       "      <th>1</th>\n",
       "      <td>0</td>\n",
       "      <td>0</td>\n",
       "      <td>1</td>\n",
       "      <td>1</td>\n",
       "      <td>0</td>\n",
       "      <td>0</td>\n",
       "      <td>1</td>\n",
       "    </tr>\n",
       "    <tr>\n",
       "      <th>2</th>\n",
       "      <td>1</td>\n",
       "      <td>1</td>\n",
       "      <td>1</td>\n",
       "      <td>1</td>\n",
       "      <td>0</td>\n",
       "      <td>1</td>\n",
       "      <td>0</td>\n",
       "    </tr>\n",
       "    <tr>\n",
       "      <th>3</th>\n",
       "      <td>0</td>\n",
       "      <td>0</td>\n",
       "      <td>1</td>\n",
       "      <td>1</td>\n",
       "      <td>0</td>\n",
       "      <td>1</td>\n",
       "      <td>0</td>\n",
       "    </tr>\n",
       "    <tr>\n",
       "      <th>4</th>\n",
       "      <td>0</td>\n",
       "      <td>1</td>\n",
       "      <td>1</td>\n",
       "      <td>1</td>\n",
       "      <td>0</td>\n",
       "      <td>0</td>\n",
       "      <td>0</td>\n",
       "    </tr>\n",
       "    <tr>\n",
       "      <th>...</th>\n",
       "      <td>...</td>\n",
       "      <td>...</td>\n",
       "      <td>...</td>\n",
       "      <td>...</td>\n",
       "      <td>...</td>\n",
       "      <td>...</td>\n",
       "      <td>...</td>\n",
       "    </tr>\n",
       "    <tr>\n",
       "      <th>9995</th>\n",
       "      <td>0</td>\n",
       "      <td>1</td>\n",
       "      <td>1</td>\n",
       "      <td>1</td>\n",
       "      <td>1</td>\n",
       "      <td>1</td>\n",
       "      <td>0</td>\n",
       "    </tr>\n",
       "    <tr>\n",
       "      <th>9996</th>\n",
       "      <td>1</td>\n",
       "      <td>1</td>\n",
       "      <td>1</td>\n",
       "      <td>1</td>\n",
       "      <td>1</td>\n",
       "      <td>0</td>\n",
       "      <td>0</td>\n",
       "    </tr>\n",
       "    <tr>\n",
       "      <th>9997</th>\n",
       "      <td>0</td>\n",
       "      <td>0</td>\n",
       "      <td>1</td>\n",
       "      <td>1</td>\n",
       "      <td>0</td>\n",
       "      <td>0</td>\n",
       "      <td>0</td>\n",
       "    </tr>\n",
       "    <tr>\n",
       "      <th>9998</th>\n",
       "      <td>0</td>\n",
       "      <td>1</td>\n",
       "      <td>0</td>\n",
       "      <td>1</td>\n",
       "      <td>0</td>\n",
       "      <td>1</td>\n",
       "      <td>0</td>\n",
       "    </tr>\n",
       "    <tr>\n",
       "      <th>9999</th>\n",
       "      <td>0</td>\n",
       "      <td>0</td>\n",
       "      <td>1</td>\n",
       "      <td>1</td>\n",
       "      <td>0</td>\n",
       "      <td>0</td>\n",
       "      <td>1</td>\n",
       "    </tr>\n",
       "  </tbody>\n",
       "</table>\n",
       "<p>36457 rows × 7 columns</p>\n",
       "</div>"
      ],
      "text/plain": [
       "      gender  car  reality  FLAG_MOBIL  work_phone  phone  email\n",
       "0          0    0        0           1           0      0      0\n",
       "1          0    0        1           1           0      0      1\n",
       "2          1    1        1           1           0      1      0\n",
       "3          0    0        1           1           0      1      0\n",
       "4          0    1        1           1           0      0      0\n",
       "...      ...  ...      ...         ...         ...    ...    ...\n",
       "9995       0    1        1           1           1      1      0\n",
       "9996       1    1        1           1           1      0      0\n",
       "9997       0    0        1           1           0      0      0\n",
       "9998       0    1        0           1           0      1      0\n",
       "9999       0    0        1           1           0      0      1\n",
       "\n",
       "[36457 rows x 7 columns]"
      ]
     },
     "execution_count": 17,
     "metadata": {
      "tags": []
     },
     "output_type": "execute_result"
    }
   ],
   "source": [
    "# <group1> 전처리 \n",
    "data[group1] # 확인 결과, gender, car, reality 문자열값을 0,1로 바꿔주기 \n",
    "data['gender'] = data['gender'].replace(['F', 'M'], [0,1])\n",
    "data['car'] = data['car'].replace(['N','Y'], [0,1])\n",
    "data['reality'] = data['reality'].replace(['N','Y'],[0,1])\n",
    "data[group1]"
   ]
  },
  {
   "cell_type": "code",
   "execution_count": null,
   "metadata": {
    "colab": {
     "base_uri": "https://localhost:8080/",
     "height": 415
    },
    "id": "10M2a_5lLnTe",
    "outputId": "8a62f47a-d2eb-415c-be23-56345f46aa7b"
   },
   "outputs": [
    {
     "data": {
      "text/html": [
       "<div>\n",
       "<style scoped>\n",
       "    .dataframe tbody tr th:only-of-type {\n",
       "        vertical-align: middle;\n",
       "    }\n",
       "\n",
       "    .dataframe tbody tr th {\n",
       "        vertical-align: top;\n",
       "    }\n",
       "\n",
       "    .dataframe thead th {\n",
       "        text-align: right;\n",
       "    }\n",
       "</style>\n",
       "<table border=\"1\" class=\"dataframe\">\n",
       "  <thead>\n",
       "    <tr style=\"text-align: right;\">\n",
       "      <th></th>\n",
       "      <th>child_num</th>\n",
       "      <th>income_type</th>\n",
       "      <th>edu_type</th>\n",
       "      <th>family_type</th>\n",
       "      <th>house_type</th>\n",
       "      <th>family_size</th>\n",
       "      <th>credit</th>\n",
       "    </tr>\n",
       "  </thead>\n",
       "  <tbody>\n",
       "    <tr>\n",
       "      <th>0</th>\n",
       "      <td>0</td>\n",
       "      <td>Commercial associate</td>\n",
       "      <td>Higher education</td>\n",
       "      <td>Married</td>\n",
       "      <td>Municipal apartment</td>\n",
       "      <td>2.0</td>\n",
       "      <td>1.0</td>\n",
       "    </tr>\n",
       "    <tr>\n",
       "      <th>1</th>\n",
       "      <td>1</td>\n",
       "      <td>Commercial associate</td>\n",
       "      <td>Secondary / secondary special</td>\n",
       "      <td>Civil marriage</td>\n",
       "      <td>House / apartment</td>\n",
       "      <td>3.0</td>\n",
       "      <td>1.0</td>\n",
       "    </tr>\n",
       "    <tr>\n",
       "      <th>2</th>\n",
       "      <td>0</td>\n",
       "      <td>Working</td>\n",
       "      <td>Higher education</td>\n",
       "      <td>Married</td>\n",
       "      <td>House / apartment</td>\n",
       "      <td>2.0</td>\n",
       "      <td>2.0</td>\n",
       "    </tr>\n",
       "    <tr>\n",
       "      <th>3</th>\n",
       "      <td>0</td>\n",
       "      <td>Commercial associate</td>\n",
       "      <td>Secondary / secondary special</td>\n",
       "      <td>Married</td>\n",
       "      <td>House / apartment</td>\n",
       "      <td>2.0</td>\n",
       "      <td>0.0</td>\n",
       "    </tr>\n",
       "    <tr>\n",
       "      <th>4</th>\n",
       "      <td>0</td>\n",
       "      <td>State servant</td>\n",
       "      <td>Higher education</td>\n",
       "      <td>Married</td>\n",
       "      <td>House / apartment</td>\n",
       "      <td>2.0</td>\n",
       "      <td>2.0</td>\n",
       "    </tr>\n",
       "    <tr>\n",
       "      <th>...</th>\n",
       "      <td>...</td>\n",
       "      <td>...</td>\n",
       "      <td>...</td>\n",
       "      <td>...</td>\n",
       "      <td>...</td>\n",
       "      <td>...</td>\n",
       "      <td>...</td>\n",
       "    </tr>\n",
       "    <tr>\n",
       "      <th>9995</th>\n",
       "      <td>0</td>\n",
       "      <td>Working</td>\n",
       "      <td>Incomplete higher</td>\n",
       "      <td>Married</td>\n",
       "      <td>House / apartment</td>\n",
       "      <td>2.0</td>\n",
       "      <td>NaN</td>\n",
       "    </tr>\n",
       "    <tr>\n",
       "      <th>9996</th>\n",
       "      <td>0</td>\n",
       "      <td>Working</td>\n",
       "      <td>Secondary / secondary special</td>\n",
       "      <td>Civil marriage</td>\n",
       "      <td>House / apartment</td>\n",
       "      <td>2.0</td>\n",
       "      <td>NaN</td>\n",
       "    </tr>\n",
       "    <tr>\n",
       "      <th>9997</th>\n",
       "      <td>0</td>\n",
       "      <td>Working</td>\n",
       "      <td>Secondary / secondary special</td>\n",
       "      <td>Married</td>\n",
       "      <td>House / apartment</td>\n",
       "      <td>2.0</td>\n",
       "      <td>NaN</td>\n",
       "    </tr>\n",
       "    <tr>\n",
       "      <th>9998</th>\n",
       "      <td>0</td>\n",
       "      <td>Commercial associate</td>\n",
       "      <td>Secondary / secondary special</td>\n",
       "      <td>Married</td>\n",
       "      <td>House / apartment</td>\n",
       "      <td>2.0</td>\n",
       "      <td>NaN</td>\n",
       "    </tr>\n",
       "    <tr>\n",
       "      <th>9999</th>\n",
       "      <td>0</td>\n",
       "      <td>Working</td>\n",
       "      <td>Higher education</td>\n",
       "      <td>Married</td>\n",
       "      <td>House / apartment</td>\n",
       "      <td>2.0</td>\n",
       "      <td>NaN</td>\n",
       "    </tr>\n",
       "  </tbody>\n",
       "</table>\n",
       "<p>36457 rows × 7 columns</p>\n",
       "</div>"
      ],
      "text/plain": [
       "      child_num           income_type  ... family_size credit\n",
       "0             0  Commercial associate  ...         2.0    1.0\n",
       "1             1  Commercial associate  ...         3.0    1.0\n",
       "2             0               Working  ...         2.0    2.0\n",
       "3             0  Commercial associate  ...         2.0    0.0\n",
       "4             0         State servant  ...         2.0    2.0\n",
       "...         ...                   ...  ...         ...    ...\n",
       "9995          0               Working  ...         2.0    NaN\n",
       "9996          0               Working  ...         2.0    NaN\n",
       "9997          0               Working  ...         2.0    NaN\n",
       "9998          0  Commercial associate  ...         2.0    NaN\n",
       "9999          0               Working  ...         2.0    NaN\n",
       "\n",
       "[36457 rows x 7 columns]"
      ]
     },
     "execution_count": 18,
     "metadata": {
      "tags": []
     },
     "output_type": "execute_result"
    }
   ],
   "source": [
    "# <group2> 전처리\n",
    "data[group2] \n",
    "# child_num 는 따로 처리, 레이블인코딩-income_type, family_type, house_type, 매핑처리(ordinary)-edu_type"
   ]
  },
  {
   "cell_type": "code",
   "execution_count": null,
   "metadata": {
    "id": "dwvEx0a9Ng7r"
   },
   "outputs": [],
   "source": [
    "# data['child_num'].value_counts().plot.bar()  #child_num의 분포를 보기 (value_counts()와 plot.bar() 이용 )\n",
    "# 3부터 19까지의 값은 거의 존재하지 않는 값이므로 이상치로 취급하고 2 초과인 값을 모두 2로 변경해주기 \n",
    "# sns.box_plot(data['child_num']) # child_num > 2.5 면 이상치로 나옴 \n",
    "data.loc[data['child_num'] > 2, 'child_num'] = 2\n",
    "# data['child_num'].value_counts().plot.bar() # 다시 분포 확인 "
   ]
  },
  {
   "cell_type": "code",
   "execution_count": null,
   "metadata": {
    "id": "v1xW6T9SOX6x"
   },
   "outputs": [],
   "source": [
    "# sklearn.preprocessing의 LableEncoder 사용하여 income_type, family_type, house_type 처리 \n",
    "from sklearn.preprocessing import LabelEncoder\n",
    "label_encoder = LabelEncoder()"
   ]
  },
  {
   "cell_type": "code",
   "execution_count": null,
   "metadata": {
    "id": "I8l8hhHuPmes"
   },
   "outputs": [],
   "source": [
    "data['income_type'] = label_encoder.fit_transform(data['income_type'])\n",
    "data['family_type'] = label_encoder.fit_transform(data['family_type'])\n",
    "data['house_type'] = label_encoder.fit_transform(data['house_type'])"
   ]
  },
  {
   "cell_type": "code",
   "execution_count": null,
   "metadata": {
    "id": "q2IZOZgIOEua"
   },
   "outputs": [],
   "source": [
    "# ordinary 컬럼 edu_type 인코딩\n",
    "edu_order = {\n",
    "    'Lower secondary' : 0, # 중학교 미만\n",
    "    'Secondary / secondary special' : 1, #중학교\n",
    "    'Incomplete higher' : 2, # 고등학교 중퇴\n",
    "    'Higher education' : 3, # 고등학교 졸업\n",
    "     'Academic degree' : 4 # 학사 이상\n",
    "}\n",
    "data['edu_type'] = data['edu_type'].map(edu_order)"
   ]
  },
  {
   "cell_type": "code",
   "execution_count": null,
   "metadata": {
    "colab": {
     "base_uri": "https://localhost:8080/",
     "height": 415
    },
    "id": "veO_hA7EX1Ve",
    "outputId": "0bc8e306-f776-4878-de9f-fb609e9b5498"
   },
   "outputs": [
    {
     "data": {
      "text/html": [
       "<div>\n",
       "<style scoped>\n",
       "    .dataframe tbody tr th:only-of-type {\n",
       "        vertical-align: middle;\n",
       "    }\n",
       "\n",
       "    .dataframe tbody tr th {\n",
       "        vertical-align: top;\n",
       "    }\n",
       "\n",
       "    .dataframe thead th {\n",
       "        text-align: right;\n",
       "    }\n",
       "</style>\n",
       "<table border=\"1\" class=\"dataframe\">\n",
       "  <thead>\n",
       "    <tr style=\"text-align: right;\">\n",
       "      <th></th>\n",
       "      <th>index</th>\n",
       "      <th>income_total</th>\n",
       "      <th>DAYS_BIRTH</th>\n",
       "      <th>DAYS_EMPLOYED</th>\n",
       "      <th>occyp_type</th>\n",
       "      <th>begin_month</th>\n",
       "    </tr>\n",
       "  </thead>\n",
       "  <tbody>\n",
       "    <tr>\n",
       "      <th>0</th>\n",
       "      <td>0</td>\n",
       "      <td>202500.0</td>\n",
       "      <td>-13899</td>\n",
       "      <td>-4709</td>\n",
       "      <td>NaN</td>\n",
       "      <td>-6.0</td>\n",
       "    </tr>\n",
       "    <tr>\n",
       "      <th>1</th>\n",
       "      <td>1</td>\n",
       "      <td>247500.0</td>\n",
       "      <td>-11380</td>\n",
       "      <td>-1540</td>\n",
       "      <td>Laborers</td>\n",
       "      <td>-5.0</td>\n",
       "    </tr>\n",
       "    <tr>\n",
       "      <th>2</th>\n",
       "      <td>2</td>\n",
       "      <td>450000.0</td>\n",
       "      <td>-19087</td>\n",
       "      <td>-4434</td>\n",
       "      <td>Managers</td>\n",
       "      <td>-22.0</td>\n",
       "    </tr>\n",
       "    <tr>\n",
       "      <th>3</th>\n",
       "      <td>3</td>\n",
       "      <td>202500.0</td>\n",
       "      <td>-15088</td>\n",
       "      <td>-2092</td>\n",
       "      <td>Sales staff</td>\n",
       "      <td>-37.0</td>\n",
       "    </tr>\n",
       "    <tr>\n",
       "      <th>4</th>\n",
       "      <td>4</td>\n",
       "      <td>157500.0</td>\n",
       "      <td>-15037</td>\n",
       "      <td>-2105</td>\n",
       "      <td>Managers</td>\n",
       "      <td>-26.0</td>\n",
       "    </tr>\n",
       "    <tr>\n",
       "      <th>...</th>\n",
       "      <td>...</td>\n",
       "      <td>...</td>\n",
       "      <td>...</td>\n",
       "      <td>...</td>\n",
       "      <td>...</td>\n",
       "      <td>...</td>\n",
       "    </tr>\n",
       "    <tr>\n",
       "      <th>9995</th>\n",
       "      <td>36452</td>\n",
       "      <td>202500.0</td>\n",
       "      <td>-18593</td>\n",
       "      <td>-5434</td>\n",
       "      <td>Accountants</td>\n",
       "      <td>-19.0</td>\n",
       "    </tr>\n",
       "    <tr>\n",
       "      <th>9996</th>\n",
       "      <td>36453</td>\n",
       "      <td>202500.0</td>\n",
       "      <td>-10886</td>\n",
       "      <td>-1315</td>\n",
       "      <td>Laborers</td>\n",
       "      <td>-34.0</td>\n",
       "    </tr>\n",
       "    <tr>\n",
       "      <th>9997</th>\n",
       "      <td>36454</td>\n",
       "      <td>292500.0</td>\n",
       "      <td>-21016</td>\n",
       "      <td>-14018</td>\n",
       "      <td>Medicine staff</td>\n",
       "      <td>-55.0</td>\n",
       "    </tr>\n",
       "    <tr>\n",
       "      <th>9998</th>\n",
       "      <td>36455</td>\n",
       "      <td>180000.0</td>\n",
       "      <td>-16541</td>\n",
       "      <td>-1085</td>\n",
       "      <td>NaN</td>\n",
       "      <td>-33.0</td>\n",
       "    </tr>\n",
       "    <tr>\n",
       "      <th>9999</th>\n",
       "      <td>36456</td>\n",
       "      <td>270000.0</td>\n",
       "      <td>-9154</td>\n",
       "      <td>-187</td>\n",
       "      <td>Laborers</td>\n",
       "      <td>-11.0</td>\n",
       "    </tr>\n",
       "  </tbody>\n",
       "</table>\n",
       "<p>36457 rows × 6 columns</p>\n",
       "</div>"
      ],
      "text/plain": [
       "      index  income_total  ...      occyp_type  begin_month\n",
       "0         0      202500.0  ...             NaN         -6.0\n",
       "1         1      247500.0  ...        Laborers         -5.0\n",
       "2         2      450000.0  ...        Managers        -22.0\n",
       "3         3      202500.0  ...     Sales staff        -37.0\n",
       "4         4      157500.0  ...        Managers        -26.0\n",
       "...     ...           ...  ...             ...          ...\n",
       "9995  36452      202500.0  ...     Accountants        -19.0\n",
       "9996  36453      202500.0  ...        Laborers        -34.0\n",
       "9997  36454      292500.0  ...  Medicine staff        -55.0\n",
       "9998  36455      180000.0  ...             NaN        -33.0\n",
       "9999  36456      270000.0  ...        Laborers        -11.0\n",
       "\n",
       "[36457 rows x 6 columns]"
      ]
     },
     "execution_count": 23,
     "metadata": {
      "tags": []
     },
     "output_type": "execute_result"
    }
   ],
   "source": [
    "data[group3]"
   ]
  },
  {
   "cell_type": "code",
   "execution_count": null,
   "metadata": {
    "id": "RFMsAQAMW11F"
   },
   "outputs": [],
   "source": [
    "# <group3> 이상치 평균값으로 대체, 구간화 변수들 새로 생성(피처새로 생성), occyp_type 피처 삭제 \n",
    "# 연속형 변수의 구간화 변수 새로 생성 (연속형 변수를 그대로 넣지 않고 구간화해서 모델에 넣을 경우 더 좋은 성능을 나타내는 알고리즘 모델이 있음)\n",
    "counts, bin_dividers = np.histogram(data['income_total'], bins = 7)"
   ]
  },
  {
   "cell_type": "code",
   "execution_count": null,
   "metadata": {
    "id": "IcxsLopnYaaN"
   },
   "outputs": [],
   "source": [
    "pd.cut(data['income_total'], bins=bin_dividers, labels=np.arange(7), include_lowest=True)  # include_lowest=True 는 최솟값도 구간에 포함시키기 위해서 하는 것\n",
    "# pd.cut()의 반환 자료형은 'category'이다.(Series와는 다름) 'int'로 바꿔주기 위해 pd.factorize() 사용하기 \n",
    "pd.factorize(pd.cut(data['income_total'], bins=bin_dividers, labels=[i for i in range(7)], include_lowest=True))\n",
    "data['income_total_bin'] = pd.factorize(pd.cut(data['income_total'], bins=bin_dividers, include_lowest=True, labels=[i for i in range(7)]))[0]\n"
   ]
  },
  {
   "cell_type": "code",
   "execution_count": null,
   "metadata": {
    "colab": {
     "base_uri": "https://localhost:8080/"
    },
    "id": "9KGxj4PbDarz",
    "outputId": "70f2dea2-8a32-416b-c5ea-2cbb72a37382"
   },
   "outputs": [
    {
     "data": {
      "text/plain": [
       " 365243    6135\n",
       "-401         78\n",
       "-1539        64\n",
       "-200         63\n",
       "-2087        61\n",
       "           ... \n",
       "-3640         1\n",
       "-5717         1\n",
       "-4420         1\n",
       "-2203         1\n",
       "-2024         1\n",
       "Name: DAYS_EMPLOYED, Length: 3640, dtype: int64"
      ]
     },
     "execution_count": 26,
     "metadata": {
      "tags": []
     },
     "output_type": "execute_result"
    }
   ],
   "source": [
    "data['DAYS_EMPLOYED'].value_counts()\n",
    "# DAYS_EMPLOYED의 값에서 365243 값이 이상함 "
   ]
  },
  {
   "cell_type": "code",
   "execution_count": null,
   "metadata": {
    "id": "rEbZxN8tEE1T"
   },
   "outputs": [],
   "source": [
    "data['DAYS_EMPLOYED'] = data['DAYS_EMPLOYED'].replace(365243, np.nan)"
   ]
  },
  {
   "cell_type": "code",
   "execution_count": null,
   "metadata": {
    "id": "KrpBO-AzDumC"
   },
   "outputs": [],
   "source": [
    "data['DAYS_EMPLOYED'] = data['DAYS_EMPLOYED'].fillna(data['DAYS_EMPLOYED'].mean())"
   ]
  },
  {
   "cell_type": "code",
   "execution_count": null,
   "metadata": {
    "id": "g8WDrgpUYQP5"
   },
   "outputs": [],
   "source": [
    "# 연속형 변수를 구간화하는 함수 만들고, 함수 이용하여 구간화 변수 3개 생성  \n",
    "def make_bin(array, n):\n",
    "    array = -array # DAYS_BIRTH, DAYS_EMPLOYED, begin_month 가 마이너스라서 \n",
    "    _, bin_dividers = np.histogram(array, bins=n)\n",
    "    categories = pd.cut(array, bins=bin_dividers, include_lowest=True, labels=[i for i in range(n)])\n",
    "    bined_array = pd.factorize(categories)[0]\n",
    "    return bined_array\n",
    "\n",
    "data['DAYS_BIRTH_BIN'] = make_bin(data['DAYS_BIRTH'], 10)\n",
    "data['DAYS_EMPLOYED_BIN'] = make_bin(data['DAYS_EMPLOYED'], 6)\n",
    "data['begin_month_bin'] = make_bin(data['begin_month'], 4)"
   ]
  },
  {
   "cell_type": "code",
   "execution_count": null,
   "metadata": {
    "id": "e0j4C18dC3No"
   },
   "outputs": [],
   "source": [
    "data.drop('occyp_type', axis=1, inplace=True)"
   ]
  },
  {
   "cell_type": "markdown",
   "metadata": {
    "id": "ixZxI8-Wsz11"
   },
   "source": [
    "#### 3-1. object 피처들 레이블 인코딩(3-0 하면 안해도 됨)"
   ]
  },
  {
   "cell_type": "code",
   "execution_count": null,
   "metadata": {
    "id": "Vu_d6z0qQiGh"
   },
   "outputs": [],
   "source": [
    "# data['edu_type'].value_counts()"
   ]
  },
  {
   "cell_type": "code",
   "execution_count": null,
   "metadata": {
    "id": "4wVrRqBpP8sq"
   },
   "outputs": [],
   "source": [
    "# # ordinary 한 피처 'edu_type'은 레이블 인코딩 말고 map으로 인코딩 \n",
    "# edu_order = {\n",
    "#     'Lower secondary' : 0, # 중학교 미만\n",
    "#     'Secondary / secondary special' : 1, #중학교\n",
    "#     'Incomplete higher' : 2, # 고등학교 중퇴\n",
    "#     'Higher education' : 3, # 고등학교 졸업\n",
    "#      'Academic degree' : 4 # 학사 이상\n",
    "# }\n",
    "# data.edu_type = data.edu_type.map(edu_order)\n",
    "# data['edu_type'].value_counts()"
   ]
  },
  {
   "cell_type": "code",
   "execution_count": null,
   "metadata": {
    "id": "pKamwdoBl6o3"
   },
   "outputs": [],
   "source": [
    "# object_columns = data.dtypes[data.dtypes=='object'].index.tolist()"
   ]
  },
  {
   "cell_type": "code",
   "execution_count": null,
   "metadata": {
    "id": "gQUAOLyaqR6z"
   },
   "outputs": [],
   "source": [
    "# for column in object_columns:\n",
    "#   data[column] = pd.factorize(data[column])[0]"
   ]
  },
  {
   "cell_type": "markdown",
   "metadata": {
    "id": "1nIvPy4LFGoB"
   },
   "source": [
    "#### 3-2. 주요 피처 엔지니어링\n"
   ]
  },
  {
   "cell_type": "markdown",
   "metadata": {
    "id": "eFiyETQ4TBGW"
   },
   "source": [
    "##### 3-2-1. 전처리 함수화 "
   ]
  },
  {
   "cell_type": "code",
   "execution_count": null,
   "metadata": {
    "id": "ZxmARZAgP_FE"
   },
   "outputs": [],
   "source": [
    "def get_preprocessed_df(data):\n",
    "    # 이진값 인코딩_group1 \n",
    "    data['gender'] = data['gender'].replace(['F', 'M'], [0,1])\n",
    "    data['car'] = data['car'].replace(['N','Y'], [0,1])\n",
    "    data['reality'] = data['reality'].replace(['N','Y'],[0,1])\n",
    "    # 레이블 인코딩_group2\n",
    "    label_encoder = LabelEncoder()\n",
    "    data['income_type'] = label_encoder.fit_transform(data['income_type'])\n",
    "    data['family_type'] = label_encoder.fit_transform(data['family_type'])\n",
    "    data['house_type'] = label_encoder.fit_transform(data['house_type'])\n",
    "\n",
    "    # ordinary 컬럼 edu_type 인코딩\n",
    "    edu_order = {\n",
    "        'Lower secondary' : 0, # 중학교 미만\n",
    "        'Secondary / secondary special' : 1, #중학교\n",
    "        'Incomplete higher' : 2, # 고등학교 중퇴\n",
    "        'Higher education' : 3, # 고등학교 졸업\n",
    "        'Academic degree' : 4 # 학사 이상\n",
    "            }\n",
    "      data['edu_type'] = data['edu_type'].map(edu_order)\n",
    "\n",
    "    # 이상치 인코딩 \n",
    "    data.loc[data['child_num'] > 2, 'child_num'] = 2\n",
    "    data['DAYS_EMPLOYED'] = data['DAYS_EMPLOYED'].replace(365243, np.nan)\n",
    "    data['DAYS_EMPLOYED'] = data['DAYS_EMPLOYED'].fillna(data['DAYS_EMPLOYED'].mean())\n",
    "    # 결측치 많은 컬럼 제거 \n",
    "    data.drop('occyp_type', axis=1, inplace=True)\n",
    "    \n",
    "    return data\n",
    "\n",
    "data = get_preprocessed_df(data)"
   ]
  },
  {
   "cell_type": "markdown",
   "metadata": {
    "id": "63FQV5XbTHiR"
   },
   "source": [
    "##### 3-2-2. 피처 가공(새로 생성) 함수화"
   ]
  },
  {
   "cell_type": "code",
   "execution_count": null,
   "metadata": {
    "id": "vJzQKmPcFZG1"
   },
   "outputs": [],
   "source": [
    "# # baseline은 피처 가공 없이 한 것 \n",
    "# # submission_try01 피처가공 함수\n",
    "# def get_try01 (data):\n",
    "#   #  DAYS_BIRTH, DAYS_EMPLOYED 비율로 소득 Feature 가공. \n",
    "#   data['EMPLOYED_BIRTH_RATIO'] = data['DAYS_EMPLOYED']/data['DAYS_BIRTH']\n",
    "#   data['INCOME_EMPLOYED_RATIO'] = data['income_total']/data['DAYS_EMPLOYED']\n",
    "#   data['INCOME_BIRTH_RATIO'] = data['income_total']/data['DAYS_BIRTH']\n",
    "#   # 가족수를 고려한 가처분 소득 피처 가공. \n",
    "#   data['CNT_CHILD_INCOME_RATIO'] = data['income_total']/data['child_num']\n",
    "#   data['CNT_FAM_INCOME_RATIO'] = data['income_total']/data['family_size']\n",
    "#   return data \n",
    "\n",
    "# # try_01_valid = 0.7368"
   ]
  },
  {
   "cell_type": "code",
   "execution_count": null,
   "metadata": {
    "id": "zNAlM1uwBRCQ"
   },
   "outputs": [],
   "source": [
    "# submission_try02 피처가공 함수\n",
    "def get_try02 (data):\n",
    "    # 연속형 변수 구간화 변수 생성 \n",
    "    counts, bin_dividers = np.histogram(data['income_total'], bins = 7)\n",
    "    data['income_total_bin'] = pd.factorize(pd.cut(data['income_total'], bins=bin_dividers, include_lowest=True, labels=[i for i in range(7)]))[0]\n",
    "    # 연속형 변수를 구간화하는 함수 만들고, 함수 이용하여 구간화 변수 3개 생성  \n",
    "    def make_bin(array, n):\n",
    "        array = -array # DAYS_BIRTH, DAYS_EMPLOYED, begin_month 가 마이너스라서 \n",
    "        _, bin_dividers = np.histogram(array, bins=n)\n",
    "        categories = pd.cut(array, bins=bin_dividers, include_lowest=True, labels=[i for i in range(n)])\n",
    "        bined_array = pd.factorize(categories)[0]\n",
    "        return bined_array\n",
    "    data['DAYS_BIRTH_BIN'] = make_bin(data['DAYS_BIRTH'], 10)\n",
    "    data['DAYS_EMPLOYED_BIN'] = make_bin(data['DAYS_EMPLOYED'], 6)\n",
    "    data['begin_month_bin'] = make_bin(data['begin_month'], 4)\n",
    "\n",
    "    #  DAYS_BIRTH, DAYS_EMPLOYED 비율로 소득 Feature 가공. \n",
    "    data['EMPLOYED_BIRTH_RATIO'] = data['DAYS_EMPLOYED']/data['DAYS_BIRTH']\n",
    "    data['INCOME_EMPLOYED_RATIO'] = data['income_total']/data['DAYS_EMPLOYED']\n",
    "    data['INCOME_BIRTH_RATIO'] = data['income_total']/data['DAYS_BIRTH']\n",
    "    # 가족수와 자녀수 mean, sum 피처 가공\n",
    "    # data['FAM_CHILD_MEAN'] = data[['child_num', 'family_size']].mean(axis=1)\n",
    "    data['FAM_CHILD_SUM'] = data[['child_num', 'family_size']].sum(axis=1)\n",
    "    # 가족수를 고려한 가처분 소득 피처 가공. \n",
    "    # data['CNT_CHILD_INCOME_RATIO'] = data['income_total']/data['child_num']\n",
    "    data['CNT_FAM_INCOME_RATIO'] = data['income_total']/data['family_size']\n",
    "    # 소유 여부(0/1의 2개 category피처들)와 교육수준 관련 피처들 mean, sum 피처 가공 \n",
    "    data['HAVE_OR_NOT_MEAN'] =data[['car','reality','work_phone','phone','email','edu_type']].mean(axis=1)\n",
    "    #data['HAVE_OR_NOT_SUM'] =data[['car','reality','work_phone','phone','email', 'edu_type']].sum(axis=1)\n",
    "\n",
    "    # 고민해서 새로 추가(4/14) tunning_3버전\n",
    "    data['INCOME_HAVE_OR_NOT_RATIO'] = data['income_total']/data['HAVE_OR_NOT_MEAN']\n",
    "    # data['DAYS_SUM'] = data[['DAYS_BIRTH_BIN', 'DAYS_EMPLOYED_BIN', 'begin_month']].sum(axis=1)\n",
    "    # data['INCOME_DAYS_SUM_RATIO'] = data['income_total'] / data[['DAYS_BIRTH_BIN', 'DAYS_EMPLOYED_BIN', 'begin_month']].sum(axis=1)\n",
    "\n",
    "    # 로그변환한 income_total새로 추가(skew 되어 있어서)(4/17) tunning_5버전\n",
    "    data['income_total_log'] = np.log1p(data['income_total']) \n",
    "\n",
    "    return data  \n",
    "\n",
    "#try_02_valid = 0.7347\n",
    "data = get_try02(data)"
   ]
  },
  {
   "cell_type": "markdown",
   "metadata": {
    "id": "O8-eEm3sRDao"
   },
   "source": [
    "### 4. train-test 분리하고 학습/feature_importance 확인 "
   ]
  },
  {
   "cell_type": "code",
   "execution_count": null,
   "metadata": {
    "colab": {
     "base_uri": "https://localhost:8080/"
    },
    "id": "Ap_brJaARJ4L",
    "outputId": "cd8dc1f2-3c02-4627-f03d-d49617ed115e"
   },
   "outputs": [
    {
     "data": {
      "text/plain": [
       "((26457, 30), (10000, 29))"
      ]
     },
     "execution_count": 46,
     "metadata": {
      "tags": []
     },
     "output_type": "execute_result"
    }
   ],
   "source": [
    "train = data[~data['credit'].isnull()]\n",
    "test = data[data['credit'].isnull()]\n",
    "test = test.drop('credit', axis=1)\n",
    "train.shape , test.shape "
   ]
  },
  {
   "cell_type": "code",
   "execution_count": null,
   "metadata": {
    "colab": {
     "base_uri": "https://localhost:8080/"
    },
    "id": "NUmQme94SJII",
    "outputId": "5a670988-9717-4967-9f85-4a8b54d44cd1"
   },
   "outputs": [
    {
     "data": {
      "text/plain": [
       "((18519, 28), (7938, 28))"
      ]
     },
     "execution_count": 47,
     "metadata": {
      "tags": []
     },
     "output_type": "execute_result"
    }
   ],
   "source": [
    "# 학습데이터를 다시 학습-검증데이터로 분리 (for 교차검증)\n",
    "ftr_train = train.drop(['index','credit'], axis=1)\n",
    "target_train = train['credit']\n",
    "\n",
    "train_x, valid_x, train_y, valid_y = train_test_split(ftr_train, target_train, test_size=0.3, random_state=156, stratify=target_train)\n",
    "train_x.shape, valid_x.shape"
   ]
  },
  {
   "cell_type": "code",
   "execution_count": null,
   "metadata": {
    "id": "uXzgSQtSJaUO"
   },
   "outputs": [],
   "source": [
    "# clf = RandomForestClassifier(n_estimators= 1000, max_depth = 12, max_features=20 )\n",
    "# clf.fit(train_x, train_y)\n",
    "# predictions = clf.predict_proba(valid_x)\n",
    "# valid_y_onehot = pd.get_dummies(valid_y)\n",
    "# logloss = log_loss(valid_y_onehot, predictions)"
   ]
  },
  {
   "cell_type": "code",
   "execution_count": null,
   "metadata": {
    "colab": {
     "base_uri": "https://localhost:8080/"
    },
    "id": "5oBprd3lTOvT",
    "outputId": "e8f83d70-af75-4532-9159-d9edf1cb7797"
   },
   "outputs": [
    {
     "name": "stdout",
     "output_type": "stream",
     "text": [
      "Training until validation scores don't improve for 100 rounds.\n",
      "[100]\ttraining's multi_logloss: 0.769256\ttraining's multi_logloss: 0.769256\tvalid_1's multi_logloss: 0.79146\tvalid_1's multi_logloss: 0.79146\n",
      "[200]\ttraining's multi_logloss: 0.729411\ttraining's multi_logloss: 0.729411\tvalid_1's multi_logloss: 0.774213\tvalid_1's multi_logloss: 0.774213\n",
      "[300]\ttraining's multi_logloss: 0.699434\ttraining's multi_logloss: 0.699434\tvalid_1's multi_logloss: 0.765404\tvalid_1's multi_logloss: 0.765404\n",
      "[400]\ttraining's multi_logloss: 0.674527\ttraining's multi_logloss: 0.674527\tvalid_1's multi_logloss: 0.758241\tvalid_1's multi_logloss: 0.758241\n",
      "[500]\ttraining's multi_logloss: 0.652422\ttraining's multi_logloss: 0.652422\tvalid_1's multi_logloss: 0.7524\tvalid_1's multi_logloss: 0.7524\n",
      "[600]\ttraining's multi_logloss: 0.632413\ttraining's multi_logloss: 0.632413\tvalid_1's multi_logloss: 0.747505\tvalid_1's multi_logloss: 0.747505\n",
      "[700]\ttraining's multi_logloss: 0.613142\ttraining's multi_logloss: 0.613142\tvalid_1's multi_logloss: 0.743052\tvalid_1's multi_logloss: 0.743052\n",
      "[800]\ttraining's multi_logloss: 0.595864\ttraining's multi_logloss: 0.595864\tvalid_1's multi_logloss: 0.73987\tvalid_1's multi_logloss: 0.73987\n",
      "[900]\ttraining's multi_logloss: 0.579605\ttraining's multi_logloss: 0.579605\tvalid_1's multi_logloss: 0.737072\tvalid_1's multi_logloss: 0.737072\n",
      "[1000]\ttraining's multi_logloss: 0.564432\ttraining's multi_logloss: 0.564432\tvalid_1's multi_logloss: 0.734357\tvalid_1's multi_logloss: 0.734357\n",
      "Did not meet early stopping. Best iteration is:\n",
      "[1000]\ttraining's multi_logloss: 0.564432\ttraining's multi_logloss: 0.564432\tvalid_1's multi_logloss: 0.734357\tvalid_1's multi_logloss: 0.734357\n"
     ]
    },
    {
     "data": {
      "text/plain": [
       "LGBMClassifier(boosting_type='gbdt', class_weight=None, colsample_bytree=1.0,\n",
       "               importance_type='split', learning_rate=0.02, max_depth=12,\n",
       "               min_child_samples=20, min_child_weight=0.001, min_split_gain=0.0,\n",
       "               n_estimators=1000, n_jobs=-1, num_leaves=32, objective=None,\n",
       "               random_state=None, reg_alpha=0.0, reg_lambda=0.0, silent=-1,\n",
       "               subsample=0.8, subsample_for_bin=200000, subsample_freq=0,\n",
       "               verbose=-1)"
      ]
     },
     "execution_count": 57,
     "metadata": {
      "tags": []
     },
     "output_type": "execute_result"
    }
   ],
   "source": [
    "# LGBMClassifier 학습\n",
    "clf = LGBMClassifier(\n",
    "        n_jobs=-1,\n",
    "        n_estimators=1000,\n",
    "        learning_rate=0.02,\n",
    "        num_leaves=32,\n",
    "        subsample=0.8,\n",
    "        max_depth=12,\n",
    "        silent=-1,\n",
    "        verbose=-1\n",
    "        )\n",
    "clf.fit(train_x, train_y, eval_set=[(train_x, train_y), (valid_x, valid_y)], eval_metric= 'logloss', verbose= 100, \n",
    "        early_stopping_rounds= 100)"
   ]
  },
  {
   "cell_type": "code",
   "execution_count": null,
   "metadata": {
    "colab": {
     "base_uri": "https://localhost:8080/",
     "height": 477
    },
    "id": "FVCeqWZyVOrr",
    "outputId": "a8ecfdad-15a4-4680-8c88-7026d7d9a299"
   },
   "outputs": [
    {
     "data": {
      "text/plain": [
       "<matplotlib.axes._subplots.AxesSubplot at 0x7ff6f67c3890>"
      ]
     },
     "execution_count": 58,
     "metadata": {
      "tags": []
     },
     "output_type": "execute_result"
    },
    {
     "data": {
      "image/png": "[encoded data removed]",
      "text/plain": [
       "<Figure size 864x504 with 1 Axes>"
      ]
     },
     "metadata": {
      "needs_background": "light",
      "tags": []
     },
     "output_type": "display_data"
    }
   ],
   "source": [
    "from lightgbm import plot_importance\n",
    "plot_importance(clf, figsize=(12,7))"
   ]
  },
  {
   "cell_type": "code",
   "execution_count": null,
   "metadata": {
    "id": "VtI2A1-EBcuO"
   },
   "outputs": [],
   "source": [
    "predictions = clf.predict_proba(test.drop('index', axis=1))\n",
    "submission.iloc[:, 1:] = predictions \n",
    "submission.to_csv('submission_try02_3.csv', index=False)"
   ]
  },
  {
   "cell_type": "markdown",
   "metadata": {
    "id": "u0o6nFh3TlEJ"
   },
   "source": [
    "### 5. 하이퍼파라미터 튜닝 후 학습/검증/예측 "
   ]
  },
  {
   "cell_type": "markdown",
   "metadata": {
    "id": "4cFnm2I-CO3P"
   },
   "source": [
    "#### 5-1 Bayesian Optimization 사용"
   ]
  },
  {
   "cell_type": "code",
   "execution_count": null,
   "metadata": {
    "id": "vBaLJ1q-VFz_"
   },
   "outputs": [],
   "source": [
    "# 베이지안 옵티마이저 사용하여 하이퍼파라미터 튜닝 \n",
    "bayesian_params = {\n",
    "    'max_depth': (6, 16), \n",
    "    'num_leaves': (8, 64), \n",
    "    'min_child_samples': (10, 200), \n",
    "    'min_child_weight':(1, 50),\n",
    "    'subsample':(0.5, 1.0),\n",
    "    'colsample_bytree': (0.5, 1.0),\n",
    "    'max_bin':(10, 500),\n",
    "    'reg_lambda':(0.001, 10),\n",
    "    'reg_alpha': (0.01, 50) \n",
    "}"
   ]
  },
  {
   "cell_type": "code",
   "execution_count": null,
   "metadata": {
    "id": "u-JLEfUAJCiT"
   },
   "outputs": [],
   "source": [
    "def lgb_roc_eval(max_depth, num_leaves, min_child_samples, min_child_weight, subsample, \n",
    "                colsample_bytree,max_bin, reg_lambda, reg_alpha):\n",
    "    params = {\n",
    "        \"n_estimators\":500, \"learning_rate\":0.02,\n",
    "        'max_depth': int(round(max_depth)), #  호출 시 실수형 값이 들어오므로 정수형 하이퍼 파라미터는 정수형으로 변경 \n",
    "        'num_leaves': int(round(num_leaves)), \n",
    "        'min_child_samples': int(round(min_child_samples)),\n",
    "        'min_child_weight': int(round(min_child_weight)),\n",
    "        'subsample': max(min(subsample, 1), 0), \n",
    "        'colsample_bytree': max(min(colsample_bytree, 1), 0),\n",
    "        'max_bin':  max(int(round(max_bin)),10),\n",
    "        'reg_lambda': max(reg_lambda,0),\n",
    "        'reg_alpha': max(reg_alpha, 0)\n",
    "    }\n",
    "    lgb_model = LGBMClassifier(**params)\n",
    "    lgb_model.fit(train_x, train_y, eval_set=[(train_x, train_y), (valid_x, valid_y)], eval_metric= 'logloss', verbose= 100, \n",
    "                early_stopping_rounds= 100)\n",
    "    valid_proba = lgb_model.predict(valid_x)\n",
    "    f1score = f1_score(valid_y, valid_proba, average='macro')\n",
    "    #accuracy = accuracy_score(valid_y, valid_proba)\n",
    "    #return accuracy\n",
    "\n",
    "    return f1score "
   ]
  },
  {
   "cell_type": "code",
   "execution_count": null,
   "metadata": {
    "colab": {
     "base_uri": "https://localhost:8080/"
    },
    "id": "hOhEXnk7JhOd",
    "outputId": "538cb008-f920-452a-f4f1-bf6b1f26003b"
   },
   "outputs": [
    {
     "name": "stdout",
     "output_type": "stream",
     "text": [
      "|   iter    |  target   | colsam... |  max_bin  | max_depth | min_ch... | min_ch... | num_le... | reg_alpha | reg_la... | subsample |\n",
      "-------------------------------------------------------------------------------------------------------------------------------------\n",
      "Training until validation scores don't improve for 100 rounds.\n",
      "[100]\ttraining's multi_logloss: 0.811728\ttraining's multi_logloss: 0.811728\tvalid_1's multi_logloss: 0.81357\tvalid_1's multi_logloss: 0.81357\n",
      "[200]\ttraining's multi_logloss: 0.789614\ttraining's multi_logloss: 0.789614\tvalid_1's multi_logloss: 0.798842\tvalid_1's multi_logloss: 0.798842\n",
      "[300]\ttraining's multi_logloss: 0.775987\ttraining's multi_logloss: 0.775987\tvalid_1's multi_logloss: 0.792327\tvalid_1's multi_logloss: 0.792327\n",
      "[400]\ttraining's multi_logloss: 0.765342\ttraining's multi_logloss: 0.765342\tvalid_1's multi_logloss: 0.788105\tvalid_1's multi_logloss: 0.788105\n",
      "[500]\ttraining's multi_logloss: 0.756828\ttraining's multi_logloss: 0.756828\tvalid_1's multi_logloss: 0.784779\tvalid_1's multi_logloss: 0.784779\n",
      "Did not meet early stopping. Best iteration is:\n",
      "[500]\ttraining's multi_logloss: 0.756828\ttraining's multi_logloss: 0.756828\tvalid_1's multi_logloss: 0.784779\tvalid_1's multi_logloss: 0.784779\n",
      "| \u001b[0m 1       \u001b[0m | \u001b[0m 0.3931  \u001b[0m | \u001b[0m 0.7744  \u001b[0m | \u001b[0m 360.4   \u001b[0m | \u001b[0m 12.03   \u001b[0m | \u001b[0m 113.5   \u001b[0m | \u001b[0m 21.76   \u001b[0m | \u001b[0m 44.17   \u001b[0m | \u001b[0m 21.88   \u001b[0m | \u001b[0m 8.918   \u001b[0m | \u001b[0m 0.9818  \u001b[0m |\n",
      "Training until validation scores don't improve for 100 rounds.\n",
      "[100]\ttraining's multi_logloss: 0.810277\ttraining's multi_logloss: 0.810277\tvalid_1's multi_logloss: 0.812286\tvalid_1's multi_logloss: 0.812286\n",
      "[200]\ttraining's multi_logloss: 0.789439\ttraining's multi_logloss: 0.789439\tvalid_1's multi_logloss: 0.797465\tvalid_1's multi_logloss: 0.797465\n",
      "[300]\ttraining's multi_logloss: 0.777244\ttraining's multi_logloss: 0.777244\tvalid_1's multi_logloss: 0.791153\tvalid_1's multi_logloss: 0.791153\n",
      "[400]\ttraining's multi_logloss: 0.767332\ttraining's multi_logloss: 0.767332\tvalid_1's multi_logloss: 0.787433\tvalid_1's multi_logloss: 0.787433\n",
      "[500]\ttraining's multi_logloss: 0.758331\ttraining's multi_logloss: 0.758331\tvalid_1's multi_logloss: 0.7841\tvalid_1's multi_logloss: 0.7841\n",
      "Did not meet early stopping. Best iteration is:\n",
      "[500]\ttraining's multi_logloss: 0.758331\ttraining's multi_logloss: 0.758331\tvalid_1's multi_logloss: 0.7841\tvalid_1's multi_logloss: 0.7841\n",
      "| \u001b[95m 2       \u001b[0m | \u001b[95m 0.3944  \u001b[0m | \u001b[95m 0.6917  \u001b[0m | \u001b[95m 397.9   \u001b[0m | \u001b[95m 11.29   \u001b[0m | \u001b[95m 117.9   \u001b[0m | \u001b[95m 46.35   \u001b[0m | \u001b[95m 11.98   \u001b[0m | \u001b[95m 4.366   \u001b[0m | \u001b[95m 0.2032  \u001b[0m | \u001b[95m 0.9163  \u001b[0m |\n",
      "Training until validation scores don't improve for 100 rounds.\n",
      "[100]\ttraining's multi_logloss: 0.777716\ttraining's multi_logloss: 0.777716\tvalid_1's multi_logloss: 0.796904\tvalid_1's multi_logloss: 0.796904\n",
      "[200]\ttraining's multi_logloss: 0.737338\ttraining's multi_logloss: 0.737338\tvalid_1's multi_logloss: 0.778094\tvalid_1's multi_logloss: 0.778094\n",
      "[300]\ttraining's multi_logloss: 0.707383\ttraining's multi_logloss: 0.707383\tvalid_1's multi_logloss: 0.767309\tvalid_1's multi_logloss: 0.767309\n",
      "[400]\ttraining's multi_logloss: 0.68285\ttraining's multi_logloss: 0.68285\tvalid_1's multi_logloss: 0.759751\tvalid_1's multi_logloss: 0.759751\n",
      "[500]\ttraining's multi_logloss: 0.663802\ttraining's multi_logloss: 0.663802\tvalid_1's multi_logloss: 0.75466\tvalid_1's multi_logloss: 0.75466\n",
      "Did not meet early stopping. Best iteration is:\n",
      "[500]\ttraining's multi_logloss: 0.663802\ttraining's multi_logloss: 0.663802\tvalid_1's multi_logloss: 0.75466\tvalid_1's multi_logloss: 0.75466\n",
      "| \u001b[95m 3       \u001b[0m | \u001b[95m 0.4255  \u001b[0m | \u001b[95m 0.8891  \u001b[0m | \u001b[95m 436.3   \u001b[0m | \u001b[95m 15.79   \u001b[0m | \u001b[95m 161.8   \u001b[0m | \u001b[95m 23.61   \u001b[0m | \u001b[95m 51.71   \u001b[0m | \u001b[95m 5.923   \u001b[0m | \u001b[95m 6.4     \u001b[0m | \u001b[95m 0.5717  \u001b[0m |\n",
      "Training until validation scores don't improve for 100 rounds.\n",
      "[100]\ttraining's multi_logloss: 0.810315\ttraining's multi_logloss: 0.810315\tvalid_1's multi_logloss: 0.810461\tvalid_1's multi_logloss: 0.810461\n",
      "[200]\ttraining's multi_logloss: 0.79297\ttraining's multi_logloss: 0.79297\tvalid_1's multi_logloss: 0.79899\tvalid_1's multi_logloss: 0.79899\n",
      "[300]\ttraining's multi_logloss: 0.783176\ttraining's multi_logloss: 0.783176\tvalid_1's multi_logloss: 0.794324\tvalid_1's multi_logloss: 0.794324\n",
      "[400]\ttraining's multi_logloss: 0.777473\ttraining's multi_logloss: 0.777473\tvalid_1's multi_logloss: 0.791728\tvalid_1's multi_logloss: 0.791728\n",
      "[500]\ttraining's multi_logloss: 0.775193\ttraining's multi_logloss: 0.775193\tvalid_1's multi_logloss: 0.790752\tvalid_1's multi_logloss: 0.790752\n",
      "Did not meet early stopping. Best iteration is:\n",
      "[500]\ttraining's multi_logloss: 0.775193\ttraining's multi_logloss: 0.775193\tvalid_1's multi_logloss: 0.790752\tvalid_1's multi_logloss: 0.790752\n",
      "| \u001b[0m 4       \u001b[0m | \u001b[0m 0.394   \u001b[0m | \u001b[0m 0.9723  \u001b[0m | \u001b[0m 265.7   \u001b[0m | \u001b[0m 10.15   \u001b[0m | \u001b[0m 60.27   \u001b[0m | \u001b[0m 38.94   \u001b[0m | \u001b[0m 33.54   \u001b[0m | \u001b[0m 28.43   \u001b[0m | \u001b[0m 0.1889  \u001b[0m | \u001b[0m 0.8088  \u001b[0m |\n",
      "Training until validation scores don't improve for 100 rounds.\n",
      "[100]\ttraining's multi_logloss: 0.817137\ttraining's multi_logloss: 0.817137\tvalid_1's multi_logloss: 0.814982\tvalid_1's multi_logloss: 0.814982\n",
      "[200]\ttraining's multi_logloss: 0.802307\ttraining's multi_logloss: 0.802307\tvalid_1's multi_logloss: 0.802976\tvalid_1's multi_logloss: 0.802976\n",
      "[300]\ttraining's multi_logloss: 0.794728\ttraining's multi_logloss: 0.794728\tvalid_1's multi_logloss: 0.798647\tvalid_1's multi_logloss: 0.798647\n",
      "[400]\ttraining's multi_logloss: 0.790492\ttraining's multi_logloss: 0.790492\tvalid_1's multi_logloss: 0.796593\tvalid_1's multi_logloss: 0.796593\n",
      "[500]\ttraining's multi_logloss: 0.788505\ttraining's multi_logloss: 0.788505\tvalid_1's multi_logloss: 0.795687\tvalid_1's multi_logloss: 0.795687\n",
      "Did not meet early stopping. Best iteration is:\n",
      "[500]\ttraining's multi_logloss: 0.788505\ttraining's multi_logloss: 0.788505\tvalid_1's multi_logloss: 0.795687\tvalid_1's multi_logloss: 0.795687\n",
      "| \u001b[0m 5       \u001b[0m | \u001b[0m 0.3922  \u001b[0m | \u001b[0m 0.806   \u001b[0m | \u001b[0m 312.3   \u001b[0m | \u001b[0m 15.44   \u001b[0m | \u001b[0m 139.5   \u001b[0m | \u001b[0m 18.62   \u001b[0m | \u001b[0m 32.47   \u001b[0m | \u001b[0m 34.88   \u001b[0m | \u001b[0m 0.6032  \u001b[0m | \u001b[0m 0.8334  \u001b[0m |\n",
      "Training until validation scores don't improve for 100 rounds.\n",
      "[100]\ttraining's multi_logloss: 0.769968\ttraining's multi_logloss: 0.769968\tvalid_1's multi_logloss: 0.795398\tvalid_1's multi_logloss: 0.795398\n",
      "[200]\ttraining's multi_logloss: 0.726975\ttraining's multi_logloss: 0.726975\tvalid_1's multi_logloss: 0.777616\tvalid_1's multi_logloss: 0.777616\n",
      "[300]\ttraining's multi_logloss: 0.696236\ttraining's multi_logloss: 0.696236\tvalid_1's multi_logloss: 0.767861\tvalid_1's multi_logloss: 0.767861\n",
      "[400]\ttraining's multi_logloss: 0.670968\ttraining's multi_logloss: 0.670968\tvalid_1's multi_logloss: 0.761625\tvalid_1's multi_logloss: 0.761625\n",
      "[500]\ttraining's multi_logloss: 0.650417\ttraining's multi_logloss: 0.650417\tvalid_1's multi_logloss: 0.756939\tvalid_1's multi_logloss: 0.756939\n",
      "Did not meet early stopping. Best iteration is:\n",
      "[500]\ttraining's multi_logloss: 0.650417\ttraining's multi_logloss: 0.650417\tvalid_1's multi_logloss: 0.756939\tvalid_1's multi_logloss: 0.756939\n",
      "| \u001b[95m 6       \u001b[0m | \u001b[95m 0.4279  \u001b[0m | \u001b[95m 1.0     \u001b[0m | \u001b[95m 34.42   \u001b[0m | \u001b[95m 16.0    \u001b[0m | \u001b[95m 195.9   \u001b[0m | \u001b[95m 50.0    \u001b[0m | \u001b[95m 64.0    \u001b[0m | \u001b[95m 0.01    \u001b[0m | \u001b[95m 10.0    \u001b[0m | \u001b[95m 0.5     \u001b[0m |\n",
      "Training until validation scores don't improve for 100 rounds.\n",
      "[100]\ttraining's multi_logloss: 0.832606\ttraining's multi_logloss: 0.832606\tvalid_1's multi_logloss: 0.828988\tvalid_1's multi_logloss: 0.828988\n",
      "[200]\ttraining's multi_logloss: 0.820699\ttraining's multi_logloss: 0.820699\tvalid_1's multi_logloss: 0.817184\tvalid_1's multi_logloss: 0.817184\n",
      "[300]\ttraining's multi_logloss: 0.815624\ttraining's multi_logloss: 0.815624\tvalid_1's multi_logloss: 0.81249\tvalid_1's multi_logloss: 0.81249\n",
      "[400]\ttraining's multi_logloss: 0.813424\ttraining's multi_logloss: 0.813424\tvalid_1's multi_logloss: 0.810609\tvalid_1's multi_logloss: 0.810609\n",
      "[500]\ttraining's multi_logloss: 0.812393\ttraining's multi_logloss: 0.812393\tvalid_1's multi_logloss: 0.809657\tvalid_1's multi_logloss: 0.809657\n",
      "Did not meet early stopping. Best iteration is:\n",
      "[500]\ttraining's multi_logloss: 0.812393\ttraining's multi_logloss: 0.812393\tvalid_1's multi_logloss: 0.809657\tvalid_1's multi_logloss: 0.809657\n",
      "| \u001b[0m 7       \u001b[0m | \u001b[0m 0.3999  \u001b[0m | \u001b[0m 0.5589  \u001b[0m | \u001b[0m 15.7    \u001b[0m | \u001b[0m 7.225   \u001b[0m | \u001b[0m 18.73   \u001b[0m | \u001b[0m 1.035   \u001b[0m | \u001b[0m 23.17   \u001b[0m | \u001b[0m 43.08   \u001b[0m | \u001b[0m 3.653   \u001b[0m | \u001b[0m 0.8043  \u001b[0m |\n",
      "Training until validation scores don't improve for 100 rounds.\n",
      "[100]\ttraining's multi_logloss: 0.819415\ttraining's multi_logloss: 0.819415\tvalid_1's multi_logloss: 0.815929\tvalid_1's multi_logloss: 0.815929\n",
      "[200]\ttraining's multi_logloss: 0.8085\ttraining's multi_logloss: 0.8085\tvalid_1's multi_logloss: 0.805861\tvalid_1's multi_logloss: 0.805861\n",
      "[300]\ttraining's multi_logloss: 0.80358\ttraining's multi_logloss: 0.80358\tvalid_1's multi_logloss: 0.802406\tvalid_1's multi_logloss: 0.802406\n",
      "[400]\ttraining's multi_logloss: 0.801885\ttraining's multi_logloss: 0.801885\tvalid_1's multi_logloss: 0.80117\tvalid_1's multi_logloss: 0.80117\n",
      "[500]\ttraining's multi_logloss: 0.801471\ttraining's multi_logloss: 0.801471\tvalid_1's multi_logloss: 0.800792\tvalid_1's multi_logloss: 0.800792\n",
      "Did not meet early stopping. Best iteration is:\n",
      "[500]\ttraining's multi_logloss: 0.801471\ttraining's multi_logloss: 0.801471\tvalid_1's multi_logloss: 0.800792\tvalid_1's multi_logloss: 0.800792\n",
      "| \u001b[0m 8       \u001b[0m | \u001b[0m 0.3912  \u001b[0m | \u001b[0m 0.8231  \u001b[0m | \u001b[0m 499.6   \u001b[0m | \u001b[0m 9.738   \u001b[0m | \u001b[0m 135.2   \u001b[0m | \u001b[0m 47.24   \u001b[0m | \u001b[0m 62.99   \u001b[0m | \u001b[0m 48.95   \u001b[0m | \u001b[0m 5.487   \u001b[0m | \u001b[0m 0.6267  \u001b[0m |\n",
      "Training until validation scores don't improve for 100 rounds.\n",
      "[100]\ttraining's multi_logloss: 0.810925\ttraining's multi_logloss: 0.810925\tvalid_1's multi_logloss: 0.815196\tvalid_1's multi_logloss: 0.815196\n",
      "[200]\ttraining's multi_logloss: 0.783763\ttraining's multi_logloss: 0.783763\tvalid_1's multi_logloss: 0.797745\tvalid_1's multi_logloss: 0.797745\n",
      "[300]\ttraining's multi_logloss: 0.764607\ttraining's multi_logloss: 0.764607\tvalid_1's multi_logloss: 0.788731\tvalid_1's multi_logloss: 0.788731\n",
      "[400]\ttraining's multi_logloss: 0.749935\ttraining's multi_logloss: 0.749935\tvalid_1's multi_logloss: 0.782994\tvalid_1's multi_logloss: 0.782994\n",
      "[500]\ttraining's multi_logloss: 0.737888\ttraining's multi_logloss: 0.737888\tvalid_1's multi_logloss: 0.77932\tvalid_1's multi_logloss: 0.77932\n",
      "Did not meet early stopping. Best iteration is:\n",
      "[500]\ttraining's multi_logloss: 0.737888\ttraining's multi_logloss: 0.737888\tvalid_1's multi_logloss: 0.77932\tvalid_1's multi_logloss: 0.77932\n",
      "| \u001b[0m 9       \u001b[0m | \u001b[0m 0.3917  \u001b[0m | \u001b[0m 0.6061  \u001b[0m | \u001b[0m 12.99   \u001b[0m | \u001b[0m 8.237   \u001b[0m | \u001b[0m 12.66   \u001b[0m | \u001b[0m 38.94   \u001b[0m | \u001b[0m 59.39   \u001b[0m | \u001b[0m 7.411   \u001b[0m | \u001b[0m 5.663   \u001b[0m | \u001b[0m 0.9739  \u001b[0m |\n",
      "Training until validation scores don't improve for 100 rounds.\n",
      "[100]\ttraining's multi_logloss: 0.797076\ttraining's multi_logloss: 0.797076\tvalid_1's multi_logloss: 0.805986\tvalid_1's multi_logloss: 0.805986\n",
      "[200]\ttraining's multi_logloss: 0.769022\ttraining's multi_logloss: 0.769022\tvalid_1's multi_logloss: 0.790817\tvalid_1's multi_logloss: 0.790817\n",
      "[300]\ttraining's multi_logloss: 0.74983\ttraining's multi_logloss: 0.74983\tvalid_1's multi_logloss: 0.783615\tvalid_1's multi_logloss: 0.783615\n",
      "[400]\ttraining's multi_logloss: 0.733144\ttraining's multi_logloss: 0.733144\tvalid_1's multi_logloss: 0.777844\tvalid_1's multi_logloss: 0.777844\n",
      "[500]\ttraining's multi_logloss: 0.719054\ttraining's multi_logloss: 0.719054\tvalid_1's multi_logloss: 0.77377\tvalid_1's multi_logloss: 0.77377\n",
      "Did not meet early stopping. Best iteration is:\n",
      "[500]\ttraining's multi_logloss: 0.719054\ttraining's multi_logloss: 0.719054\tvalid_1's multi_logloss: 0.77377\tvalid_1's multi_logloss: 0.77377\n",
      "| \u001b[0m 10      \u001b[0m | \u001b[0m 0.3986  \u001b[0m | \u001b[0m 0.7805  \u001b[0m | \u001b[0m 28.96   \u001b[0m | \u001b[0m 8.223   \u001b[0m | \u001b[0m 179.4   \u001b[0m | \u001b[0m 37.64   \u001b[0m | \u001b[0m 59.79   \u001b[0m | \u001b[0m 6.065   \u001b[0m | \u001b[0m 2.774   \u001b[0m | \u001b[0m 0.6177  \u001b[0m |\n",
      "Training until validation scores don't improve for 100 rounds.\n",
      "[100]\ttraining's multi_logloss: 0.81903\ttraining's multi_logloss: 0.81903\tvalid_1's multi_logloss: 0.819993\tvalid_1's multi_logloss: 0.819993\n",
      "[200]\ttraining's multi_logloss: 0.798619\ttraining's multi_logloss: 0.798619\tvalid_1's multi_logloss: 0.803864\tvalid_1's multi_logloss: 0.803864\n",
      "[300]\ttraining's multi_logloss: 0.786576\ttraining's multi_logloss: 0.786576\tvalid_1's multi_logloss: 0.796408\tvalid_1's multi_logloss: 0.796408\n",
      "[400]\ttraining's multi_logloss: 0.777653\ttraining's multi_logloss: 0.777653\tvalid_1's multi_logloss: 0.791921\tvalid_1's multi_logloss: 0.791921\n",
      "[500]\ttraining's multi_logloss: 0.770062\ttraining's multi_logloss: 0.770062\tvalid_1's multi_logloss: 0.788673\tvalid_1's multi_logloss: 0.788673\n",
      "Did not meet early stopping. Best iteration is:\n",
      "[500]\ttraining's multi_logloss: 0.770062\ttraining's multi_logloss: 0.770062\tvalid_1's multi_logloss: 0.788673\tvalid_1's multi_logloss: 0.788673\n",
      "| \u001b[0m 11      \u001b[0m | \u001b[0m 0.3941  \u001b[0m | \u001b[0m 0.5314  \u001b[0m | \u001b[0m 494.6   \u001b[0m | \u001b[0m 7.665   \u001b[0m | \u001b[0m 14.36   \u001b[0m | \u001b[0m 2.408   \u001b[0m | \u001b[0m 13.16   \u001b[0m | \u001b[0m 12.43   \u001b[0m | \u001b[0m 5.293   \u001b[0m | \u001b[0m 0.7669  \u001b[0m |\n",
      "Training until validation scores don't improve for 100 rounds.\n",
      "[100]\ttraining's multi_logloss: 0.787147\ttraining's multi_logloss: 0.787147\tvalid_1's multi_logloss: 0.803048\tvalid_1's multi_logloss: 0.803048\n",
      "[200]\ttraining's multi_logloss: 0.75078\ttraining's multi_logloss: 0.75078\tvalid_1's multi_logloss: 0.783588\tvalid_1's multi_logloss: 0.783588\n",
      "[300]\ttraining's multi_logloss: 0.725283\ttraining's multi_logloss: 0.725283\tvalid_1's multi_logloss: 0.77355\tvalid_1's multi_logloss: 0.77355\n",
      "[400]\ttraining's multi_logloss: 0.706401\ttraining's multi_logloss: 0.706401\tvalid_1's multi_logloss: 0.767495\tvalid_1's multi_logloss: 0.767495\n",
      "[500]\ttraining's multi_logloss: 0.689388\ttraining's multi_logloss: 0.689388\tvalid_1's multi_logloss: 0.761887\tvalid_1's multi_logloss: 0.761887\n",
      "Did not meet early stopping. Best iteration is:\n",
      "[500]\ttraining's multi_logloss: 0.689388\ttraining's multi_logloss: 0.689388\tvalid_1's multi_logloss: 0.761887\tvalid_1's multi_logloss: 0.761887\n",
      "| \u001b[0m 12      \u001b[0m | \u001b[0m 0.4075  \u001b[0m | \u001b[0m 0.7354  \u001b[0m | \u001b[0m 444.7   \u001b[0m | \u001b[0m 8.743   \u001b[0m | \u001b[0m 159.9   \u001b[0m | \u001b[0m 17.34   \u001b[0m | \u001b[0m 46.34   \u001b[0m | \u001b[0m 4.481   \u001b[0m | \u001b[0m 3.524   \u001b[0m | \u001b[0m 0.5199  \u001b[0m |\n",
      "Training until validation scores don't improve for 100 rounds.\n",
      "[100]\ttraining's multi_logloss: 0.822002\ttraining's multi_logloss: 0.822002\tvalid_1's multi_logloss: 0.822137\tvalid_1's multi_logloss: 0.822137\n",
      "[200]\ttraining's multi_logloss: 0.801329\ttraining's multi_logloss: 0.801329\tvalid_1's multi_logloss: 0.804865\tvalid_1's multi_logloss: 0.804865\n",
      "[300]\ttraining's multi_logloss: 0.789912\ttraining's multi_logloss: 0.789912\tvalid_1's multi_logloss: 0.797372\tvalid_1's multi_logloss: 0.797372\n",
      "[400]\ttraining's multi_logloss: 0.781898\ttraining's multi_logloss: 0.781898\tvalid_1's multi_logloss: 0.793326\tvalid_1's multi_logloss: 0.793326\n",
      "[500]\ttraining's multi_logloss: 0.775166\ttraining's multi_logloss: 0.775166\tvalid_1's multi_logloss: 0.79055\tvalid_1's multi_logloss: 0.79055\n",
      "Did not meet early stopping. Best iteration is:\n",
      "[500]\ttraining's multi_logloss: 0.775166\ttraining's multi_logloss: 0.775166\tvalid_1's multi_logloss: 0.79055\tvalid_1's multi_logloss: 0.79055\n",
      "| \u001b[0m 13      \u001b[0m | \u001b[0m 0.3945  \u001b[0m | \u001b[0m 0.5175  \u001b[0m | \u001b[0m 122.8   \u001b[0m | \u001b[0m 14.76   \u001b[0m | \u001b[0m 182.9   \u001b[0m | \u001b[0m 4.801   \u001b[0m | \u001b[0m 8.696   \u001b[0m | \u001b[0m 1.974   \u001b[0m | \u001b[0m 6.267   \u001b[0m | \u001b[0m 0.5975  \u001b[0m |\n",
      "Training until validation scores don't improve for 100 rounds.\n",
      "[100]\ttraining's multi_logloss: 0.827652\ttraining's multi_logloss: 0.827652\tvalid_1's multi_logloss: 0.823427\tvalid_1's multi_logloss: 0.823427\n",
      "[200]\ttraining's multi_logloss: 0.814366\ttraining's multi_logloss: 0.814366\tvalid_1's multi_logloss: 0.81026\tvalid_1's multi_logloss: 0.81026\n",
      "[300]\ttraining's multi_logloss: 0.80881\ttraining's multi_logloss: 0.80881\tvalid_1's multi_logloss: 0.805274\tvalid_1's multi_logloss: 0.805274\n",
      "[400]\ttraining's multi_logloss: 0.806671\ttraining's multi_logloss: 0.806671\tvalid_1's multi_logloss: 0.803339\tvalid_1's multi_logloss: 0.803339\n",
      "[500]\ttraining's multi_logloss: 0.80576\ttraining's multi_logloss: 0.80576\tvalid_1's multi_logloss: 0.80244\tvalid_1's multi_logloss: 0.80244\n",
      "Did not meet early stopping. Best iteration is:\n",
      "[500]\ttraining's multi_logloss: 0.80576\ttraining's multi_logloss: 0.80576\tvalid_1's multi_logloss: 0.80244\tvalid_1's multi_logloss: 0.80244\n",
      "| \u001b[0m 14      \u001b[0m | \u001b[0m 0.3892  \u001b[0m | \u001b[0m 0.6015  \u001b[0m | \u001b[0m 53.52   \u001b[0m | \u001b[0m 15.79   \u001b[0m | \u001b[0m 46.05   \u001b[0m | \u001b[0m 48.14   \u001b[0m | \u001b[0m 11.27   \u001b[0m | \u001b[0m 49.42   \u001b[0m | \u001b[0m 8.351   \u001b[0m | \u001b[0m 0.8539  \u001b[0m |\n",
      "Training until validation scores don't improve for 100 rounds.\n",
      "[100]\ttraining's multi_logloss: 0.797099\ttraining's multi_logloss: 0.797099\tvalid_1's multi_logloss: 0.81088\tvalid_1's multi_logloss: 0.81088\n",
      "[200]\ttraining's multi_logloss: 0.758424\ttraining's multi_logloss: 0.758424\tvalid_1's multi_logloss: 0.788897\tvalid_1's multi_logloss: 0.788897\n",
      "[300]\ttraining's multi_logloss: 0.731276\ttraining's multi_logloss: 0.731276\tvalid_1's multi_logloss: 0.777451\tvalid_1's multi_logloss: 0.777451\n",
      "[400]\ttraining's multi_logloss: 0.708417\ttraining's multi_logloss: 0.708417\tvalid_1's multi_logloss: 0.769198\tvalid_1's multi_logloss: 0.769198\n",
      "[500]\ttraining's multi_logloss: 0.689312\ttraining's multi_logloss: 0.689312\tvalid_1's multi_logloss: 0.762913\tvalid_1's multi_logloss: 0.762913\n",
      "Did not meet early stopping. Best iteration is:\n",
      "[500]\ttraining's multi_logloss: 0.689312\ttraining's multi_logloss: 0.689312\tvalid_1's multi_logloss: 0.762913\tvalid_1's multi_logloss: 0.762913\n",
      "| \u001b[0m 15      \u001b[0m | \u001b[0m 0.4074  \u001b[0m | \u001b[0m 0.5217  \u001b[0m | \u001b[0m 274.1   \u001b[0m | \u001b[0m 15.84   \u001b[0m | \u001b[0m 198.1   \u001b[0m | \u001b[0m 46.41   \u001b[0m | \u001b[0m 61.91   \u001b[0m | \u001b[0m 5.958   \u001b[0m | \u001b[0m 7.456   \u001b[0m | \u001b[0m 0.6905  \u001b[0m |\n",
      "Training until validation scores don't improve for 100 rounds.\n",
      "[100]\ttraining's multi_logloss: 0.814189\ttraining's multi_logloss: 0.814189\tvalid_1's multi_logloss: 0.812537\tvalid_1's multi_logloss: 0.812537\n",
      "[200]\ttraining's multi_logloss: 0.798707\ttraining's multi_logloss: 0.798707\tvalid_1's multi_logloss: 0.800656\tvalid_1's multi_logloss: 0.800656\n",
      "[300]\ttraining's multi_logloss: 0.790401\ttraining's multi_logloss: 0.790401\tvalid_1's multi_logloss: 0.796147\tvalid_1's multi_logloss: 0.796147\n",
      "[400]\ttraining's multi_logloss: 0.783937\ttraining's multi_logloss: 0.783937\tvalid_1's multi_logloss: 0.793352\tvalid_1's multi_logloss: 0.793352\n",
      "[500]\ttraining's multi_logloss: 0.77837\ttraining's multi_logloss: 0.77837\tvalid_1's multi_logloss: 0.791125\tvalid_1's multi_logloss: 0.791125\n",
      "Did not meet early stopping. Best iteration is:\n",
      "[500]\ttraining's multi_logloss: 0.77837\ttraining's multi_logloss: 0.77837\tvalid_1's multi_logloss: 0.791125\tvalid_1's multi_logloss: 0.791125\n",
      "| \u001b[0m 16      \u001b[0m | \u001b[0m 0.3921  \u001b[0m | \u001b[0m 0.7902  \u001b[0m | \u001b[0m 498.6   \u001b[0m | \u001b[0m 12.03   \u001b[0m | \u001b[0m 189.8   \u001b[0m | \u001b[0m 7.88    \u001b[0m | \u001b[0m 8.921   \u001b[0m | \u001b[0m 10.45   \u001b[0m | \u001b[0m 7.971   \u001b[0m | \u001b[0m 0.7325  \u001b[0m |\n",
      "Training until validation scores don't improve for 100 rounds.\n",
      "[100]\ttraining's multi_logloss: 0.759086\ttraining's multi_logloss: 0.759086\tvalid_1's multi_logloss: 0.793014\tvalid_1's multi_logloss: 0.793014\n",
      "[200]\ttraining's multi_logloss: 0.703866\ttraining's multi_logloss: 0.703866\tvalid_1's multi_logloss: 0.767828\tvalid_1's multi_logloss: 0.767828\n",
      "[300]\ttraining's multi_logloss: 0.66618\ttraining's multi_logloss: 0.66618\tvalid_1's multi_logloss: 0.755095\tvalid_1's multi_logloss: 0.755095\n",
      "[400]\ttraining's multi_logloss: 0.636049\ttraining's multi_logloss: 0.636049\tvalid_1's multi_logloss: 0.746444\tvalid_1's multi_logloss: 0.746444\n",
      "[500]\ttraining's multi_logloss: 0.610916\ttraining's multi_logloss: 0.610916\tvalid_1's multi_logloss: 0.740422\tvalid_1's multi_logloss: 0.740422\n",
      "Did not meet early stopping. Best iteration is:\n",
      "[500]\ttraining's multi_logloss: 0.610916\ttraining's multi_logloss: 0.610916\tvalid_1's multi_logloss: 0.740422\tvalid_1's multi_logloss: 0.740422\n",
      "| \u001b[95m 17      \u001b[0m | \u001b[95m 0.4496  \u001b[0m | \u001b[95m 0.6061  \u001b[0m | \u001b[95m 334.3   \u001b[0m | \u001b[95m 15.97   \u001b[0m | \u001b[95m 20.67   \u001b[0m | \u001b[95m 15.01   \u001b[0m | \u001b[95m 62.35   \u001b[0m | \u001b[95m 1.801   \u001b[0m | \u001b[95m 4.06    \u001b[0m | \u001b[95m 0.5817  \u001b[0m |\n",
      "Training until validation scores don't improve for 100 rounds.\n",
      "[100]\ttraining's multi_logloss: 0.771303\ttraining's multi_logloss: 0.771303\tvalid_1's multi_logloss: 0.795369\tvalid_1's multi_logloss: 0.795369\n",
      "[200]\ttraining's multi_logloss: 0.727071\ttraining's multi_logloss: 0.727071\tvalid_1's multi_logloss: 0.773999\tvalid_1's multi_logloss: 0.773999\n",
      "[300]\ttraining's multi_logloss: 0.69722\ttraining's multi_logloss: 0.69722\tvalid_1's multi_logloss: 0.763819\tvalid_1's multi_logloss: 0.763819\n",
      "[400]\ttraining's multi_logloss: 0.67346\ttraining's multi_logloss: 0.67346\tvalid_1's multi_logloss: 0.756777\tvalid_1's multi_logloss: 0.756777\n",
      "[500]\ttraining's multi_logloss: 0.651828\ttraining's multi_logloss: 0.651828\tvalid_1's multi_logloss: 0.750938\tvalid_1's multi_logloss: 0.750938\n",
      "Did not meet early stopping. Best iteration is:\n",
      "[500]\ttraining's multi_logloss: 0.651828\ttraining's multi_logloss: 0.651828\tvalid_1's multi_logloss: 0.750938\tvalid_1's multi_logloss: 0.750938\n",
      "| \u001b[0m 18      \u001b[0m | \u001b[0m 0.4287  \u001b[0m | \u001b[0m 0.712   \u001b[0m | \u001b[0m 135.4   \u001b[0m | \u001b[0m 15.34   \u001b[0m | \u001b[0m 19.87   \u001b[0m | \u001b[0m 1.882   \u001b[0m | \u001b[0m 46.86   \u001b[0m | \u001b[0m 3.744   \u001b[0m | \u001b[0m 1.535   \u001b[0m | \u001b[0m 0.9527  \u001b[0m |\n",
      "Training until validation scores don't improve for 100 rounds.\n",
      "[100]\ttraining's multi_logloss: 0.795118\ttraining's multi_logloss: 0.795118\tvalid_1's multi_logloss: 0.809913\tvalid_1's multi_logloss: 0.809913\n",
      "[200]\ttraining's multi_logloss: 0.758565\ttraining's multi_logloss: 0.758565\tvalid_1's multi_logloss: 0.788506\tvalid_1's multi_logloss: 0.788506\n",
      "[300]\ttraining's multi_logloss: 0.733435\ttraining's multi_logloss: 0.733435\tvalid_1's multi_logloss: 0.777808\tvalid_1's multi_logloss: 0.777808\n",
      "[400]\ttraining's multi_logloss: 0.714452\ttraining's multi_logloss: 0.714452\tvalid_1's multi_logloss: 0.770707\tvalid_1's multi_logloss: 0.770707\n",
      "[500]\ttraining's multi_logloss: 0.698439\ttraining's multi_logloss: 0.698439\tvalid_1's multi_logloss: 0.765306\tvalid_1's multi_logloss: 0.765306\n",
      "Did not meet early stopping. Best iteration is:\n",
      "[500]\ttraining's multi_logloss: 0.698439\ttraining's multi_logloss: 0.698439\tvalid_1's multi_logloss: 0.765306\tvalid_1's multi_logloss: 0.765306\n",
      "| \u001b[0m 19      \u001b[0m | \u001b[0m 0.4044  \u001b[0m | \u001b[0m 0.5477  \u001b[0m | \u001b[0m 279.6   \u001b[0m | \u001b[0m 10.26   \u001b[0m | \u001b[0m 196.8   \u001b[0m | \u001b[0m 46.28   \u001b[0m | \u001b[0m 59.54   \u001b[0m | \u001b[0m 4.305   \u001b[0m | \u001b[0m 6.443   \u001b[0m | \u001b[0m 0.8331  \u001b[0m |\n",
      "Training until validation scores don't improve for 100 rounds.\n",
      "[100]\ttraining's multi_logloss: 0.773119\ttraining's multi_logloss: 0.773119\tvalid_1's multi_logloss: 0.7952\tvalid_1's multi_logloss: 0.7952\n",
      "[200]\ttraining's multi_logloss: 0.730433\ttraining's multi_logloss: 0.730433\tvalid_1's multi_logloss: 0.7764\tvalid_1's multi_logloss: 0.7764\n",
      "[300]\ttraining's multi_logloss: 0.699343\ttraining's multi_logloss: 0.699343\tvalid_1's multi_logloss: 0.765399\tvalid_1's multi_logloss: 0.765399\n",
      "[400]\ttraining's multi_logloss: 0.674831\ttraining's multi_logloss: 0.674831\tvalid_1's multi_logloss: 0.757779\tvalid_1's multi_logloss: 0.757779\n",
      "[500]\ttraining's multi_logloss: 0.655692\ttraining's multi_logloss: 0.655692\tvalid_1's multi_logloss: 0.752999\tvalid_1's multi_logloss: 0.752999\n",
      "Did not meet early stopping. Best iteration is:\n",
      "[500]\ttraining's multi_logloss: 0.655692\ttraining's multi_logloss: 0.655692\tvalid_1's multi_logloss: 0.752999\tvalid_1's multi_logloss: 0.752999\n",
      "| \u001b[0m 20      \u001b[0m | \u001b[0m 0.4244  \u001b[0m | \u001b[0m 0.9918  \u001b[0m | \u001b[0m 495.7   \u001b[0m | \u001b[0m 15.47   \u001b[0m | \u001b[0m 22.48   \u001b[0m | \u001b[0m 47.76   \u001b[0m | \u001b[0m 57.44   \u001b[0m | \u001b[0m 5.65    \u001b[0m | \u001b[0m 3.964   \u001b[0m | \u001b[0m 0.6183  \u001b[0m |\n",
      "Training until validation scores don't improve for 100 rounds.\n",
      "[100]\ttraining's multi_logloss: 0.824659\ttraining's multi_logloss: 0.824659\tvalid_1's multi_logloss: 0.824132\tvalid_1's multi_logloss: 0.824132\n",
      "[200]\ttraining's multi_logloss: 0.809774\ttraining's multi_logloss: 0.809774\tvalid_1's multi_logloss: 0.81295\tvalid_1's multi_logloss: 0.81295\n",
      "[300]\ttraining's multi_logloss: 0.801609\ttraining's multi_logloss: 0.801609\tvalid_1's multi_logloss: 0.809208\tvalid_1's multi_logloss: 0.809208\n",
      "[400]\ttraining's multi_logloss: 0.795429\ttraining's multi_logloss: 0.795429\tvalid_1's multi_logloss: 0.806776\tvalid_1's multi_logloss: 0.806776\n",
      "[500]\ttraining's multi_logloss: 0.790609\ttraining's multi_logloss: 0.790609\tvalid_1's multi_logloss: 0.805149\tvalid_1's multi_logloss: 0.805149\n",
      "Did not meet early stopping. Best iteration is:\n",
      "[500]\ttraining's multi_logloss: 0.790609\ttraining's multi_logloss: 0.790609\tvalid_1's multi_logloss: 0.805149\tvalid_1's multi_logloss: 0.805149\n",
      "| \u001b[0m 21      \u001b[0m | \u001b[0m 0.3999  \u001b[0m | \u001b[0m 0.6163  \u001b[0m | \u001b[0m 10.44   \u001b[0m | \u001b[0m 10.6    \u001b[0m | \u001b[0m 185.8   \u001b[0m | \u001b[0m 49.56   \u001b[0m | \u001b[0m 16.21   \u001b[0m | \u001b[0m 9.978   \u001b[0m | \u001b[0m 9.358   \u001b[0m | \u001b[0m 0.5858  \u001b[0m |\n",
      "Training until validation scores don't improve for 100 rounds.\n",
      "[100]\ttraining's multi_logloss: 0.813805\ttraining's multi_logloss: 0.813805\tvalid_1's multi_logloss: 0.811862\tvalid_1's multi_logloss: 0.811862\n",
      "[200]\ttraining's multi_logloss: 0.800066\ttraining's multi_logloss: 0.800066\tvalid_1's multi_logloss: 0.801592\tvalid_1's multi_logloss: 0.801592\n",
      "[300]\ttraining's multi_logloss: 0.793241\ttraining's multi_logloss: 0.793241\tvalid_1's multi_logloss: 0.797943\tvalid_1's multi_logloss: 0.797943\n",
      "[400]\ttraining's multi_logloss: 0.789322\ttraining's multi_logloss: 0.789322\tvalid_1's multi_logloss: 0.796177\tvalid_1's multi_logloss: 0.796177\n",
      "[500]\ttraining's multi_logloss: 0.787529\ttraining's multi_logloss: 0.787529\tvalid_1's multi_logloss: 0.795467\tvalid_1's multi_logloss: 0.795467\n",
      "Did not meet early stopping. Best iteration is:\n",
      "[500]\ttraining's multi_logloss: 0.787529\ttraining's multi_logloss: 0.787529\tvalid_1's multi_logloss: 0.795467\tvalid_1's multi_logloss: 0.795467\n",
      "| \u001b[0m 22      \u001b[0m | \u001b[0m 0.3933  \u001b[0m | \u001b[0m 0.9983  \u001b[0m | \u001b[0m 254.0   \u001b[0m | \u001b[0m 15.65   \u001b[0m | \u001b[0m 172.3   \u001b[0m | \u001b[0m 4.75    \u001b[0m | \u001b[0m 24.8    \u001b[0m | \u001b[0m 34.22   \u001b[0m | \u001b[0m 8.13    \u001b[0m | \u001b[0m 0.8197  \u001b[0m |\n",
      "Training until validation scores don't improve for 100 rounds.\n",
      "[100]\ttraining's multi_logloss: 0.787633\ttraining's multi_logloss: 0.787633\tvalid_1's multi_logloss: 0.805187\tvalid_1's multi_logloss: 0.805187\n",
      "[200]\ttraining's multi_logloss: 0.747701\ttraining's multi_logloss: 0.747701\tvalid_1's multi_logloss: 0.783753\tvalid_1's multi_logloss: 0.783753\n",
      "[300]\ttraining's multi_logloss: 0.719502\ttraining's multi_logloss: 0.719502\tvalid_1's multi_logloss: 0.771975\tvalid_1's multi_logloss: 0.771975\n",
      "[400]\ttraining's multi_logloss: 0.696629\ttraining's multi_logloss: 0.696629\tvalid_1's multi_logloss: 0.764\tvalid_1's multi_logloss: 0.764\n",
      "[500]\ttraining's multi_logloss: 0.67766\ttraining's multi_logloss: 0.67766\tvalid_1's multi_logloss: 0.758082\tvalid_1's multi_logloss: 0.758082\n",
      "Did not meet early stopping. Best iteration is:\n",
      "[500]\ttraining's multi_logloss: 0.67766\ttraining's multi_logloss: 0.67766\tvalid_1's multi_logloss: 0.758082\tvalid_1's multi_logloss: 0.758082\n",
      "| \u001b[0m 23      \u001b[0m | \u001b[0m 0.4167  \u001b[0m | \u001b[0m 0.5971  \u001b[0m | \u001b[0m 447.9   \u001b[0m | \u001b[0m 13.34   \u001b[0m | \u001b[0m 168.5   \u001b[0m | \u001b[0m 19.35   \u001b[0m | \u001b[0m 45.89   \u001b[0m | \u001b[0m 4.679   \u001b[0m | \u001b[0m 6.172   \u001b[0m | \u001b[0m 0.6255  \u001b[0m |\n",
      "Training until validation scores don't improve for 100 rounds.\n",
      "[100]\ttraining's multi_logloss: 0.827774\ttraining's multi_logloss: 0.827774\tvalid_1's multi_logloss: 0.824514\tvalid_1's multi_logloss: 0.824514\n",
      "[200]\ttraining's multi_logloss: 0.813173\ttraining's multi_logloss: 0.813173\tvalid_1's multi_logloss: 0.810704\tvalid_1's multi_logloss: 0.810704\n",
      "[300]\ttraining's multi_logloss: 0.80675\ttraining's multi_logloss: 0.80675\tvalid_1's multi_logloss: 0.805212\tvalid_1's multi_logloss: 0.805212\n",
      "[400]\ttraining's multi_logloss: 0.804364\ttraining's multi_logloss: 0.804364\tvalid_1's multi_logloss: 0.803106\tvalid_1's multi_logloss: 0.803106\n",
      "[500]\ttraining's multi_logloss: 0.803371\ttraining's multi_logloss: 0.803371\tvalid_1's multi_logloss: 0.802131\tvalid_1's multi_logloss: 0.802131\n",
      "Did not meet early stopping. Best iteration is:\n",
      "[499]\ttraining's multi_logloss: 0.803371\ttraining's multi_logloss: 0.803371\tvalid_1's multi_logloss: 0.802131\tvalid_1's multi_logloss: 0.802131\n",
      "| \u001b[0m 24      \u001b[0m | \u001b[0m 0.3919  \u001b[0m | \u001b[0m 0.5907  \u001b[0m | \u001b[0m 217.3   \u001b[0m | \u001b[0m 12.18   \u001b[0m | \u001b[0m 11.32   \u001b[0m | \u001b[0m 2.35    \u001b[0m | \u001b[0m 51.16   \u001b[0m | \u001b[0m 49.29   \u001b[0m | \u001b[0m 9.421   \u001b[0m | \u001b[0m 0.5156  \u001b[0m |\n",
      "Training until validation scores don't improve for 100 rounds.\n",
      "[100]\ttraining's multi_logloss: 0.77967\ttraining's multi_logloss: 0.77967\tvalid_1's multi_logloss: 0.797483\tvalid_1's multi_logloss: 0.797483\n",
      "[200]\ttraining's multi_logloss: 0.745855\ttraining's multi_logloss: 0.745855\tvalid_1's multi_logloss: 0.782032\tvalid_1's multi_logloss: 0.782032\n",
      "[300]\ttraining's multi_logloss: 0.722036\ttraining's multi_logloss: 0.722036\tvalid_1's multi_logloss: 0.773498\tvalid_1's multi_logloss: 0.773498\n",
      "[400]\ttraining's multi_logloss: 0.701845\ttraining's multi_logloss: 0.701845\tvalid_1's multi_logloss: 0.766028\tvalid_1's multi_logloss: 0.766028\n",
      "[500]\ttraining's multi_logloss: 0.685449\ttraining's multi_logloss: 0.685449\tvalid_1's multi_logloss: 0.76122\tvalid_1's multi_logloss: 0.76122\n",
      "Did not meet early stopping. Best iteration is:\n",
      "[500]\ttraining's multi_logloss: 0.685449\ttraining's multi_logloss: 0.685449\tvalid_1's multi_logloss: 0.76122\tvalid_1's multi_logloss: 0.76122\n",
      "| \u001b[0m 25      \u001b[0m | \u001b[0m 0.4117  \u001b[0m | \u001b[0m 0.9848  \u001b[0m | \u001b[0m 443.2   \u001b[0m | \u001b[0m 9.118   \u001b[0m | \u001b[0m 173.9   \u001b[0m | \u001b[0m 15.34   \u001b[0m | \u001b[0m 48.25   \u001b[0m | \u001b[0m 3.682   \u001b[0m | \u001b[0m 1.571   \u001b[0m | \u001b[0m 0.5959  \u001b[0m |\n",
      "Training until validation scores don't improve for 100 rounds.\n",
      "[100]\ttraining's multi_logloss: 0.806291\ttraining's multi_logloss: 0.806291\tvalid_1's multi_logloss: 0.811684\tvalid_1's multi_logloss: 0.811684\n",
      "[200]\ttraining's multi_logloss: 0.780524\ttraining's multi_logloss: 0.780524\tvalid_1's multi_logloss: 0.794575\tvalid_1's multi_logloss: 0.794575\n",
      "[300]\ttraining's multi_logloss: 0.764022\ttraining's multi_logloss: 0.764022\tvalid_1's multi_logloss: 0.786314\tvalid_1's multi_logloss: 0.786314\n",
      "[400]\ttraining's multi_logloss: 0.750645\ttraining's multi_logloss: 0.750645\tvalid_1's multi_logloss: 0.780602\tvalid_1's multi_logloss: 0.780602\n",
      "[500]\ttraining's multi_logloss: 0.738816\ttraining's multi_logloss: 0.738816\tvalid_1's multi_logloss: 0.775945\tvalid_1's multi_logloss: 0.775945\n",
      "Did not meet early stopping. Best iteration is:\n",
      "[500]\ttraining's multi_logloss: 0.738816\ttraining's multi_logloss: 0.738816\tvalid_1's multi_logloss: 0.775945\tvalid_1's multi_logloss: 0.775945\n",
      "| \u001b[0m 26      \u001b[0m | \u001b[0m 0.395   \u001b[0m | \u001b[0m 0.5941  \u001b[0m | \u001b[0m 268.6   \u001b[0m | \u001b[0m 13.24   \u001b[0m | \u001b[0m 12.23   \u001b[0m | \u001b[0m 11.75   \u001b[0m | \u001b[0m 14.95   \u001b[0m | \u001b[0m 2.045   \u001b[0m | \u001b[0m 1.918   \u001b[0m | \u001b[0m 0.6283  \u001b[0m |\n",
      "Training until validation scores don't improve for 100 rounds.\n",
      "[100]\ttraining's multi_logloss: 0.820178\ttraining's multi_logloss: 0.820178\tvalid_1's multi_logloss: 0.816036\tvalid_1's multi_logloss: 0.816036\n",
      "[200]\ttraining's multi_logloss: 0.811381\ttraining's multi_logloss: 0.811381\tvalid_1's multi_logloss: 0.807646\tvalid_1's multi_logloss: 0.807646\n",
      "[300]\ttraining's multi_logloss: 0.808073\ttraining's multi_logloss: 0.808073\tvalid_1's multi_logloss: 0.804937\tvalid_1's multi_logloss: 0.804937\n",
      "[400]\ttraining's multi_logloss: 0.806944\ttraining's multi_logloss: 0.806944\tvalid_1's multi_logloss: 0.803974\tvalid_1's multi_logloss: 0.803974\n",
      "[500]\ttraining's multi_logloss: 0.806537\ttraining's multi_logloss: 0.806537\tvalid_1's multi_logloss: 0.803635\tvalid_1's multi_logloss: 0.803635\n",
      "Did not meet early stopping. Best iteration is:\n",
      "[500]\ttraining's multi_logloss: 0.806537\ttraining's multi_logloss: 0.806537\tvalid_1's multi_logloss: 0.803635\tvalid_1's multi_logloss: 0.803635\n",
      "| \u001b[0m 27      \u001b[0m | \u001b[0m 0.389   \u001b[0m | \u001b[0m 0.9466  \u001b[0m | \u001b[0m 24.29   \u001b[0m | \u001b[0m 14.5    \u001b[0m | \u001b[0m 193.6   \u001b[0m | \u001b[0m 35.64   \u001b[0m | \u001b[0m 56.31   \u001b[0m | \u001b[0m 49.59   \u001b[0m | \u001b[0m 7.593   \u001b[0m | \u001b[0m 0.8657  \u001b[0m |\n",
      "Training until validation scores don't improve for 100 rounds.\n",
      "[100]\ttraining's multi_logloss: 0.768912\ttraining's multi_logloss: 0.768912\tvalid_1's multi_logloss: 0.794668\tvalid_1's multi_logloss: 0.794668\n",
      "[200]\ttraining's multi_logloss: 0.722322\ttraining's multi_logloss: 0.722322\tvalid_1's multi_logloss: 0.773129\tvalid_1's multi_logloss: 0.773129\n",
      "[300]\ttraining's multi_logloss: 0.690134\ttraining's multi_logloss: 0.690134\tvalid_1's multi_logloss: 0.76182\tvalid_1's multi_logloss: 0.76182\n",
      "[400]\ttraining's multi_logloss: 0.664064\ttraining's multi_logloss: 0.664064\tvalid_1's multi_logloss: 0.754315\tvalid_1's multi_logloss: 0.754315\n",
      "[500]\ttraining's multi_logloss: 0.643005\ttraining's multi_logloss: 0.643005\tvalid_1's multi_logloss: 0.748935\tvalid_1's multi_logloss: 0.748935\n",
      "Did not meet early stopping. Best iteration is:\n",
      "[500]\ttraining's multi_logloss: 0.643005\ttraining's multi_logloss: 0.643005\tvalid_1's multi_logloss: 0.748935\tvalid_1's multi_logloss: 0.748935\n",
      "| \u001b[0m 28      \u001b[0m | \u001b[0m 0.4341  \u001b[0m | \u001b[0m 0.8495  \u001b[0m | \u001b[0m 424.4   \u001b[0m | \u001b[0m 15.06   \u001b[0m | \u001b[0m 14.38   \u001b[0m | \u001b[0m 7.972   \u001b[0m | \u001b[0m 62.57   \u001b[0m | \u001b[0m 6.074   \u001b[0m | \u001b[0m 8.99    \u001b[0m | \u001b[0m 0.7597  \u001b[0m |\n",
      "Training until validation scores don't improve for 100 rounds.\n",
      "[100]\ttraining's multi_logloss: 0.750663\ttraining's multi_logloss: 0.750663\tvalid_1's multi_logloss: 0.787771\tvalid_1's multi_logloss: 0.787771\n",
      "[200]\ttraining's multi_logloss: 0.695277\ttraining's multi_logloss: 0.695277\tvalid_1's multi_logloss: 0.76453\tvalid_1's multi_logloss: 0.76453\n",
      "[300]\ttraining's multi_logloss: 0.6572\ttraining's multi_logloss: 0.6572\tvalid_1's multi_logloss: 0.753172\tvalid_1's multi_logloss: 0.753172\n",
      "[400]\ttraining's multi_logloss: 0.626733\ttraining's multi_logloss: 0.626733\tvalid_1's multi_logloss: 0.745677\tvalid_1's multi_logloss: 0.745677\n",
      "[500]\ttraining's multi_logloss: 0.601958\ttraining's multi_logloss: 0.601958\tvalid_1's multi_logloss: 0.740013\tvalid_1's multi_logloss: 0.740013\n",
      "Did not meet early stopping. Best iteration is:\n",
      "[500]\ttraining's multi_logloss: 0.601958\ttraining's multi_logloss: 0.601958\tvalid_1's multi_logloss: 0.740013\tvalid_1's multi_logloss: 0.740013\n",
      "| \u001b[95m 29      \u001b[0m | \u001b[95m 0.4593  \u001b[0m | \u001b[95m 0.7675  \u001b[0m | \u001b[95m 269.6   \u001b[0m | \u001b[95m 13.9    \u001b[0m | \u001b[95m 68.27   \u001b[0m | \u001b[95m 9.013   \u001b[0m | \u001b[95m 63.15   \u001b[0m | \u001b[95m 1.764   \u001b[0m | \u001b[95m 0.6887  \u001b[0m | \u001b[95m 0.501   \u001b[0m |\n",
      "Training until validation scores don't improve for 100 rounds.\n",
      "[100]\ttraining's multi_logloss: 0.762417\ttraining's multi_logloss: 0.762417\tvalid_1's multi_logloss: 0.79518\tvalid_1's multi_logloss: 0.79518\n",
      "[200]\ttraining's multi_logloss: 0.709789\ttraining's multi_logloss: 0.709789\tvalid_1's multi_logloss: 0.770448\tvalid_1's multi_logloss: 0.770448\n",
      "[300]\ttraining's multi_logloss: 0.673662\ttraining's multi_logloss: 0.673662\tvalid_1's multi_logloss: 0.757853\tvalid_1's multi_logloss: 0.757853\n",
      "[400]\ttraining's multi_logloss: 0.645055\ttraining's multi_logloss: 0.645055\tvalid_1's multi_logloss: 0.749302\tvalid_1's multi_logloss: 0.749302\n",
      "[500]\ttraining's multi_logloss: 0.621648\ttraining's multi_logloss: 0.621648\tvalid_1's multi_logloss: 0.743416\tvalid_1's multi_logloss: 0.743416\n",
      "Did not meet early stopping. Best iteration is:\n",
      "[500]\ttraining's multi_logloss: 0.621648\ttraining's multi_logloss: 0.621648\tvalid_1's multi_logloss: 0.743416\tvalid_1's multi_logloss: 0.743416\n",
      "| \u001b[0m 30      \u001b[0m | \u001b[0m 0.4452  \u001b[0m | \u001b[0m 0.6069  \u001b[0m | \u001b[0m 499.3   \u001b[0m | \u001b[0m 11.71   \u001b[0m | \u001b[0m 79.52   \u001b[0m | \u001b[0m 4.651   \u001b[0m | \u001b[0m 63.13   \u001b[0m | \u001b[0m 2.651   \u001b[0m | \u001b[0m 1.004   \u001b[0m | \u001b[0m 0.5101  \u001b[0m |\n",
      "=====================================================================================================================================\n"
     ]
    }
   ],
   "source": [
    "# BayesianOptimization객체를 수행할 함수와 search할 parameter 범위를 설정하여 생성. \n",
    "lgbBO = BayesianOptimization(lgb_roc_eval,bayesian_params , random_state=0)\n",
    "# 함수 반환값이 최대가 되는 입력값 유추를 위한 iteration 수행. \n",
    "lgbBO.maximize(init_points=5, n_iter=25)"
   ]
  },
  {
   "cell_type": "code",
   "execution_count": null,
   "metadata": {
    "id": "16lhW6ZSJjol"
   },
   "outputs": [],
   "source": [
    "# # BayesianOptimization객체의 res는 iteration 수행 시마다 모든 함수 반환결과와 그때의 파라미터 결과값을 가지고 있음. \n",
    "# lgbBO.res"
   ]
  },
  {
   "cell_type": "code",
   "execution_count": null,
   "metadata": {
    "colab": {
     "base_uri": "https://localhost:8080/"
    },
    "id": "61C1XY2hJoE6",
    "outputId": "bb44eae4-c48c-4675-d3c9-9b05c9df3719"
   },
   "outputs": [
    {
     "name": "stdout",
     "output_type": "stream",
     "text": [
      "[0.39310358423113767, 0.39441700260112666, 0.4254950004385709, 0.39398746212125385, 0.39218605591475236, 0.4278552654364703, 0.39986437152144205, 0.39123488405038903, 0.39166532916031355, 0.39858666492111744, 0.3940661137894117, 0.4074813165507636, 0.39447691184675, 0.38915740945661303, 0.40743508524875766, 0.392053098098796, 0.44955335795197554, 0.42868147447494015, 0.40435639122005035, 0.424382549450906, 0.39986437152144205, 0.3932907064266746, 0.41667842790265697, 0.39193983365856305, 0.41171917313673373, 0.3949625879008734, 0.38898929574544877, 0.43412238698385447, 0.4592501526858131, 0.4451859331322828]\n",
      "maximum target index: 28\n"
     ]
    }
   ],
   "source": [
    "# dictionary에 있는 target값을 모두 추출\n",
    "target_list = []\n",
    "for result in lgbBO.res:\n",
    "    target = result['target']\n",
    "    target_list.append(target)\n",
    "print(target_list)\n",
    "# 가장 큰 target 값을 가지는 순번(index)를 추출\n",
    "print('maximum target index:', np.argmax(np.array(target_list)))"
   ]
  },
  {
   "cell_type": "code",
   "execution_count": null,
   "metadata": {
    "colab": {
     "base_uri": "https://localhost:8080/"
    },
    "id": "CwHuU8LkJxAP",
    "outputId": "5bd5772e-4f23-417a-942c-77e63e925261"
   },
   "outputs": [
    {
     "name": "stdout",
     "output_type": "stream",
     "text": [
      "{'target': 0.4592501526858131, 'params': {'colsample_bytree': 0.7674567512954314, 'max_bin': 269.6109200398602, 'max_depth': 13.896975914831401, 'min_child_samples': 68.26720342186422, 'min_child_weight': 9.013217831887559, 'num_leaves': 63.152516494223335, 'reg_alpha': 1.7639768328775685, 'reg_lambda': 0.688724140896305, 'subsample': 0.5009743194948411}}\n"
     ]
    }
   ],
   "source": [
    "max_dict = lgbBO.res[np.argmax(np.array(target_list))]\n",
    "print(max_dict)"
   ]
  },
  {
   "cell_type": "markdown",
   "metadata": {
    "id": "Onk3TMdaFPD5"
   },
   "source": [
    "#### 5-2 최적의 파라미터로 학습/예측 한번만 시행 "
   ]
  },
  {
   "cell_type": "code",
   "execution_count": null,
   "metadata": {
    "id": "V4Nb2EhbLgj3"
   },
   "outputs": [],
   "source": [
    "# 최적화된 하이퍼 파라미터를 기반으로 재 테스트\n",
    "# tunning_5 버전 \n",
    "def train_all(train):\n",
    "    ftr_train = train.drop(['index', 'credit'], axis=1)\n",
    "    target_train = train['credit']\n",
    "\n",
    "    train_x, valid_x, train_y, valid_y = train_test_split(ftr_train, target_train, test_size=0.3, random_state=2020)\n",
    "    print('train shape:', train_x.shape, 'valid shape:', valid_x.shape)\n",
    "    clf = LGBMClassifier(\n",
    "                nthread=4,\n",
    "                n_estimators=1000,\n",
    "                learning_rate=0.02,\n",
    "                max_depth = 15,\n",
    "                num_leaves=58,\n",
    "                colsample_bytree=0.870,\n",
    "                subsample=0.674,\n",
    "                max_bin=91,\n",
    "                reg_alpha=1.841,\n",
    "                reg_lambda=0.039,\n",
    "                min_child_weight=2,\n",
    "                min_child_samples=13,\n",
    "                silent=-1,\n",
    "                verbose=-1,\n",
    "                )\n",
    "\n",
    "    clf.fit(train_x, train_y, eval_set=[(train_x, train_y), (valid_x, valid_y)], eval_metric= 'logloss', verbose= 100, \n",
    "                early_stopping_rounds= 100)\n",
    "    \n",
    "    return clf"
   ]
  },
  {
   "cell_type": "code",
   "execution_count": null,
   "metadata": {
    "id": "SCQm4BcGTD9Q"
   },
   "outputs": [],
   "source": [
    "# 최적화된 하이퍼 파라미터를 기반으로 재 테스트\n",
    "# tunning_3_2 버전 \n",
    "def train_all(train):\n",
    "    ftr_train = train.drop(['index', 'credit'], axis=1)\n",
    "    target_train = train['credit']\n",
    "\n",
    "    train_x, valid_x, train_y, valid_y = train_test_split(ftr_train, target_train, test_size=0.3, random_state=2020)\n",
    "    print('train shape:', train_x.shape, 'valid shape:', valid_x.shape)\n",
    "    clf = LGBMClassifier(\n",
    "                nthread=4,\n",
    "                n_estimators=1000,\n",
    "                learning_rate=0.02,\n",
    "                max_depth = 14,\n",
    "                num_leaves=63,\n",
    "                colsample_bytree=0.767,\n",
    "                subsample=0.501,\n",
    "                max_bin=270,\n",
    "                reg_alpha=1.764,\n",
    "                reg_lambda=0.689,\n",
    "                min_child_weight=9,\n",
    "                min_child_samples=68,\n",
    "                silent=-1,\n",
    "                verbose=-1,\n",
    "                )\n",
    "\n",
    "    clf.fit(train_x, train_y, eval_set=[(train_x, train_y), (valid_x, valid_y)], eval_metric= 'logloss', verbose= 100, \n",
    "                early_stopping_rounds= 100)\n",
    "    \n",
    "    return clf"
   ]
  },
  {
   "cell_type": "code",
   "execution_count": null,
   "metadata": {
    "colab": {
     "base_uri": "https://localhost:8080/"
    },
    "id": "zV3K5FMzeQKN",
    "outputId": "ec720910-4ee3-4bf2-db76-00b1281a94e3"
   },
   "outputs": [
    {
     "data": {
      "text/plain": [
       "((26457, 30), (10000, 29))"
      ]
     },
     "execution_count": 66,
     "metadata": {
      "tags": []
     },
     "output_type": "execute_result"
    }
   ],
   "source": [
    "train = data[~data['credit'].isnull()]\n",
    "test = data[data['credit'].isnull()]\n",
    "test = test.drop('credit', axis=1)\n",
    "train.shape , test.shape "
   ]
  },
  {
   "cell_type": "code",
   "execution_count": null,
   "metadata": {
    "colab": {
     "base_uri": "https://localhost:8080/"
    },
    "id": "e6I90N7ed0x8",
    "outputId": "54c77b43-5975-475b-b908-520fc639aeb9"
   },
   "outputs": [
    {
     "name": "stdout",
     "output_type": "stream",
     "text": [
      "train shape: (18519, 28) valid shape: (7938, 28)\n",
      "Training until validation scores don't improve for 100 rounds.\n",
      "[100]\ttraining's multi_logloss: 0.747335\ttraining's multi_logloss: 0.747335\tvalid_1's multi_logloss: 0.796219\tvalid_1's multi_logloss: 0.796219\n",
      "[200]\ttraining's multi_logloss: 0.69278\ttraining's multi_logloss: 0.69278\tvalid_1's multi_logloss: 0.774333\tvalid_1's multi_logloss: 0.774333\n",
      "[300]\ttraining's multi_logloss: 0.653517\ttraining's multi_logloss: 0.653517\tvalid_1's multi_logloss: 0.763178\tvalid_1's multi_logloss: 0.763178\n",
      "[400]\ttraining's multi_logloss: 0.62304\ttraining's multi_logloss: 0.62304\tvalid_1's multi_logloss: 0.756523\tvalid_1's multi_logloss: 0.756523\n",
      "[500]\ttraining's multi_logloss: 0.597562\ttraining's multi_logloss: 0.597562\tvalid_1's multi_logloss: 0.75112\tvalid_1's multi_logloss: 0.75112\n",
      "[600]\ttraining's multi_logloss: 0.574393\ttraining's multi_logloss: 0.574393\tvalid_1's multi_logloss: 0.746415\tvalid_1's multi_logloss: 0.746415\n",
      "[700]\ttraining's multi_logloss: 0.553762\ttraining's multi_logloss: 0.553762\tvalid_1's multi_logloss: 0.743361\tvalid_1's multi_logloss: 0.743361\n",
      "[800]\ttraining's multi_logloss: 0.535636\ttraining's multi_logloss: 0.535636\tvalid_1's multi_logloss: 0.741101\tvalid_1's multi_logloss: 0.741101\n",
      "[900]\ttraining's multi_logloss: 0.518494\ttraining's multi_logloss: 0.518494\tvalid_1's multi_logloss: 0.740053\tvalid_1's multi_logloss: 0.740053\n",
      "[1000]\ttraining's multi_logloss: 0.502668\ttraining's multi_logloss: 0.502668\tvalid_1's multi_logloss: 0.739151\tvalid_1's multi_logloss: 0.739151\n",
      "Did not meet early stopping. Best iteration is:\n",
      "[1000]\ttraining's multi_logloss: 0.502668\ttraining's multi_logloss: 0.502668\tvalid_1's multi_logloss: 0.739151\tvalid_1's multi_logloss: 0.739151\n"
     ]
    }
   ],
   "source": [
    "clf = train_all(train)"
   ]
  },
  {
   "cell_type": "code",
   "execution_count": null,
   "metadata": {
    "id": "XpmJSHRxCozY"
   },
   "outputs": [],
   "source": [
    "submission = pd.read_csv('/content/data/sample_submission.csv')"
   ]
  },
  {
   "cell_type": "code",
   "execution_count": null,
   "metadata": {
    "id": "ThfO2hoHCp4l"
   },
   "outputs": [],
   "source": [
    "predictions = clf.predict_proba(test.drop('index', axis=1))\n",
    "submission.iloc[:, 1:] = predictions\n",
    "submission.to_csv('submission_try02_tunning_5.csv', index=False)"
   ]
  },
  {
   "cell_type": "markdown",
   "metadata": {
    "id": "EFveLon_Fm5z"
   },
   "source": [
    "#### 5-3. 최적의 파라미터로 OOF 검증하여 학습/예측 시행 "
   ]
  },
  {
   "cell_type": "code",
   "execution_count": null,
   "metadata": {
    "id": "IsRPMfhHFj2H"
   },
   "outputs": [],
   "source": [
    "from sklearn.model_selection import StratifiedKFold\n",
    "\n",
    "def train_apps_all_with_oof(train, test, nfolds=5):\n",
    "    ftr_train = train.drop(['index', 'credit'], axis=1)\n",
    "    target_train = train['credit']\n",
    "\n",
    "    # nfolds 개의 cross validatin fold set을 가지는 KFold 생성 \n",
    "    folds = StratifiedKFold(n_splits=nfolds, shuffle=True, random_state=2020)\n",
    "    \n",
    "    #  Out of Folds로 학습된 모델의 validation set을 예측하여 결과 확률을 담을 array 생성.\n",
    "    # validation set가 n_split갯수만큼 있으므로 크기는 ftr_app의 크기가 되어야 함. \n",
    "    # oof_preds = np.zeros(ftr_train.shape[0])  \n",
    "    \n",
    "    # Ouf of Folds로 학습된 모델의 test dataset을 예측하여 결과 확률을 담을 array 생성. \n",
    "    test_preds = np.zeros((test.shape[0], 3))\n",
    "    \n",
    "    # n_estimators를 4000까지 확대. \n",
    "    clf = LGBMClassifier(\n",
    "                  nthread=4,\n",
    "                  n_estimators=4000,\n",
    "                  learning_rate=0.01,\n",
    "                  max_depth = 15,\n",
    "                  num_leaves=58,\n",
    "                  colsample_bytree=0.870,\n",
    "                  subsample=0.674,\n",
    "                  max_bin=91,\n",
    "                  reg_alpha=1.841,\n",
    "                  reg_lambda=0.039,\n",
    "                  min_child_weight=2,\n",
    "                  min_child_samples=13,\n",
    "                  silent=-1,\n",
    "                  verbose=-1,\n",
    "                  )\n",
    "                  \n",
    "    # nfolds 번 cross validation Iteration 반복하면서 OOF 방식으로 학습 및 테스트 데이터 예측\n",
    "    for fold_idx, (train_idx, valid_idx) in enumerate(folds.split(ftr_train, target_train)):\n",
    "        print('##### iteration ', fold_idx, ' 시작')\n",
    "        # 학습용 데이터 세트의 인덱스와 검증용 데이터 세트의 인덱스 추출하여 이를 기반으로 학습/검증 데이터 추출\n",
    "        train_x  = ftr_train.iloc[train_idx, :]\n",
    "        train_y = target_train.iloc[train_idx]\n",
    "        valid_x = ftr_train.iloc[valid_idx, :]\n",
    "        valid_y = target_train.iloc[valid_idx]\n",
    "        \n",
    "        # 추출된 학습/검증 데이터 세트로 모델 학습. early_stopping은 200으로 증가. \n",
    "        clf.fit(train_x, train_y, eval_set=[(train_x, train_y), (valid_x, valid_y)], eval_metric= 'logloss', verbose= 200, \n",
    "                early_stopping_rounds= 200)\n",
    "        # 검증 데이터 세트로 예측된 확률 저장. 사용되지는 않음. \n",
    "        # oof_preds[valid_idx] = clf.predict_proba(valid_x, num_iteration=clf.best_iteration_)[:, 1]       \n",
    "        # 학습된 모델로 테스트 데이터 세트에 예측 확률 계산. \n",
    "        # nfolds 번 반복 실행하므로 평균 확률을 구하기 위해 개별 수행시 마다 수행 횟수로 나눈 확률을 추후에 더해서 최종 평균 확률 계산. \n",
    "        test_preds += clf.predict_proba(test.drop('index', axis=1), num_iteration=clf.best_iteration_)/folds.n_splits\n",
    "        \n",
    "        \n",
    "    return clf, test_preds"
   ]
  },
  {
   "cell_type": "code",
   "execution_count": null,
   "metadata": {
    "colab": {
     "base_uri": "https://localhost:8080/"
    },
    "id": "N1X-qktNFuEW",
    "outputId": "1a2ef2eb-807d-4d69-bc35-6b16d20cae2b"
   },
   "outputs": [
    {
     "name": "stdout",
     "output_type": "stream",
     "text": [
      "##### iteration  0  시작\n",
      "Training until validation scores don't improve for 200 rounds.\n",
      "[200]\ttraining's multi_logloss: 0.74641\ttraining's multi_logloss: 0.74641\tvalid_1's multi_logloss: 0.794658\tvalid_1's multi_logloss: 0.794658\n",
      "[400]\ttraining's multi_logloss: 0.695127\ttraining's multi_logloss: 0.695127\tvalid_1's multi_logloss: 0.774351\tvalid_1's multi_logloss: 0.774351\n",
      "[600]\ttraining's multi_logloss: 0.660807\ttraining's multi_logloss: 0.660807\tvalid_1's multi_logloss: 0.764565\tvalid_1's multi_logloss: 0.764565\n",
      "[800]\ttraining's multi_logloss: 0.630844\ttraining's multi_logloss: 0.630844\tvalid_1's multi_logloss: 0.757602\tvalid_1's multi_logloss: 0.757602\n",
      "[1000]\ttraining's multi_logloss: 0.605362\ttraining's multi_logloss: 0.605362\tvalid_1's multi_logloss: 0.751738\tvalid_1's multi_logloss: 0.751738\n",
      "[1200]\ttraining's multi_logloss: 0.583417\ttraining's multi_logloss: 0.583417\tvalid_1's multi_logloss: 0.748062\tvalid_1's multi_logloss: 0.748062\n",
      "[1400]\ttraining's multi_logloss: 0.563644\ttraining's multi_logloss: 0.563644\tvalid_1's multi_logloss: 0.744123\tvalid_1's multi_logloss: 0.744123\n",
      "[1600]\ttraining's multi_logloss: 0.546173\ttraining's multi_logloss: 0.546173\tvalid_1's multi_logloss: 0.742087\tvalid_1's multi_logloss: 0.742087\n",
      "[1800]\ttraining's multi_logloss: 0.53035\ttraining's multi_logloss: 0.53035\tvalid_1's multi_logloss: 0.740805\tvalid_1's multi_logloss: 0.740805\n",
      "[2000]\ttraining's multi_logloss: 0.51504\ttraining's multi_logloss: 0.51504\tvalid_1's multi_logloss: 0.739797\tvalid_1's multi_logloss: 0.739797\n",
      "[2200]\ttraining's multi_logloss: 0.501068\ttraining's multi_logloss: 0.501068\tvalid_1's multi_logloss: 0.738585\tvalid_1's multi_logloss: 0.738585\n",
      "[2400]\ttraining's multi_logloss: 0.48794\ttraining's multi_logloss: 0.48794\tvalid_1's multi_logloss: 0.737565\tvalid_1's multi_logloss: 0.737565\n",
      "[2600]\ttraining's multi_logloss: 0.47525\ttraining's multi_logloss: 0.47525\tvalid_1's multi_logloss: 0.737296\tvalid_1's multi_logloss: 0.737296\n",
      "Early stopping, best iteration is:\n",
      "[2493]\ttraining's multi_logloss: 0.482069\ttraining's multi_logloss: 0.482069\tvalid_1's multi_logloss: 0.737195\tvalid_1's multi_logloss: 0.737195\n",
      "##### iteration  1  시작\n",
      "Training until validation scores don't improve for 200 rounds.\n",
      "[200]\ttraining's multi_logloss: 0.74833\ttraining's multi_logloss: 0.74833\tvalid_1's multi_logloss: 0.78844\tvalid_1's multi_logloss: 0.78844\n",
      "[400]\ttraining's multi_logloss: 0.697511\ttraining's multi_logloss: 0.697511\tvalid_1's multi_logloss: 0.766831\tvalid_1's multi_logloss: 0.766831\n",
      "[600]\ttraining's multi_logloss: 0.661598\ttraining's multi_logloss: 0.661598\tvalid_1's multi_logloss: 0.754102\tvalid_1's multi_logloss: 0.754102\n",
      "[800]\ttraining's multi_logloss: 0.631859\ttraining's multi_logloss: 0.631859\tvalid_1's multi_logloss: 0.745065\tvalid_1's multi_logloss: 0.745065\n",
      "[1000]\ttraining's multi_logloss: 0.606446\ttraining's multi_logloss: 0.606446\tvalid_1's multi_logloss: 0.739311\tvalid_1's multi_logloss: 0.739311\n",
      "[1200]\ttraining's multi_logloss: 0.583907\ttraining's multi_logloss: 0.583907\tvalid_1's multi_logloss: 0.734857\tvalid_1's multi_logloss: 0.734857\n",
      "[1400]\ttraining's multi_logloss: 0.563944\ttraining's multi_logloss: 0.563944\tvalid_1's multi_logloss: 0.730965\tvalid_1's multi_logloss: 0.730965\n",
      "[1600]\ttraining's multi_logloss: 0.546264\ttraining's multi_logloss: 0.546264\tvalid_1's multi_logloss: 0.728775\tvalid_1's multi_logloss: 0.728775\n",
      "[1800]\ttraining's multi_logloss: 0.529452\ttraining's multi_logloss: 0.529452\tvalid_1's multi_logloss: 0.727051\tvalid_1's multi_logloss: 0.727051\n",
      "[2000]\ttraining's multi_logloss: 0.513707\ttraining's multi_logloss: 0.513707\tvalid_1's multi_logloss: 0.725784\tvalid_1's multi_logloss: 0.725784\n",
      "[2200]\ttraining's multi_logloss: 0.499124\ttraining's multi_logloss: 0.499124\tvalid_1's multi_logloss: 0.725171\tvalid_1's multi_logloss: 0.725171\n",
      "[2400]\ttraining's multi_logloss: 0.485716\ttraining's multi_logloss: 0.485716\tvalid_1's multi_logloss: 0.724695\tvalid_1's multi_logloss: 0.724695\n",
      "[2600]\ttraining's multi_logloss: 0.473263\ttraining's multi_logloss: 0.473263\tvalid_1's multi_logloss: 0.724894\tvalid_1's multi_logloss: 0.724894\n",
      "Early stopping, best iteration is:\n",
      "[2417]\ttraining's multi_logloss: 0.48457\ttraining's multi_logloss: 0.48457\tvalid_1's multi_logloss: 0.724619\tvalid_1's multi_logloss: 0.724619\n",
      "##### iteration  2  시작\n",
      "Training until validation scores don't improve for 200 rounds.\n",
      "[200]\ttraining's multi_logloss: 0.74887\ttraining's multi_logloss: 0.74887\tvalid_1's multi_logloss: 0.786353\tvalid_1's multi_logloss: 0.786353\n",
      "[400]\ttraining's multi_logloss: 0.697423\ttraining's multi_logloss: 0.697423\tvalid_1's multi_logloss: 0.763558\tvalid_1's multi_logloss: 0.763558\n",
      "[600]\ttraining's multi_logloss: 0.662228\ttraining's multi_logloss: 0.662228\tvalid_1's multi_logloss: 0.752119\tvalid_1's multi_logloss: 0.752119\n",
      "[800]\ttraining's multi_logloss: 0.632895\ttraining's multi_logloss: 0.632895\tvalid_1's multi_logloss: 0.744089\tvalid_1's multi_logloss: 0.744089\n",
      "[1000]\ttraining's multi_logloss: 0.607821\ttraining's multi_logloss: 0.607821\tvalid_1's multi_logloss: 0.737612\tvalid_1's multi_logloss: 0.737612\n",
      "[1200]\ttraining's multi_logloss: 0.585625\ttraining's multi_logloss: 0.585625\tvalid_1's multi_logloss: 0.732883\tvalid_1's multi_logloss: 0.732883\n",
      "[1400]\ttraining's multi_logloss: 0.565648\ttraining's multi_logloss: 0.565648\tvalid_1's multi_logloss: 0.72884\tvalid_1's multi_logloss: 0.72884\n",
      "[1600]\ttraining's multi_logloss: 0.548053\ttraining's multi_logloss: 0.548053\tvalid_1's multi_logloss: 0.726643\tvalid_1's multi_logloss: 0.726643\n",
      "[1800]\ttraining's multi_logloss: 0.531714\ttraining's multi_logloss: 0.531714\tvalid_1's multi_logloss: 0.724264\tvalid_1's multi_logloss: 0.724264\n",
      "[2000]\ttraining's multi_logloss: 0.516073\ttraining's multi_logloss: 0.516073\tvalid_1's multi_logloss: 0.722523\tvalid_1's multi_logloss: 0.722523\n",
      "[2200]\ttraining's multi_logloss: 0.50199\ttraining's multi_logloss: 0.50199\tvalid_1's multi_logloss: 0.721113\tvalid_1's multi_logloss: 0.721113\n",
      "[2400]\ttraining's multi_logloss: 0.488366\ttraining's multi_logloss: 0.488366\tvalid_1's multi_logloss: 0.720218\tvalid_1's multi_logloss: 0.720218\n",
      "[2600]\ttraining's multi_logloss: 0.475152\ttraining's multi_logloss: 0.475152\tvalid_1's multi_logloss: 0.719472\tvalid_1's multi_logloss: 0.719472\n",
      "[2800]\ttraining's multi_logloss: 0.46324\ttraining's multi_logloss: 0.46324\tvalid_1's multi_logloss: 0.719108\tvalid_1's multi_logloss: 0.719108\n",
      "Early stopping, best iteration is:\n",
      "[2790]\ttraining's multi_logloss: 0.463804\ttraining's multi_logloss: 0.463804\tvalid_1's multi_logloss: 0.71907\tvalid_1's multi_logloss: 0.71907\n",
      "##### iteration  3  시작\n",
      "Training until validation scores don't improve for 200 rounds.\n",
      "[200]\ttraining's multi_logloss: 0.749253\ttraining's multi_logloss: 0.749253\tvalid_1's multi_logloss: 0.781564\tvalid_1's multi_logloss: 0.781564\n",
      "[400]\ttraining's multi_logloss: 0.697934\ttraining's multi_logloss: 0.697934\tvalid_1's multi_logloss: 0.758002\tvalid_1's multi_logloss: 0.758002\n",
      "[600]\ttraining's multi_logloss: 0.663015\ttraining's multi_logloss: 0.663015\tvalid_1's multi_logloss: 0.747689\tvalid_1's multi_logloss: 0.747689\n",
      "[800]\ttraining's multi_logloss: 0.632644\ttraining's multi_logloss: 0.632644\tvalid_1's multi_logloss: 0.738698\tvalid_1's multi_logloss: 0.738698\n",
      "[1000]\ttraining's multi_logloss: 0.606012\ttraining's multi_logloss: 0.606012\tvalid_1's multi_logloss: 0.730894\tvalid_1's multi_logloss: 0.730894\n",
      "[1200]\ttraining's multi_logloss: 0.583693\ttraining's multi_logloss: 0.583693\tvalid_1's multi_logloss: 0.725809\tvalid_1's multi_logloss: 0.725809\n",
      "[1400]\ttraining's multi_logloss: 0.563634\ttraining's multi_logloss: 0.563634\tvalid_1's multi_logloss: 0.72186\tvalid_1's multi_logloss: 0.72186\n",
      "[1600]\ttraining's multi_logloss: 0.545793\ttraining's multi_logloss: 0.545793\tvalid_1's multi_logloss: 0.719074\tvalid_1's multi_logloss: 0.719074\n",
      "[1800]\ttraining's multi_logloss: 0.528916\ttraining's multi_logloss: 0.528916\tvalid_1's multi_logloss: 0.717204\tvalid_1's multi_logloss: 0.717204\n",
      "[2000]\ttraining's multi_logloss: 0.513653\ttraining's multi_logloss: 0.513653\tvalid_1's multi_logloss: 0.71516\tvalid_1's multi_logloss: 0.71516\n",
      "[2200]\ttraining's multi_logloss: 0.499395\ttraining's multi_logloss: 0.499395\tvalid_1's multi_logloss: 0.713757\tvalid_1's multi_logloss: 0.713757\n",
      "[2400]\ttraining's multi_logloss: 0.48667\ttraining's multi_logloss: 0.48667\tvalid_1's multi_logloss: 0.712146\tvalid_1's multi_logloss: 0.712146\n",
      "[2600]\ttraining's multi_logloss: 0.474561\ttraining's multi_logloss: 0.474561\tvalid_1's multi_logloss: 0.712015\tvalid_1's multi_logloss: 0.712015\n",
      "Early stopping, best iteration is:\n",
      "[2457]\ttraining's multi_logloss: 0.483073\ttraining's multi_logloss: 0.483073\tvalid_1's multi_logloss: 0.711879\tvalid_1's multi_logloss: 0.711879\n",
      "##### iteration  4  시작\n",
      "Training until validation scores don't improve for 200 rounds.\n",
      "[200]\ttraining's multi_logloss: 0.749816\ttraining's multi_logloss: 0.749816\tvalid_1's multi_logloss: 0.786283\tvalid_1's multi_logloss: 0.786283\n",
      "[400]\ttraining's multi_logloss: 0.698903\ttraining's multi_logloss: 0.698903\tvalid_1's multi_logloss: 0.7633\tvalid_1's multi_logloss: 0.7633\n",
      "[600]\ttraining's multi_logloss: 0.664431\ttraining's multi_logloss: 0.664431\tvalid_1's multi_logloss: 0.750436\tvalid_1's multi_logloss: 0.750436\n",
      "[800]\ttraining's multi_logloss: 0.634847\ttraining's multi_logloss: 0.634847\tvalid_1's multi_logloss: 0.740972\tvalid_1's multi_logloss: 0.740972\n",
      "[1000]\ttraining's multi_logloss: 0.610473\ttraining's multi_logloss: 0.610473\tvalid_1's multi_logloss: 0.733618\tvalid_1's multi_logloss: 0.733618\n",
      "[1200]\ttraining's multi_logloss: 0.588353\ttraining's multi_logloss: 0.588353\tvalid_1's multi_logloss: 0.72776\tvalid_1's multi_logloss: 0.72776\n",
      "[1400]\ttraining's multi_logloss: 0.567936\ttraining's multi_logloss: 0.567936\tvalid_1's multi_logloss: 0.722453\tvalid_1's multi_logloss: 0.722453\n",
      "[1600]\ttraining's multi_logloss: 0.550011\ttraining's multi_logloss: 0.550011\tvalid_1's multi_logloss: 0.718536\tvalid_1's multi_logloss: 0.718536\n",
      "[1800]\ttraining's multi_logloss: 0.534045\ttraining's multi_logloss: 0.534045\tvalid_1's multi_logloss: 0.716106\tvalid_1's multi_logloss: 0.716106\n",
      "[2000]\ttraining's multi_logloss: 0.519304\ttraining's multi_logloss: 0.519304\tvalid_1's multi_logloss: 0.713505\tvalid_1's multi_logloss: 0.713505\n",
      "[2200]\ttraining's multi_logloss: 0.5057\ttraining's multi_logloss: 0.5057\tvalid_1's multi_logloss: 0.711984\tvalid_1's multi_logloss: 0.711984\n",
      "[2400]\ttraining's multi_logloss: 0.49276\ttraining's multi_logloss: 0.49276\tvalid_1's multi_logloss: 0.710572\tvalid_1's multi_logloss: 0.710572\n",
      "[2600]\ttraining's multi_logloss: 0.480267\ttraining's multi_logloss: 0.480267\tvalid_1's multi_logloss: 0.709392\tvalid_1's multi_logloss: 0.709392\n",
      "[2800]\ttraining's multi_logloss: 0.468158\ttraining's multi_logloss: 0.468158\tvalid_1's multi_logloss: 0.708402\tvalid_1's multi_logloss: 0.708402\n",
      "[3000]\ttraining's multi_logloss: 0.456675\ttraining's multi_logloss: 0.456675\tvalid_1's multi_logloss: 0.707898\tvalid_1's multi_logloss: 0.707898\n",
      "[3200]\ttraining's multi_logloss: 0.446111\ttraining's multi_logloss: 0.446111\tvalid_1's multi_logloss: 0.707388\tvalid_1's multi_logloss: 0.707388\n",
      "[3400]\ttraining's multi_logloss: 0.436655\ttraining's multi_logloss: 0.436655\tvalid_1's multi_logloss: 0.706991\tvalid_1's multi_logloss: 0.706991\n",
      "[3600]\ttraining's multi_logloss: 0.427201\ttraining's multi_logloss: 0.427201\tvalid_1's multi_logloss: 0.707356\tvalid_1's multi_logloss: 0.707356\n",
      "Early stopping, best iteration is:\n",
      "[3411]\ttraining's multi_logloss: 0.436167\ttraining's multi_logloss: 0.436167\tvalid_1's multi_logloss: 0.706933\tvalid_1's multi_logloss: 0.706933\n"
     ]
    }
   ],
   "source": [
    "clf, test_preds = train_apps_all_with_oof(train, test, nfolds=5)"
   ]
  },
  {
   "cell_type": "code",
   "execution_count": null,
   "metadata": {
    "id": "V17yhjo1F_lM"
   },
   "outputs": [],
   "source": [
    "submission = pd.read_csv('/content/data/sample_submission.csv')"
   ]
  },
  {
   "cell_type": "code",
   "execution_count": null,
   "metadata": {
    "id": "jvvrQIAxGAHK"
   },
   "outputs": [],
   "source": [
    "submission.iloc[:, 1:] = test_preds\n",
    "submission.to_csv('submission_try02_tunning_3_2_oof.csv', index=False)"
   ]
  }
 ],
 "metadata": {
  "colab": {
   "collapsed_sections": [
    "bNuIcdXitE5d",
    "It6o1aN6r40g",
    "rnGApxXRtbn7",
    "ixZxI8-Wsz11"
   ],
   "name": "Dacon_user_credit_prediction.ipynb",
   "provenance": []
  },
  "kernelspec": {
   "display_name": "Python 3",
   "language": "python",
   "name": "python3"
  },
  "language_info": {
   "codemirror_mode": {
    "name": "ipython",
    "version": 3
   },
   "file_extension": ".py",
   "mimetype": "text/x-python",
   "name": "python",
   "nbconvert_exporter": "python",
   "pygments_lexer": "ipython3",
   "version": "3.8.5"
  },
  "toc": {
   "base_numbering": 1,
   "nav_menu": {},
   "number_sections": true,
   "sideBar": true,
   "skip_h1_title": false,
   "title_cell": "Table of Contents",
   "title_sidebar": "Contents",
   "toc_cell": false,
   "toc_position": {},
   "toc_section_display": true,
   "toc_window_display": false
  },
  "varInspector": {
   "cols": {
    "lenName": 16,
    "lenType": 16,
    "lenVar": 40
   },
   "kernels_config": {
    "python": {
     "delete_cmd_postfix": "",
     "delete_cmd_prefix": "del ",
     "library": "var_list.py",
     "varRefreshCmd": "print(var_dic_list())"
    },
    "r": {
     "delete_cmd_postfix": ") ",
     "delete_cmd_prefix": "rm(",
     "library": "var_list.r",
     "varRefreshCmd": "cat(var_dic_list()) "
    }
   },
   "types_to_exclude": [
    "module",
    "function",
    "builtin_function_or_method",
    "instance",
    "_Feature"
   ],
   "window_display": false
  }
 },
 "nbformat": 4,
 "nbformat_minor": 1
}
